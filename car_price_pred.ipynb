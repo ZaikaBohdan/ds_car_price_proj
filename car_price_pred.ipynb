{
 "cells": [
  {
   "attachments": {
    "car_dekho.jpg": {
     "image/jpeg": "[encoded data removed]"
    }
   },
   "cell_type": "markdown",
   "id": "994d509e",
   "metadata": {
    "papermill": {
     "duration": 0.077109,
     "end_time": "2022-03-07T07:52:57.090052",
     "exception": false,
     "start_time": "2022-03-07T07:52:57.012943",
     "status": "completed"
    },
    "tags": []
   },
   "source": [
    "# Building car price prediction model for CarDekho website\n",
    "![car_dekho.jpg](attachment:car_dekho.jpg)\n",
    "## About project\n",
    "[CarDekho](https://www.cardekho.com/) is India's leading car search venture that helps users buy cars. Its website and app carry rich automotive content such as expert reviews, detailed specs and prices, comparisons as well as videos and pictures of all car brands and models available in India. The company has tie-ups with many auto manufacturers, more than 4000 car dealers and numerous financial institutions to facilitate the purchase of vehicles.\n",
    "\n",
    "In this project, we'll collect data about used cars from CarDekho website and use it to build car price prediction model. This model may later be used by CarDekho for suggesting the price of posted by user used car.\n",
    "\n",
    "# Importing necessary libraries for project"
   ]
  },
  {
   "cell_type": "code",
   "execution_count": 1,
   "id": "8d3094e8",
   "metadata": {},
   "outputs": [],
   "source": [
    "import numpy as np\n",
    "import pandas as pd\n",
    "import matplotlib.pyplot as plt\n",
    "import seaborn as sns\n",
    "\n",
    "import re\n",
    "from math import ceil\n",
    "import warnings\n",
    "\n",
    "pd.options.display.max_columns = None"
   ]
  },
  {
   "cell_type": "markdown",
   "id": "e1f2b1a5",
   "metadata": {},
   "source": [
    "# Data Collection\n",
    "\n",
    "Since we don't have access to the database of CarDekho website, there are two main ways to collect data: find existing datasets or scrape data from CarDekho website. Kaggle contains two useful for our case datasets: [Vehicle dataset](https://www.kaggle.com/nehalbirla/vehicle-dataset-from-cardekho?select=Car+details+v3.csv) (\\~8000 rows) and [Used Car Prices in India](https://www.kaggle.com/saisaathvik/used-cars-dataset-from-cardekhocom?select=Cardekho_Extract.csv) (\\~20000 rows). We will use this data for model building, because:\n",
    "* both datasets contain similar columns which will make it easy to union them;\n",
    "* in sum it is about 28000 rows, which is enough for model building;\n",
    "* using existing datasets takes less time than scraping new from website;\n",
    "* according to Kaggle, ~30% of used cars from [Vehicle dataset](https://www.kaggle.com/nehalbirla/vehicle-dataset-from-cardekho?select=Car+details+v3.csv) was bought in 2016-2020 and ~16% of used cars from [Used Car Prices in India](https://www.kaggle.com/saisaathvik/used-cars-dataset-from-cardekhocom?select=Cardekho_Extract.csv) was bought in 2018-2021. Therefore the data is fresh enough.\n",
    "\n",
    "## Importing the datasets\n",
    "\n",
    "We'll start by taking a look at first rows and shapes of datasets.\n",
    "\n",
    "### Vehicle dataset"
   ]
  },
  {
   "cell_type": "code",
   "execution_count": 2,
   "id": "61fad768",
   "metadata": {
    "execution": {
     "iopub.execute_input": "2022-03-07T07:52:59.073196Z",
     "iopub.status.busy": "2022-03-07T07:52:59.072528Z",
     "iopub.status.idle": "2022-03-07T07:52:59.126838Z",
     "shell.execute_reply": "2022-03-07T07:52:59.126107Z",
     "shell.execute_reply.started": "2021-07-25T16:48:56.100425Z"
    },
    "papermill": {
     "duration": 0.122464,
     "end_time": "2022-03-07T07:52:59.127012",
     "exception": false,
     "start_time": "2022-03-07T07:52:59.004548",
     "status": "completed"
    },
    "scrolled": true,
    "tags": []
   },
   "outputs": [
    {
     "data": {
      "text/html": [
       "<div>\n",
       "<style scoped>\n",
       "    .dataframe tbody tr th:only-of-type {\n",
       "        vertical-align: middle;\n",
       "    }\n",
       "\n",
       "    .dataframe tbody tr th {\n",
       "        vertical-align: top;\n",
       "    }\n",
       "\n",
       "    .dataframe thead th {\n",
       "        text-align: right;\n",
       "    }\n",
       "</style>\n",
       "<table border=\"1\" class=\"dataframe\">\n",
       "  <thead>\n",
       "    <tr style=\"text-align: right;\">\n",
       "      <th></th>\n",
       "      <th>name</th>\n",
       "      <th>year</th>\n",
       "      <th>selling_price</th>\n",
       "      <th>km_driven</th>\n",
       "      <th>fuel</th>\n",
       "      <th>seller_type</th>\n",
       "      <th>transmission</th>\n",
       "      <th>owner</th>\n",
       "      <th>mileage</th>\n",
       "      <th>engine</th>\n",
       "      <th>max_power</th>\n",
       "      <th>torque</th>\n",
       "      <th>seats</th>\n",
       "    </tr>\n",
       "  </thead>\n",
       "  <tbody>\n",
       "    <tr>\n",
       "      <th>0</th>\n",
       "      <td>Maruti Swift Dzire VDI</td>\n",
       "      <td>2014</td>\n",
       "      <td>450000</td>\n",
       "      <td>145500</td>\n",
       "      <td>Diesel</td>\n",
       "      <td>Individual</td>\n",
       "      <td>Manual</td>\n",
       "      <td>First Owner</td>\n",
       "      <td>23.4 kmpl</td>\n",
       "      <td>1248 CC</td>\n",
       "      <td>74 bhp</td>\n",
       "      <td>190Nm@ 2000rpm</td>\n",
       "      <td>5.0</td>\n",
       "    </tr>\n",
       "    <tr>\n",
       "      <th>1</th>\n",
       "      <td>Skoda Rapid 1.5 TDI Ambition</td>\n",
       "      <td>2014</td>\n",
       "      <td>370000</td>\n",
       "      <td>120000</td>\n",
       "      <td>Diesel</td>\n",
       "      <td>Individual</td>\n",
       "      <td>Manual</td>\n",
       "      <td>Second Owner</td>\n",
       "      <td>21.14 kmpl</td>\n",
       "      <td>1498 CC</td>\n",
       "      <td>103.52 bhp</td>\n",
       "      <td>250Nm@ 1500-2500rpm</td>\n",
       "      <td>5.0</td>\n",
       "    </tr>\n",
       "    <tr>\n",
       "      <th>2</th>\n",
       "      <td>Honda City 2017-2020 EXi</td>\n",
       "      <td>2006</td>\n",
       "      <td>158000</td>\n",
       "      <td>140000</td>\n",
       "      <td>Petrol</td>\n",
       "      <td>Individual</td>\n",
       "      <td>Manual</td>\n",
       "      <td>Third Owner</td>\n",
       "      <td>17.7 kmpl</td>\n",
       "      <td>1497 CC</td>\n",
       "      <td>78 bhp</td>\n",
       "      <td>12.7@ 2,700(kgm@ rpm)</td>\n",
       "      <td>5.0</td>\n",
       "    </tr>\n",
       "    <tr>\n",
       "      <th>3</th>\n",
       "      <td>Hyundai i20 Sportz Diesel</td>\n",
       "      <td>2010</td>\n",
       "      <td>225000</td>\n",
       "      <td>127000</td>\n",
       "      <td>Diesel</td>\n",
       "      <td>Individual</td>\n",
       "      <td>Manual</td>\n",
       "      <td>First Owner</td>\n",
       "      <td>23.0 kmpl</td>\n",
       "      <td>1396 CC</td>\n",
       "      <td>90 bhp</td>\n",
       "      <td>22.4 kgm at 1750-2750rpm</td>\n",
       "      <td>5.0</td>\n",
       "    </tr>\n",
       "    <tr>\n",
       "      <th>4</th>\n",
       "      <td>Maruti Swift VXI BSIII</td>\n",
       "      <td>2007</td>\n",
       "      <td>130000</td>\n",
       "      <td>120000</td>\n",
       "      <td>Petrol</td>\n",
       "      <td>Individual</td>\n",
       "      <td>Manual</td>\n",
       "      <td>First Owner</td>\n",
       "      <td>16.1 kmpl</td>\n",
       "      <td>1298 CC</td>\n",
       "      <td>88.2 bhp</td>\n",
       "      <td>11.5@ 4,500(kgm@ rpm)</td>\n",
       "      <td>5.0</td>\n",
       "    </tr>\n",
       "  </tbody>\n",
       "</table>\n",
       "</div>"
      ],
      "text/plain": [
       "                           name  year  selling_price  km_driven    fuel  \\\n",
       "0        Maruti Swift Dzire VDI  2014         450000     145500  Diesel   \n",
       "1  Skoda Rapid 1.5 TDI Ambition  2014         370000     120000  Diesel   \n",
       "2      Honda City 2017-2020 EXi  2006         158000     140000  Petrol   \n",
       "3     Hyundai i20 Sportz Diesel  2010         225000     127000  Diesel   \n",
       "4        Maruti Swift VXI BSIII  2007         130000     120000  Petrol   \n",
       "\n",
       "  seller_type transmission         owner     mileage   engine   max_power  \\\n",
       "0  Individual       Manual   First Owner   23.4 kmpl  1248 CC      74 bhp   \n",
       "1  Individual       Manual  Second Owner  21.14 kmpl  1498 CC  103.52 bhp   \n",
       "2  Individual       Manual   Third Owner   17.7 kmpl  1497 CC      78 bhp   \n",
       "3  Individual       Manual   First Owner   23.0 kmpl  1396 CC      90 bhp   \n",
       "4  Individual       Manual   First Owner   16.1 kmpl  1298 CC    88.2 bhp   \n",
       "\n",
       "                     torque  seats  \n",
       "0            190Nm@ 2000rpm    5.0  \n",
       "1       250Nm@ 1500-2500rpm    5.0  \n",
       "2     12.7@ 2,700(kgm@ rpm)    5.0  \n",
       "3  22.4 kgm at 1750-2750rpm    5.0  \n",
       "4     11.5@ 4,500(kgm@ rpm)    5.0  "
      ]
     },
     "execution_count": 2,
     "metadata": {},
     "output_type": "execute_result"
    }
   ],
   "source": [
    "# read in the data\n",
    "raw_data_1 = pd.read_csv('Car details v3.csv')\n",
    "\n",
    "raw_data_1.head()"
   ]
  },
  {
   "cell_type": "code",
   "execution_count": 3,
   "id": "290d5a0b",
   "metadata": {
    "execution": {
     "iopub.execute_input": "2022-03-07T07:52:59.263086Z",
     "iopub.status.busy": "2022-03-07T07:52:59.262428Z",
     "iopub.status.idle": "2022-03-07T07:52:59.265487Z",
     "shell.execute_reply": "2022-03-07T07:52:59.266033Z",
     "shell.execute_reply.started": "2021-07-25T16:48:56.257839Z"
    },
    "papermill": {
     "duration": 0.071439,
     "end_time": "2022-03-07T07:52:59.266202",
     "exception": false,
     "start_time": "2022-03-07T07:52:59.194763",
     "status": "completed"
    },
    "tags": []
   },
   "outputs": [
    {
     "data": {
      "text/plain": [
       "(8128, 13)"
      ]
     },
     "execution_count": 3,
     "metadata": {},
     "output_type": "execute_result"
    }
   ],
   "source": [
    "# check the shape of dataset\n",
    "raw_data_1.shape"
   ]
  },
  {
   "cell_type": "markdown",
   "id": "3c0081af",
   "metadata": {},
   "source": [
    "Description of fields in Vehicle dataset:\n",
    "* *name* - name of the car\n",
    "* *year* - year in which car was first bought\n",
    "* *selling_price* - selling price of the car\n",
    "* *km_driven* - number of kilometers the car is driven\n",
    "* *fuel* - fuel type of the car\n",
    "* *seller_type* - tells if car is sold by individual or dealer\n",
    "* *transmission* - gear transmission of the car (Automatic/Manual)\n",
    "* *owner* - number of previous owners\n",
    "* *mileage* - mileage of the car\n",
    "* *engine* - engine capacity of the car\n",
    "* *max_power* - max power of engine\n",
    "* *torque* - torque of the car\n",
    "* *seats* - number of seats in the car\n",
    "\n",
    "### Used Car Prices in India dataset"
   ]
  },
  {
   "cell_type": "code",
   "execution_count": 4,
   "id": "4dbba2ba",
   "metadata": {
    "scrolled": true
   },
   "outputs": [
    {
     "data": {
      "text/html": [
       "<div>\n",
       "<style scoped>\n",
       "    .dataframe tbody tr th:only-of-type {\n",
       "        vertical-align: middle;\n",
       "    }\n",
       "\n",
       "    .dataframe tbody tr th {\n",
       "        vertical-align: top;\n",
       "    }\n",
       "\n",
       "    .dataframe thead th {\n",
       "        text-align: right;\n",
       "    }\n",
       "</style>\n",
       "<table border=\"1\" class=\"dataframe\">\n",
       "  <thead>\n",
       "    <tr style=\"text-align: right;\">\n",
       "      <th></th>\n",
       "      <th>Source.Name</th>\n",
       "      <th>web-scraper-order</th>\n",
       "      <th>web-scraper-start-url</th>\n",
       "      <th>full_name</th>\n",
       "      <th>selling_price</th>\n",
       "      <th>new-price</th>\n",
       "      <th>year</th>\n",
       "      <th>seller_type</th>\n",
       "      <th>km_driven</th>\n",
       "      <th>owner_type</th>\n",
       "      <th>fuel_type</th>\n",
       "      <th>transmission_type</th>\n",
       "      <th>mileage</th>\n",
       "      <th>engine</th>\n",
       "      <th>max_power</th>\n",
       "      <th>seats</th>\n",
       "    </tr>\n",
       "  </thead>\n",
       "  <tbody>\n",
       "    <tr>\n",
       "      <th>0</th>\n",
       "      <td>cardekho_extract(0-2000).csv</td>\n",
       "      <td>1611917819-1662</td>\n",
       "      <td>https://www.cardekho.com/used-car-details/used...</td>\n",
       "      <td>Maruti Alto Std</td>\n",
       "      <td>1.2 Lakh*</td>\n",
       "      <td>NaN</td>\n",
       "      <td>2012.0</td>\n",
       "      <td>Individual</td>\n",
       "      <td>1,20,000 kms</td>\n",
       "      <td>First Owner</td>\n",
       "      <td>Petrol</td>\n",
       "      <td>Manual</td>\n",
       "      <td>Mileage19.7 kmpl</td>\n",
       "      <td>Engine796 CC</td>\n",
       "      <td>Max Power46.3 bhp</td>\n",
       "      <td>Seats5</td>\n",
       "    </tr>\n",
       "    <tr>\n",
       "      <th>1</th>\n",
       "      <td>cardekho_extract(0-2000).csv</td>\n",
       "      <td>1611918361-1902</td>\n",
       "      <td>https://www.cardekho.com/used-car-details/used...</td>\n",
       "      <td>Hyundai Grand i10 Asta</td>\n",
       "      <td>5.5 Lakh*</td>\n",
       "      <td>New Car (On-Road Price) : Rs.7.11-7.48 Lakh*</td>\n",
       "      <td>2016.0</td>\n",
       "      <td>Individual</td>\n",
       "      <td>20,000 kms</td>\n",
       "      <td>First Owner</td>\n",
       "      <td>Petrol</td>\n",
       "      <td>Manual</td>\n",
       "      <td>Mileage18.9 kmpl</td>\n",
       "      <td>Engine1197 CC</td>\n",
       "      <td>Max Power82 bhp</td>\n",
       "      <td>Seats5</td>\n",
       "    </tr>\n",
       "    <tr>\n",
       "      <th>2</th>\n",
       "      <td>cardekho_extract(0-2000).csv</td>\n",
       "      <td>1611917012-1306</td>\n",
       "      <td>https://www.cardekho.com/used-car-details/used...</td>\n",
       "      <td>Hyundai i20 Asta</td>\n",
       "      <td>2.15 Lakh*</td>\n",
       "      <td>NaN</td>\n",
       "      <td>2010.0</td>\n",
       "      <td>Individual</td>\n",
       "      <td>60,000 kms</td>\n",
       "      <td>First Owner</td>\n",
       "      <td>Petrol</td>\n",
       "      <td>Manual</td>\n",
       "      <td>Mileage17.0 kmpl</td>\n",
       "      <td>Engine1197 CC</td>\n",
       "      <td>Max Power80 bhp</td>\n",
       "      <td>Seats5</td>\n",
       "    </tr>\n",
       "    <tr>\n",
       "      <th>3</th>\n",
       "      <td>cardekho_extract(0-2000).csv</td>\n",
       "      <td>1611917695-1607</td>\n",
       "      <td>https://www.cardekho.com/used-car-details/used...</td>\n",
       "      <td>Maruti Alto K10 2010-2014 VXI</td>\n",
       "      <td>2.26 Lakh*</td>\n",
       "      <td>NaN</td>\n",
       "      <td>2012.0</td>\n",
       "      <td>Individual</td>\n",
       "      <td>37,000 kms</td>\n",
       "      <td>First Owner</td>\n",
       "      <td>Petrol</td>\n",
       "      <td>Manual</td>\n",
       "      <td>Mileage20.92 kmpl</td>\n",
       "      <td>Engine998 CC</td>\n",
       "      <td>Max Power67.1 bhp</td>\n",
       "      <td>Seats5</td>\n",
       "    </tr>\n",
       "    <tr>\n",
       "      <th>4</th>\n",
       "      <td>cardekho_extract(0-2000).csv</td>\n",
       "      <td>1611914861-367</td>\n",
       "      <td>https://www.cardekho.com/used-car-details/used...</td>\n",
       "      <td>Ford Ecosport 2015-2021 1.5 TDCi Titanium BSIV</td>\n",
       "      <td>5.7 Lakh*</td>\n",
       "      <td>New Car (On-Road Price) : Rs.10.14-13.79 Lakh*</td>\n",
       "      <td>2015.0</td>\n",
       "      <td>Dealer</td>\n",
       "      <td>30,000 kms</td>\n",
       "      <td>First Owner</td>\n",
       "      <td>Diesel</td>\n",
       "      <td>Manual</td>\n",
       "      <td>Mileage22.77 kmpl</td>\n",
       "      <td>Engine1498 CC</td>\n",
       "      <td>Max Power98.59 bhp</td>\n",
       "      <td>Seats5</td>\n",
       "    </tr>\n",
       "  </tbody>\n",
       "</table>\n",
       "</div>"
      ],
      "text/plain": [
       "                    Source.Name web-scraper-order  \\\n",
       "0  cardekho_extract(0-2000).csv   1611917819-1662   \n",
       "1  cardekho_extract(0-2000).csv   1611918361-1902   \n",
       "2  cardekho_extract(0-2000).csv   1611917012-1306   \n",
       "3  cardekho_extract(0-2000).csv   1611917695-1607   \n",
       "4  cardekho_extract(0-2000).csv    1611914861-367   \n",
       "\n",
       "                               web-scraper-start-url  \\\n",
       "0  https://www.cardekho.com/used-car-details/used...   \n",
       "1  https://www.cardekho.com/used-car-details/used...   \n",
       "2  https://www.cardekho.com/used-car-details/used...   \n",
       "3  https://www.cardekho.com/used-car-details/used...   \n",
       "4  https://www.cardekho.com/used-car-details/used...   \n",
       "\n",
       "                                        full_name selling_price  \\\n",
       "0                                 Maruti Alto Std     1.2 Lakh*   \n",
       "1                          Hyundai Grand i10 Asta     5.5 Lakh*   \n",
       "2                                Hyundai i20 Asta    2.15 Lakh*   \n",
       "3                   Maruti Alto K10 2010-2014 VXI    2.26 Lakh*   \n",
       "4  Ford Ecosport 2015-2021 1.5 TDCi Titanium BSIV     5.7 Lakh*   \n",
       "\n",
       "                                        new-price    year seller_type  \\\n",
       "0                                             NaN  2012.0  Individual   \n",
       "1    New Car (On-Road Price) : Rs.7.11-7.48 Lakh*  2016.0  Individual   \n",
       "2                                             NaN  2010.0  Individual   \n",
       "3                                             NaN  2012.0  Individual   \n",
       "4  New Car (On-Road Price) : Rs.10.14-13.79 Lakh*  2015.0      Dealer   \n",
       "\n",
       "      km_driven   owner_type fuel_type transmission_type            mileage  \\\n",
       "0  1,20,000 kms  First Owner    Petrol            Manual   Mileage19.7 kmpl   \n",
       "1    20,000 kms  First Owner    Petrol            Manual   Mileage18.9 kmpl   \n",
       "2    60,000 kms  First Owner    Petrol            Manual   Mileage17.0 kmpl   \n",
       "3    37,000 kms  First Owner    Petrol            Manual  Mileage20.92 kmpl   \n",
       "4    30,000 kms  First Owner    Diesel            Manual  Mileage22.77 kmpl   \n",
       "\n",
       "          engine           max_power   seats  \n",
       "0   Engine796 CC   Max Power46.3 bhp  Seats5  \n",
       "1  Engine1197 CC     Max Power82 bhp  Seats5  \n",
       "2  Engine1197 CC     Max Power80 bhp  Seats5  \n",
       "3   Engine998 CC   Max Power67.1 bhp  Seats5  \n",
       "4  Engine1498 CC  Max Power98.59 bhp  Seats5  "
      ]
     },
     "execution_count": 4,
     "metadata": {},
     "output_type": "execute_result"
    }
   ],
   "source": [
    "# read in the data\n",
    "raw_data_2 = pd.read_csv('Cardekho_Extract.csv')\n",
    "\n",
    "raw_data_2.head()"
   ]
  },
  {
   "cell_type": "code",
   "execution_count": 5,
   "id": "cf927ebd",
   "metadata": {},
   "outputs": [
    {
     "data": {
      "text/plain": [
       "(20026, 16)"
      ]
     },
     "execution_count": 5,
     "metadata": {},
     "output_type": "execute_result"
    }
   ],
   "source": [
    "# check the shape of dataset\n",
    "raw_data_2.shape"
   ]
  },
  {
   "cell_type": "markdown",
   "id": "bb1b910c",
   "metadata": {},
   "source": [
    "Description of fields in Vehicle dataset:\n",
    "* *Source.Name* - invalid field\n",
    "* *web-scraper-order* - row id\n",
    "* *web-scraper-start-url* - url of data source for current row\n",
    "* *full_name* - name of the car\n",
    "* *selling_price* - current selling price of used car\n",
    "* *new-price* - current cost price of brand new car\n",
    "* *year* - year in which car was first bought\n",
    "* *seller_type* - type of seller\n",
    "* *km_driven* - kilometers driven by the car\n",
    "* *owner_type* - number of previous owners\n",
    "* *fuel_type* - fuel type of the car\n",
    "* *transmission_type* - gear transmission of the car (Automatic/Manual)\n",
    "* *mileage* - mileage of the car\n",
    "* *engine* - engine capacity of the car\n",
    "* *max_power* - max horsepower of engine\n",
    "* *seats* - number of seats in the car\n",
    "\n",
    "## Dictionary of units in data\n",
    "* **Lakh** - a unit in the Indian numbering system equal to one hundred thousand (100,000). In the Indian 2,2,3 convention of digit grouping, it is written as 1,00,000. For example, in India 150,000 rupees becomes 1.5 lakh rupees, written as ₹1,50,000 or INR 1,50,000.\n",
    "* **Crore (Cr)** - a unit in the Indian numbering system equal to ten million (10,000,000) or 100 lakh in the Indian numbering system. It is written as 1,00,00,000 with the local 2,2,3 style of digit group separators.\n",
    "* **kmpl** - Kilometers Per Litre is a term use to express the fuel efficiency of a vehicle. Fuel efficiency is defined as the ratio of distance travelled per unit of fuel consumed.\n",
    "* **СС** - The term “cc” stands for Cubic Centimeters or simply cm³ which is a metric unit to measure the Engine's Capacity or its volume. Usually increase power of car.\n",
    "* **bhp** - Traditionally ‘brake horsepower’ (bhp) has been used as the definitive measurement of engine power. It’s distinct from horsepower because it takes into account power loss due to friction – it’s measured by running an engine up to full revs, then letting it naturally slow down to a dead stop.\n",
    "* **nm at rpm** - Torque is rotational force, and since an engine relies on a rotating crank to do its work, torque is the force the engine is able to generate. Modern engines generate different levels of torque at different engine speeds (RPMs, or revolutions per minute that the engine is turning through). It’s expressed in Newton-Metres (Nm), and this is what you actually feel when you’re pushed back into your seat on acceleration. A car brochure will indicate the maximum torque the engine is able to generate, and the specific RPM at which it is generated. For instance, the Maruti Dzire generates 113Nm at 4200RPM (petrol) and 190Nm at 2000RPM (diesel). This means the petrol engine produces less torque at a much higher engine speed than the diesel motor, which produces more at a quite low engine speed. The bottom line: Look for a good torque (over 110Nm) with a low RPM (4,000 or so). 1 kgm = 9.80665 Nm"
   ]
  },
  {
   "cell_type": "markdown",
   "id": "6b8052c8",
   "metadata": {},
   "source": [
    "# Data Cleaning\n",
    "\n",
    "## Plan\n",
    "\n",
    "We will do data cleaning of both datasets by following next steps:\n",
    "1. Find corresponding and non-corresponding columns of both datasets.\n",
    "2. For both datasets separetly:\n",
    "    * Transform  non-null values of corresponding columns to unified format;\n",
    "    * Decide if to leave or drop non-corresponding columns.\n",
    "3. Combine datasets.\n",
    "4. Manage duplicate rows, outliers and null values.\n",
    "\n",
    "## Find corresponding and non-corresponding columns of both datasets\n",
    "First of all, let's compare lists of datasets columns."
   ]
  },
  {
   "cell_type": "code",
   "execution_count": 6,
   "id": "db090ffa",
   "metadata": {},
   "outputs": [],
   "source": [
    "# for printing list in bullet list style\n",
    "def bullet_list(lst, header='', sort=True, counter=True):\n",
    "    if header!='' or counter:\n",
    "        print(f'{header} ({len(lst)}):')\n",
    "    if sort:\n",
    "        lst = sorted(lst)\n",
    "    for el in lst:\n",
    "        print('   >', el)\n",
    "\n",
    "# for finding intercetions and differences between lists of columns\n",
    "def compare_cols(data_1, data_2, return_flg=False):\n",
    "    set_1, set_2 = set(data_1.columns), set(data_2.columns)\n",
    "    inter, diff1, diff2 = set_1.intersection(set_2), set_1.difference(set_2), set_2.difference(set_1)\n",
    "    bullet_list(inter, 'Corresponding columns')\n",
    "    bullet_list(diff1, 'Columns from 1st dataset, which are not present in 2nd')\n",
    "    bullet_list(diff2, 'Columns from 2nd dataset, which are not present in 1st')\n",
    "    if return_flg:\n",
    "        return inter, diff1, diff2"
   ]
  },
  {
   "cell_type": "code",
   "execution_count": 7,
   "id": "b7fed8ca",
   "metadata": {},
   "outputs": [
    {
     "name": "stdout",
     "output_type": "stream",
     "text": [
      "Corresponding columns (8):\n",
      "   > engine\n",
      "   > km_driven\n",
      "   > max_power\n",
      "   > mileage\n",
      "   > seats\n",
      "   > seller_type\n",
      "   > selling_price\n",
      "   > year\n",
      "Columns from 1st dataset, which are not present in 2nd (5):\n",
      "   > fuel\n",
      "   > name\n",
      "   > owner\n",
      "   > torque\n",
      "   > transmission\n",
      "Columns from 2nd dataset, which are not present in 1st (8):\n",
      "   > Source.Name\n",
      "   > fuel_type\n",
      "   > full_name\n",
      "   > new-price\n",
      "   > owner_type\n",
      "   > transmission_type\n",
      "   > web-scraper-order\n",
      "   > web-scraper-start-url\n"
     ]
    }
   ],
   "source": [
    "compare_cols(raw_data_1, raw_data_2)"
   ]
  },
  {
   "cell_type": "markdown",
   "id": "1f68eccc",
   "metadata": {},
   "source": [
    "Fields *fuel, owner, name, transmission* from the 1st dataset actually have corresponding columns with different names in the 2nd dataset (*transmission_type, fuel_type, full_name, owner_type*). We'll change the names of theses fields in the 2nd dataset, so they match with 1st one, and compare again lists of columns."
   ]
  },
  {
   "cell_type": "code",
   "execution_count": 8,
   "id": "18ef5b39",
   "metadata": {},
   "outputs": [
    {
     "name": "stdout",
     "output_type": "stream",
     "text": [
      "Corresponding columns (12):\n",
      "   > engine\n",
      "   > fuel\n",
      "   > km_driven\n",
      "   > max_power\n",
      "   > mileage\n",
      "   > name\n",
      "   > owner\n",
      "   > seats\n",
      "   > seller_type\n",
      "   > selling_price\n",
      "   > transmission\n",
      "   > year\n",
      "Columns from 1st dataset, which are not present in 2nd (1):\n",
      "   > torque\n",
      "Columns from 2nd dataset, which are not present in 1st (4):\n",
      "   > Source.Name\n",
      "   > new-price\n",
      "   > web-scraper-order\n",
      "   > web-scraper-start-url\n"
     ]
    }
   ],
   "source": [
    "cols_dict = {\n",
    "    'fuel_type' : 'fuel',\n",
    "    'full_name' : 'name',\n",
    "    'owner_type' : 'owner',\n",
    "    'transmission_type' : 'transmission'\n",
    "}\n",
    "raw_data_2.rename(columns=cols_dict, inplace=True)\n",
    "inter_cols, diff1_cols, diff2_cols = compare_cols(raw_data_1, raw_data_2, return_flg=True)"
   ]
  },
  {
   "cell_type": "markdown",
   "id": "c395cf50",
   "metadata": {},
   "source": [
    "This comparison will help us prioritize columns in data cleaning process. Values of corresponding columns will be cleaned and transformed to unified format, since they are present in both datasets. Decision if to clean or drop non-corresponding columns will depend on:\n",
    "* how hard it is to fill null values in both datasets for this column;\n",
    "* how significant this column is for future model.\n",
    "\n",
    "## Data cleaning of Vehicle dataset\n",
    "\n",
    "Let's explore data types of fields in 1st dataset."
   ]
  },
  {
   "cell_type": "code",
   "execution_count": 9,
   "id": "bc7284ab",
   "metadata": {},
   "outputs": [
    {
     "name": "stdout",
     "output_type": "stream",
     "text": [
      "<class 'pandas.core.frame.DataFrame'>\n",
      "RangeIndex: 8128 entries, 0 to 8127\n",
      "Data columns (total 13 columns):\n",
      " #   Column         Non-Null Count  Dtype  \n",
      "---  ------         --------------  -----  \n",
      " 0   name           8128 non-null   object \n",
      " 1   year           8128 non-null   int64  \n",
      " 2   selling_price  8128 non-null   int64  \n",
      " 3   km_driven      8128 non-null   int64  \n",
      " 4   fuel           8128 non-null   object \n",
      " 5   seller_type    8128 non-null   object \n",
      " 6   transmission   8128 non-null   object \n",
      " 7   owner          8128 non-null   object \n",
      " 8   mileage        7907 non-null   object \n",
      " 9   engine         7907 non-null   object \n",
      " 10  max_power      7913 non-null   object \n",
      " 11  torque         7906 non-null   object \n",
      " 12  seats          7907 non-null   float64\n",
      "dtypes: float64(1), int64(3), object(9)\n",
      "memory usage: 825.6+ KB\n"
     ]
    }
   ],
   "source": [
    "raw_data_1.info()"
   ]
  },
  {
   "cell_type": "markdown",
   "id": "a8418d75",
   "metadata": {},
   "source": [
    "Columns *mileage, engine, max_power* and *torque* have wrong data type (object instead of numeric). In the code cells below, we will convert *mileage, engine, max_power* and *torque* columns to numeric data types. "
   ]
  },
  {
   "cell_type": "code",
   "execution_count": 10,
   "id": "4b0854df",
   "metadata": {
    "scrolled": true
   },
   "outputs": [
    {
     "data": {
      "text/html": [
       "<div>\n",
       "<style scoped>\n",
       "    .dataframe tbody tr th:only-of-type {\n",
       "        vertical-align: middle;\n",
       "    }\n",
       "\n",
       "    .dataframe tbody tr th {\n",
       "        vertical-align: top;\n",
       "    }\n",
       "\n",
       "    .dataframe thead th {\n",
       "        text-align: right;\n",
       "    }\n",
       "</style>\n",
       "<table border=\"1\" class=\"dataframe\">\n",
       "  <thead>\n",
       "    <tr style=\"text-align: right;\">\n",
       "      <th></th>\n",
       "      <th>name</th>\n",
       "      <th>year</th>\n",
       "      <th>selling_price</th>\n",
       "      <th>km_driven</th>\n",
       "      <th>fuel</th>\n",
       "      <th>seller_type</th>\n",
       "      <th>transmission</th>\n",
       "      <th>owner</th>\n",
       "      <th>mileage</th>\n",
       "      <th>engine</th>\n",
       "      <th>max_power</th>\n",
       "      <th>torque</th>\n",
       "      <th>seats</th>\n",
       "    </tr>\n",
       "  </thead>\n",
       "  <tbody>\n",
       "    <tr>\n",
       "      <th>0</th>\n",
       "      <td>Maruti Swift Dzire VDI</td>\n",
       "      <td>2014</td>\n",
       "      <td>450000</td>\n",
       "      <td>145500</td>\n",
       "      <td>Diesel</td>\n",
       "      <td>Individual</td>\n",
       "      <td>Manual</td>\n",
       "      <td>First Owner</td>\n",
       "      <td>23.4 kmpl</td>\n",
       "      <td>1248 CC</td>\n",
       "      <td>74 bhp</td>\n",
       "      <td>190Nm@ 2000rpm</td>\n",
       "      <td>5.0</td>\n",
       "    </tr>\n",
       "    <tr>\n",
       "      <th>1</th>\n",
       "      <td>Skoda Rapid 1.5 TDI Ambition</td>\n",
       "      <td>2014</td>\n",
       "      <td>370000</td>\n",
       "      <td>120000</td>\n",
       "      <td>Diesel</td>\n",
       "      <td>Individual</td>\n",
       "      <td>Manual</td>\n",
       "      <td>Second Owner</td>\n",
       "      <td>21.14 kmpl</td>\n",
       "      <td>1498 CC</td>\n",
       "      <td>103.52 bhp</td>\n",
       "      <td>250Nm@ 1500-2500rpm</td>\n",
       "      <td>5.0</td>\n",
       "    </tr>\n",
       "    <tr>\n",
       "      <th>2</th>\n",
       "      <td>Honda City 2017-2020 EXi</td>\n",
       "      <td>2006</td>\n",
       "      <td>158000</td>\n",
       "      <td>140000</td>\n",
       "      <td>Petrol</td>\n",
       "      <td>Individual</td>\n",
       "      <td>Manual</td>\n",
       "      <td>Third Owner</td>\n",
       "      <td>17.7 kmpl</td>\n",
       "      <td>1497 CC</td>\n",
       "      <td>78 bhp</td>\n",
       "      <td>12.7@ 2,700(kgm@ rpm)</td>\n",
       "      <td>5.0</td>\n",
       "    </tr>\n",
       "    <tr>\n",
       "      <th>3</th>\n",
       "      <td>Hyundai i20 Sportz Diesel</td>\n",
       "      <td>2010</td>\n",
       "      <td>225000</td>\n",
       "      <td>127000</td>\n",
       "      <td>Diesel</td>\n",
       "      <td>Individual</td>\n",
       "      <td>Manual</td>\n",
       "      <td>First Owner</td>\n",
       "      <td>23.0 kmpl</td>\n",
       "      <td>1396 CC</td>\n",
       "      <td>90 bhp</td>\n",
       "      <td>22.4 kgm at 1750-2750rpm</td>\n",
       "      <td>5.0</td>\n",
       "    </tr>\n",
       "    <tr>\n",
       "      <th>4</th>\n",
       "      <td>Maruti Swift VXI BSIII</td>\n",
       "      <td>2007</td>\n",
       "      <td>130000</td>\n",
       "      <td>120000</td>\n",
       "      <td>Petrol</td>\n",
       "      <td>Individual</td>\n",
       "      <td>Manual</td>\n",
       "      <td>First Owner</td>\n",
       "      <td>16.1 kmpl</td>\n",
       "      <td>1298 CC</td>\n",
       "      <td>88.2 bhp</td>\n",
       "      <td>11.5@ 4,500(kgm@ rpm)</td>\n",
       "      <td>5.0</td>\n",
       "    </tr>\n",
       "  </tbody>\n",
       "</table>\n",
       "</div>"
      ],
      "text/plain": [
       "                           name  year  selling_price  km_driven    fuel  \\\n",
       "0        Maruti Swift Dzire VDI  2014         450000     145500  Diesel   \n",
       "1  Skoda Rapid 1.5 TDI Ambition  2014         370000     120000  Diesel   \n",
       "2      Honda City 2017-2020 EXi  2006         158000     140000  Petrol   \n",
       "3     Hyundai i20 Sportz Diesel  2010         225000     127000  Diesel   \n",
       "4        Maruti Swift VXI BSIII  2007         130000     120000  Petrol   \n",
       "\n",
       "  seller_type transmission         owner     mileage   engine   max_power  \\\n",
       "0  Individual       Manual   First Owner   23.4 kmpl  1248 CC      74 bhp   \n",
       "1  Individual       Manual  Second Owner  21.14 kmpl  1498 CC  103.52 bhp   \n",
       "2  Individual       Manual   Third Owner   17.7 kmpl  1497 CC      78 bhp   \n",
       "3  Individual       Manual   First Owner   23.0 kmpl  1396 CC      90 bhp   \n",
       "4  Individual       Manual   First Owner   16.1 kmpl  1298 CC    88.2 bhp   \n",
       "\n",
       "                     torque  seats  \n",
       "0            190Nm@ 2000rpm    5.0  \n",
       "1       250Nm@ 1500-2500rpm    5.0  \n",
       "2     12.7@ 2,700(kgm@ rpm)    5.0  \n",
       "3  22.4 kgm at 1750-2750rpm    5.0  \n",
       "4     11.5@ 4,500(kgm@ rpm)    5.0  "
      ]
     },
     "execution_count": 10,
     "metadata": {},
     "output_type": "execute_result"
    }
   ],
   "source": [
    "raw_data_1.head()"
   ]
  },
  {
   "cell_type": "markdown",
   "id": "34866f13",
   "metadata": {},
   "source": [
    "### Converting *mileage, engine* and *max_power* to numeric data type\n",
    "\n",
    "Columns *mileage, engine* and *max_power* have a simpler and identical formats of values (*{value of the field} {unit of the field}*), so we will convert them first."
   ]
  },
  {
   "cell_type": "code",
   "execution_count": 11,
   "id": "eb440ec8",
   "metadata": {},
   "outputs": [],
   "source": [
    "def split_val_unit(df, cols):\n",
    "    data = df.copy()\n",
    "    for name in cols:\n",
    "        try:\n",
    "            data[[name+'_val', name+'_unit']] = data[name].str.split(expand=True)\n",
    "                \n",
    "        except Exception as e:\n",
    "            print(f'Error ({name} column):')\n",
    "            print(e)\n",
    "            \n",
    "    return data"
   ]
  },
  {
   "cell_type": "code",
   "execution_count": 12,
   "id": "a3b3a159",
   "metadata": {
    "scrolled": true
   },
   "outputs": [
    {
     "data": {
      "text/html": [
       "<div>\n",
       "<style scoped>\n",
       "    .dataframe tbody tr th:only-of-type {\n",
       "        vertical-align: middle;\n",
       "    }\n",
       "\n",
       "    .dataframe tbody tr th {\n",
       "        vertical-align: top;\n",
       "    }\n",
       "\n",
       "    .dataframe thead th {\n",
       "        text-align: right;\n",
       "    }\n",
       "</style>\n",
       "<table border=\"1\" class=\"dataframe\">\n",
       "  <thead>\n",
       "    <tr style=\"text-align: right;\">\n",
       "      <th></th>\n",
       "      <th>mileage</th>\n",
       "      <th>mileage_val</th>\n",
       "      <th>mileage_unit</th>\n",
       "      <th>engine</th>\n",
       "      <th>engine_val</th>\n",
       "      <th>engine_unit</th>\n",
       "      <th>max_power</th>\n",
       "      <th>max_power_val</th>\n",
       "      <th>max_power_unit</th>\n",
       "    </tr>\n",
       "  </thead>\n",
       "  <tbody>\n",
       "    <tr>\n",
       "      <th>0</th>\n",
       "      <td>23.4 kmpl</td>\n",
       "      <td>23.40</td>\n",
       "      <td>kmpl</td>\n",
       "      <td>1248 CC</td>\n",
       "      <td>1248.0</td>\n",
       "      <td>CC</td>\n",
       "      <td>74 bhp</td>\n",
       "      <td>74.00</td>\n",
       "      <td>bhp</td>\n",
       "    </tr>\n",
       "    <tr>\n",
       "      <th>1</th>\n",
       "      <td>21.14 kmpl</td>\n",
       "      <td>21.14</td>\n",
       "      <td>kmpl</td>\n",
       "      <td>1498 CC</td>\n",
       "      <td>1498.0</td>\n",
       "      <td>CC</td>\n",
       "      <td>103.52 bhp</td>\n",
       "      <td>103.52</td>\n",
       "      <td>bhp</td>\n",
       "    </tr>\n",
       "    <tr>\n",
       "      <th>2</th>\n",
       "      <td>17.7 kmpl</td>\n",
       "      <td>17.70</td>\n",
       "      <td>kmpl</td>\n",
       "      <td>1497 CC</td>\n",
       "      <td>1497.0</td>\n",
       "      <td>CC</td>\n",
       "      <td>78 bhp</td>\n",
       "      <td>78.00</td>\n",
       "      <td>bhp</td>\n",
       "    </tr>\n",
       "    <tr>\n",
       "      <th>3</th>\n",
       "      <td>23.0 kmpl</td>\n",
       "      <td>23.00</td>\n",
       "      <td>kmpl</td>\n",
       "      <td>1396 CC</td>\n",
       "      <td>1396.0</td>\n",
       "      <td>CC</td>\n",
       "      <td>90 bhp</td>\n",
       "      <td>90.00</td>\n",
       "      <td>bhp</td>\n",
       "    </tr>\n",
       "    <tr>\n",
       "      <th>4</th>\n",
       "      <td>16.1 kmpl</td>\n",
       "      <td>16.10</td>\n",
       "      <td>kmpl</td>\n",
       "      <td>1298 CC</td>\n",
       "      <td>1298.0</td>\n",
       "      <td>CC</td>\n",
       "      <td>88.2 bhp</td>\n",
       "      <td>88.20</td>\n",
       "      <td>bhp</td>\n",
       "    </tr>\n",
       "  </tbody>\n",
       "</table>\n",
       "</div>"
      ],
      "text/plain": [
       "      mileage  mileage_val mileage_unit   engine  engine_val engine_unit  \\\n",
       "0   23.4 kmpl        23.40         kmpl  1248 CC      1248.0          CC   \n",
       "1  21.14 kmpl        21.14         kmpl  1498 CC      1498.0          CC   \n",
       "2   17.7 kmpl        17.70         kmpl  1497 CC      1497.0          CC   \n",
       "3   23.0 kmpl        23.00         kmpl  1396 CC      1396.0          CC   \n",
       "4   16.1 kmpl        16.10         kmpl  1298 CC      1298.0          CC   \n",
       "\n",
       "    max_power  max_power_val max_power_unit  \n",
       "0      74 bhp          74.00            bhp  \n",
       "1  103.52 bhp         103.52            bhp  \n",
       "2      78 bhp          78.00            bhp  \n",
       "3      90 bhp          90.00            bhp  \n",
       "4    88.2 bhp          88.20            bhp  "
      ]
     },
     "execution_count": 12,
     "metadata": {},
     "output_type": "execute_result"
    }
   ],
   "source": [
    "# first run of code raised error during attemt to convert values to numeric because of one incorrect value in a row;\n",
    "# line of code below added for fixing this value\n",
    "raw_data_1.loc[raw_data_1['max_power'] == ' bhp', 'max_power'] = np.nan\n",
    "\n",
    "conv_cols = ['mileage', 'engine', 'max_power']\n",
    "raw_data_1 = split_val_unit(raw_data_1, conv_cols)\n",
    "raw_data_1 = raw_data_1.astype({name+'_val':float for name in conv_cols})\n",
    "\n",
    "all_conv_cols = np.array([[name, name+'_val', name+'_unit'] for name in conv_cols]).flatten()\n",
    "raw_data_1[all_conv_cols].head()"
   ]
  },
  {
   "cell_type": "markdown",
   "id": "7b5c5e65",
   "metadata": {},
   "source": [
    "Let's check if all values in *mileage, engine, max_power* have same unit and convert them to single unit, if there are more than one."
   ]
  },
  {
   "cell_type": "code",
   "execution_count": 13,
   "id": "948b6bc6",
   "metadata": {},
   "outputs": [],
   "source": [
    "def list_value_counts(df, origin_cols):\n",
    "    for name in origin_cols:\n",
    "        print(f\"<======= {name} =======>\")\n",
    "        print(df[name].value_counts())\n",
    "        print()"
   ]
  },
  {
   "cell_type": "code",
   "execution_count": 14,
   "id": "d922ffd0",
   "metadata": {
    "scrolled": true
   },
   "outputs": [
    {
     "name": "stdout",
     "output_type": "stream",
     "text": [
      "<======= mileage_unit =======>\n",
      "kmpl     7819\n",
      "km/kg      88\n",
      "Name: mileage_unit, dtype: int64\n",
      "\n",
      "<======= engine_unit =======>\n",
      "CC    7907\n",
      "Name: engine_unit, dtype: int64\n",
      "\n",
      "<======= max_power_unit =======>\n",
      "bhp    7906\n",
      "Name: max_power_unit, dtype: int64\n",
      "\n"
     ]
    }
   ],
   "source": [
    "list_value_counts(raw_data_1, [col+'_unit' for col in conv_cols])"
   ]
  },
  {
   "cell_type": "markdown",
   "id": "2e796b72",
   "metadata": {},
   "source": [
    "*mileage* has values with two different units: 'kmpl' and 'km/kg'. Usually, 'kmpl' used for describing cars with petrol or diesel fuel and 'km/kg' - gas fuel. Before transforming values mileage_val to a single unit, we should take into account the fact that 1 liter of petrol and 1 liter of diesel are not the same thing, since each of them have different properties. So even if we transform all values to single unit, it isn't corerct to use *mileage_val* as feature for future model. Since we don't see alternatives, we will drop this column."
   ]
  },
  {
   "cell_type": "code",
   "execution_count": 15,
   "id": "2ecf3b11",
   "metadata": {
    "scrolled": true
   },
   "outputs": [],
   "source": [
    "raw_data_1.drop(columns=['mileage', 'mileage_val', 'mileage_unit'], inplace=True)\n",
    "conv_cols.remove('mileage')"
   ]
  },
  {
   "cell_type": "markdown",
   "id": "27532540",
   "metadata": {},
   "source": [
    "Now we are ready to:\n",
    "* delete *engine, max_power* and *...\\_unit* columns, because we won't need them anymore;\n",
    "* rename *..._val* columns to *engine_cc, max_power_bhp* and convert them to numeric type of value."
   ]
  },
  {
   "cell_type": "code",
   "execution_count": 16,
   "id": "afd2c736",
   "metadata": {},
   "outputs": [],
   "source": [
    "def clear_val_unit_cols(df, cols):\n",
    "    data = df.copy()\n",
    "    for name in cols:\n",
    "        data = data.astype({name+'_val':float})\n",
    "        # take first value from ..._unit column to add unit as postfix for names of ..._val columns\n",
    "        data = data.rename(columns={name+'_val' : name+'_'+str.lower(data[name+'_unit'][0])})\n",
    "        data = data.drop(columns = [name, name+'_unit'])\n",
    "    \n",
    "    return data"
   ]
  },
  {
   "cell_type": "code",
   "execution_count": 17,
   "id": "f9411a5d",
   "metadata": {},
   "outputs": [
    {
     "name": "stdout",
     "output_type": "stream",
     "text": [
      "<class 'pandas.core.frame.DataFrame'>\n",
      "RangeIndex: 8128 entries, 0 to 8127\n",
      "Data columns (total 12 columns):\n",
      " #   Column         Non-Null Count  Dtype  \n",
      "---  ------         --------------  -----  \n",
      " 0   name           8128 non-null   object \n",
      " 1   year           8128 non-null   int64  \n",
      " 2   selling_price  8128 non-null   int64  \n",
      " 3   km_driven      8128 non-null   int64  \n",
      " 4   fuel           8128 non-null   object \n",
      " 5   seller_type    8128 non-null   object \n",
      " 6   transmission   8128 non-null   object \n",
      " 7   owner          8128 non-null   object \n",
      " 8   torque         7906 non-null   object \n",
      " 9   seats          7907 non-null   float64\n",
      " 10  engine_cc      7907 non-null   float64\n",
      " 11  max_power_bhp  7912 non-null   float64\n",
      "dtypes: float64(3), int64(3), object(6)\n",
      "memory usage: 762.1+ KB\n"
     ]
    }
   ],
   "source": [
    "raw_data_1 = clear_val_unit_cols(raw_data_1, conv_cols)\n",
    "\n",
    "raw_data_1.info()"
   ]
  },
  {
   "cell_type": "markdown",
   "id": "2377a7fb",
   "metadata": {},
   "source": [
    "As the next step, we'll convert *torque* column to numeric type, so we can analyse its significance for our model later.\n",
    "\n",
    "### Converting *torque* to numeric data type\n",
    "\n",
    "Let's start by taking a look at *torque* values again."
   ]
  },
  {
   "cell_type": "code",
   "execution_count": 18,
   "id": "d7785073",
   "metadata": {},
   "outputs": [
    {
     "data": {
      "text/plain": [
       "['190Nm@ 2000rpm',\n",
       " '250Nm@ 1500-2500rpm',\n",
       " '12.7@ 2,700(kgm@ rpm)',\n",
       " '22.4 kgm at 1750-2750rpm',\n",
       " '11.5@ 4,500(kgm@ rpm)',\n",
       " '113.75nm@ 4000rpm',\n",
       " '7.8@ 4,500(kgm@ rpm)',\n",
       " '59Nm@ 2500rpm',\n",
       " '170Nm@ 1800-2400rpm',\n",
       " '160Nm@ 2000rpm',\n",
       " '248Nm@ 2250rpm',\n",
       " '78Nm@ 4500rpm',\n",
       " '190Nm@ 2000rpm',\n",
       " '84Nm@ 3500rpm',\n",
       " '115Nm@ 3500-3600rpm',\n",
       " '200Nm@ 1750rpm',\n",
       " '22.4 kgm at 1750-2750rpm',\n",
       " '62Nm@ 3000rpm',\n",
       " '219.7Nm@ 1500-2750rpm',\n",
       " '160Nm@ 2000rpm']"
      ]
     },
     "execution_count": 18,
     "metadata": {},
     "output_type": "execute_result"
    }
   ],
   "source": [
    "list(raw_data_1['torque'].dropna().head(20))"
   ]
  },
  {
   "cell_type": "markdown",
   "id": "95fcf6af",
   "metadata": {},
   "source": [
    "*torque* values haven't uniform format and usually containt two values:\n",
    "* first one is max torque, which car can generate;\n",
    "* second value is engine speeds, at which car generate specified max torque in first value.\n",
    "\n",
    "First we will write code for next formats which have been noticed in first 20 values:\n",
    "* 190Nm@ 2000rpm\n",
    "* 250Nm@ 1500-2500rpm\n",
    "* 12.7@ 2,700(kgm@ rpm)\n",
    "* 22.4 kgm at 1750-2750rpm\n",
    "* 113.75nm@ 4000rpm\n",
    "\n",
    "With the help of *try* and *except* blocks we'll find new formats by trial and error method and include them in logic of our parsing code until all values in *torque* will be succesfully parsed.\n",
    "\n",
    "**Note:**\n",
    "Full list of different formats in *torque* after trial and error process:\n",
    "* 190Nm@ 2000rpm\n",
    "* 250Nm@ 1500-2500rpm\n",
    "* 12.7@ 2,700(kgm@ rpm)\n",
    "* 22.4 kgm at 1750-2750rpm\n",
    "* 113.75nm@ 4000rpm\n",
    "* 6.1kgm@ 3000rpm\n",
    "* 250Nm@ 1500~4500rpm\n",
    "* 96 Nm at 3000 rpm\n",
    "* 400Nm\n",
    "* 135 Nm at 2500  rpm (double space between '2500' and 'rpm' + space in the end)\n",
    "* 96  Nm at 3000  rpm (same as previous + doublespace between '96' and 'Nm')\n",
    "* 51Nm@ 4000+/-500rpm\n",
    "* 48@ 3,000+/-500(NM@ rpm)\n",
    "* 510@ 1600-2400\n",
    "* 135.4Nm@ 2500\n",
    "* 210 / 1900\n",
    "* 400 Nm /2000 rpm\n",
    "* 380Nm(38.7kgm)@ 2500rpm (occured only in one row, so just added '(38.7kgm)@ ' to delimeters as exception)\n",
    "* 110(11.2)@ 4800 (occured only in one row, so just added '(11.2)@ ' to delimeters as exception)\n",
    "* 215Nm@ 1750-3000"
   ]
  },
  {
   "cell_type": "code",
   "execution_count": 19,
   "id": "fbe98656",
   "metadata": {},
   "outputs": [],
   "source": [
    "def is_number(s):\n",
    "    try:\n",
    "        float(s)\n",
    "        return True\n",
    "    except ValueError:\n",
    "        return False\n",
    "\n",
    "def split_torque(row):\n",
    "    \"\"\"\n",
    "    Splits 'torque' value in a row and creates 4 new fields: \n",
    "    > 'torque_val' - value of car max torque;\n",
    "    > 'torque_unit' - unit of value in 'torque_val';\n",
    "    > 'torque_eng_sp_val' - value of engine speed at which car max torque is reached;\n",
    "    > 'torque_eng_sp_unit' - unit of value in 'torque_eng_sp_val';\n",
    "    \"\"\"\n",
    "    torque_val, torque_unit, torque_eng_sp_val, torque_eng_sp_unit = np.nan, np.nan, np.nan, np.nan\n",
    "    \n",
    "    # skip null values\n",
    "    if row['torque'] is np.nan:\n",
    "        return torque_val, torque_unit, torque_eng_sp_val, torque_eng_sp_unit\n",
    "        \n",
    "    # clear torque value from ',' and tailing ')', split and save in temporary list\n",
    "    temp = re.split(\n",
    "        '\\(11.2\\)@ |\\(38.7kgm\\)@ |\\+\\/-500r|\\+\\/-500\\(N|  N| N| r|N|@ r|@ |  r|r|\\(k|\\(| at |n|-|~| k|k| \\/ | \\/|\\s',\n",
    "        str(row['torque']).replace(',','').strip(' \\)')\n",
    "    )\n",
    "    \n",
    "    # first element of split should be number, helps find cases that should be added in the logic of code\n",
    "    if is_number(temp[0]):\n",
    "        torque_val = float(temp[0])\n",
    "    else:\n",
    "        print('>>> Error_1:', temp, '\\n\\n', row, '\\n\\n\\n')\n",
    "     \n",
    "    try:\n",
    "        if is_number(temp[1]):\n",
    "            torque_eng_sp_val = float(temp[1])\n",
    "            if len(temp) == 2:\n",
    "                torque_unit = 'Nm'\n",
    "                torque_eng_sp_unit = 'rpm'\n",
    "            elif len(temp) > 2:\n",
    "                if is_number(temp[2]):\n",
    "                    torque_eng_sp_val = (float(temp[1])+float(temp[2]))/2\n",
    "                    torque_unit = 'Nm'\n",
    "                    torque_eng_sp_unit = 'rpm'\n",
    "                else:\n",
    "                    torque_unit = temp[2]\n",
    "                    torque_eng_sp_unit = temp[3]\n",
    "        elif len(temp) == 2:\n",
    "            torque_unit = temp[1]\n",
    "        elif len(temp) == 3:\n",
    "            torque_unit = temp[1]\n",
    "            torque_eng_sp_val = float(temp[2])\n",
    "            torque_eng_sp_unit = 'rpm'\n",
    "        elif len(temp) == 4:\n",
    "            if is_number(temp[3]):\n",
    "                torque_eng_sp_val = (float(temp[2])+float(temp[3]))/2\n",
    "                torque_eng_sp_unit = 'rpm'\n",
    "                torque_unit = temp[1]\n",
    "            else:\n",
    "                torque_unit = temp[1]\n",
    "                torque_eng_sp_val = float(temp[2])\n",
    "                torque_eng_sp_unit = temp[3]\n",
    "        elif len(temp) == 5:\n",
    "            torque_unit = temp[1]\n",
    "            torque_eng_sp_val = (float(temp[2])+float(temp[3]))/2\n",
    "            torque_eng_sp_unit = temp[4]\n",
    "        # else statement helps find cases that should be added in the logic of code\n",
    "        else:\n",
    "            print('>>> Error_2:', temp, '\\n\\n', row, '\\n\\n\\n')\n",
    "        \n",
    "        return torque_val, torque_unit, torque_eng_sp_val, torque_eng_sp_unit\n",
    "    # in case some error is raised during assigning new values, helps find cases that should be added in the logic of code\n",
    "    except:\n",
    "        print('>>> Error_3:', temp, '\\n\\n', row, '\\n\\n\\n')\n",
    "        \n",
    "def parse_torque(df):\n",
    "    data = df.copy()\n",
    "    \n",
    "    # split torque\n",
    "    torque_new_cols = ['torque_val', 'torque_unit', 'torque_eng_sp_val', 'torque_eng_sp_unit']\n",
    "    data[torque_new_cols] = data.apply(split_torque, axis=1, result_type=\"expand\")\n",
    "    \n",
    "    # fix units after spliting\n",
    "    data['torque_unit'] = data['torque_unit'].replace({\n",
    "        'm': 'nm',\n",
    "        'gm': 'kgm',\n",
    "        'Nm': 'nm',\n",
    "        'KGM': 'kgm',\n",
    "        'M': 'nm'\n",
    "    })\n",
    "    data['torque_eng_sp_unit'] = data['torque_eng_sp_unit'].replace({\n",
    "        'pm': 'rpm',\n",
    "        'RPM': 'rpm'\n",
    "    })\n",
    "    \n",
    "    return data"
   ]
  },
  {
   "cell_type": "code",
   "execution_count": 20,
   "id": "49b5f98a",
   "metadata": {
    "scrolled": true
   },
   "outputs": [
    {
     "data": {
      "text/html": [
       "<div>\n",
       "<style scoped>\n",
       "    .dataframe tbody tr th:only-of-type {\n",
       "        vertical-align: middle;\n",
       "    }\n",
       "\n",
       "    .dataframe tbody tr th {\n",
       "        vertical-align: top;\n",
       "    }\n",
       "\n",
       "    .dataframe thead th {\n",
       "        text-align: right;\n",
       "    }\n",
       "</style>\n",
       "<table border=\"1\" class=\"dataframe\">\n",
       "  <thead>\n",
       "    <tr style=\"text-align: right;\">\n",
       "      <th></th>\n",
       "      <th>torque</th>\n",
       "      <th>torque_val</th>\n",
       "      <th>torque_unit</th>\n",
       "      <th>torque_eng_sp_val</th>\n",
       "      <th>torque_eng_sp_unit</th>\n",
       "    </tr>\n",
       "  </thead>\n",
       "  <tbody>\n",
       "    <tr>\n",
       "      <th>0</th>\n",
       "      <td>190Nm@ 2000rpm</td>\n",
       "      <td>190.0</td>\n",
       "      <td>nm</td>\n",
       "      <td>2000.0</td>\n",
       "      <td>rpm</td>\n",
       "    </tr>\n",
       "    <tr>\n",
       "      <th>1</th>\n",
       "      <td>250Nm@ 1500-2500rpm</td>\n",
       "      <td>250.0</td>\n",
       "      <td>nm</td>\n",
       "      <td>2000.0</td>\n",
       "      <td>rpm</td>\n",
       "    </tr>\n",
       "    <tr>\n",
       "      <th>2</th>\n",
       "      <td>12.7@ 2,700(kgm@ rpm)</td>\n",
       "      <td>12.7</td>\n",
       "      <td>kgm</td>\n",
       "      <td>2700.0</td>\n",
       "      <td>rpm</td>\n",
       "    </tr>\n",
       "    <tr>\n",
       "      <th>3</th>\n",
       "      <td>22.4 kgm at 1750-2750rpm</td>\n",
       "      <td>22.4</td>\n",
       "      <td>kgm</td>\n",
       "      <td>2250.0</td>\n",
       "      <td>rpm</td>\n",
       "    </tr>\n",
       "    <tr>\n",
       "      <th>4</th>\n",
       "      <td>11.5@ 4,500(kgm@ rpm)</td>\n",
       "      <td>11.5</td>\n",
       "      <td>kgm</td>\n",
       "      <td>4500.0</td>\n",
       "      <td>rpm</td>\n",
       "    </tr>\n",
       "  </tbody>\n",
       "</table>\n",
       "</div>"
      ],
      "text/plain": [
       "                     torque  torque_val torque_unit  torque_eng_sp_val  \\\n",
       "0            190Nm@ 2000rpm       190.0          nm             2000.0   \n",
       "1       250Nm@ 1500-2500rpm       250.0          nm             2000.0   \n",
       "2     12.7@ 2,700(kgm@ rpm)        12.7         kgm             2700.0   \n",
       "3  22.4 kgm at 1750-2750rpm        22.4         kgm             2250.0   \n",
       "4     11.5@ 4,500(kgm@ rpm)        11.5         kgm             4500.0   \n",
       "\n",
       "  torque_eng_sp_unit  \n",
       "0                rpm  \n",
       "1                rpm  \n",
       "2                rpm  \n",
       "3                rpm  \n",
       "4                rpm  "
      ]
     },
     "execution_count": 20,
     "metadata": {},
     "output_type": "execute_result"
    }
   ],
   "source": [
    "raw_data_1 = parse_torque(raw_data_1)\n",
    "raw_data_1[['torque', 'torque_val', 'torque_unit', 'torque_eng_sp_val', 'torque_eng_sp_unit']].head()"
   ]
  },
  {
   "cell_type": "markdown",
   "id": "6110d002",
   "metadata": {},
   "source": [
    "Let's check if all values in *torque_unit, torque_eng_sp_unit* have same unit and convert them to single unit, if there are more than one."
   ]
  },
  {
   "cell_type": "code",
   "execution_count": 21,
   "id": "e5a0f560",
   "metadata": {
    "scrolled": false
   },
   "outputs": [
    {
     "name": "stdout",
     "output_type": "stream",
     "text": [
      "<======= torque_unit =======>\n",
      "nm     7533\n",
      "kgm     373\n",
      "Name: torque_unit, dtype: int64\n",
      "\n",
      "<======= torque_eng_sp_unit =======>\n",
      "rpm    7872\n",
      "Name: torque_eng_sp_unit, dtype: int64\n",
      "\n"
     ]
    }
   ],
   "source": [
    "torque_cols = ['torque', 'torque_eng_sp']\n",
    "list_value_counts(raw_data_1, [col+'_unit' for col in torque_cols])"
   ]
  },
  {
   "cell_type": "markdown",
   "id": "4131637e",
   "metadata": {},
   "source": [
    "We will convert 'kgm' values in *torque_val* to 'nm' (1 kgm = 9.80665 Nm)."
   ]
  },
  {
   "cell_type": "code",
   "execution_count": 22,
   "id": "8cfb6e7f",
   "metadata": {},
   "outputs": [
    {
     "name": "stdout",
     "output_type": "stream",
     "text": [
      "<======= torque_unit =======>\n",
      "nm    7906\n",
      "Name: torque_unit, dtype: int64\n",
      "\n"
     ]
    },
    {
     "data": {
      "text/html": [
       "<div>\n",
       "<style scoped>\n",
       "    .dataframe tbody tr th:only-of-type {\n",
       "        vertical-align: middle;\n",
       "    }\n",
       "\n",
       "    .dataframe tbody tr th {\n",
       "        vertical-align: top;\n",
       "    }\n",
       "\n",
       "    .dataframe thead th {\n",
       "        text-align: right;\n",
       "    }\n",
       "</style>\n",
       "<table border=\"1\" class=\"dataframe\">\n",
       "  <thead>\n",
       "    <tr style=\"text-align: right;\">\n",
       "      <th></th>\n",
       "      <th>torque</th>\n",
       "      <th>torque_val</th>\n",
       "      <th>torque_unit</th>\n",
       "      <th>torque_eng_sp_val</th>\n",
       "      <th>torque_eng_sp_unit</th>\n",
       "    </tr>\n",
       "  </thead>\n",
       "  <tbody>\n",
       "    <tr>\n",
       "      <th>0</th>\n",
       "      <td>190Nm@ 2000rpm</td>\n",
       "      <td>190.000000</td>\n",
       "      <td>nm</td>\n",
       "      <td>2000.0</td>\n",
       "      <td>rpm</td>\n",
       "    </tr>\n",
       "    <tr>\n",
       "      <th>1</th>\n",
       "      <td>250Nm@ 1500-2500rpm</td>\n",
       "      <td>250.000000</td>\n",
       "      <td>nm</td>\n",
       "      <td>2000.0</td>\n",
       "      <td>rpm</td>\n",
       "    </tr>\n",
       "    <tr>\n",
       "      <th>2</th>\n",
       "      <td>12.7@ 2,700(kgm@ rpm)</td>\n",
       "      <td>124.544455</td>\n",
       "      <td>nm</td>\n",
       "      <td>2700.0</td>\n",
       "      <td>rpm</td>\n",
       "    </tr>\n",
       "    <tr>\n",
       "      <th>3</th>\n",
       "      <td>22.4 kgm at 1750-2750rpm</td>\n",
       "      <td>219.668960</td>\n",
       "      <td>nm</td>\n",
       "      <td>2250.0</td>\n",
       "      <td>rpm</td>\n",
       "    </tr>\n",
       "    <tr>\n",
       "      <th>4</th>\n",
       "      <td>11.5@ 4,500(kgm@ rpm)</td>\n",
       "      <td>112.776475</td>\n",
       "      <td>nm</td>\n",
       "      <td>4500.0</td>\n",
       "      <td>rpm</td>\n",
       "    </tr>\n",
       "  </tbody>\n",
       "</table>\n",
       "</div>"
      ],
      "text/plain": [
       "                     torque  torque_val torque_unit  torque_eng_sp_val  \\\n",
       "0            190Nm@ 2000rpm  190.000000          nm             2000.0   \n",
       "1       250Nm@ 1500-2500rpm  250.000000          nm             2000.0   \n",
       "2     12.7@ 2,700(kgm@ rpm)  124.544455          nm             2700.0   \n",
       "3  22.4 kgm at 1750-2750rpm  219.668960          nm             2250.0   \n",
       "4     11.5@ 4,500(kgm@ rpm)  112.776475          nm             4500.0   \n",
       "\n",
       "  torque_eng_sp_unit  \n",
       "0                rpm  \n",
       "1                rpm  \n",
       "2                rpm  \n",
       "3                rpm  \n",
       "4                rpm  "
      ]
     },
     "execution_count": 22,
     "metadata": {},
     "output_type": "execute_result"
    }
   ],
   "source": [
    "raw_data_1.loc[raw_data_1['torque_unit'] == 'kgm', 'torque_val'] = 9.80665 * raw_data_1.loc[raw_data_1['torque_unit'] == 'kgm', 'torque_val']\n",
    "raw_data_1.loc[raw_data_1['torque_unit'] == 'kgm', 'torque_unit'] = 'nm'\n",
    "list_value_counts(raw_data_1, ['torque_unit'])\n",
    "raw_data_1[['torque', 'torque_val', 'torque_unit', 'torque_eng_sp_val', 'torque_eng_sp_unit']].head()"
   ]
  },
  {
   "cell_type": "markdown",
   "id": "a98d59d2",
   "metadata": {},
   "source": [
    "Let's delete *torque_unit, torque_eng_sp_unit* columns and convert *torque_val, torque_eng_sp_val* to numeric data type."
   ]
  },
  {
   "cell_type": "code",
   "execution_count": 23,
   "id": "1cca65d8",
   "metadata": {},
   "outputs": [
    {
     "name": "stdout",
     "output_type": "stream",
     "text": [
      "<class 'pandas.core.frame.DataFrame'>\n",
      "RangeIndex: 8128 entries, 0 to 8127\n",
      "Data columns (total 13 columns):\n",
      " #   Column             Non-Null Count  Dtype  \n",
      "---  ------             --------------  -----  \n",
      " 0   name               8128 non-null   object \n",
      " 1   year               8128 non-null   int64  \n",
      " 2   selling_price      8128 non-null   int64  \n",
      " 3   km_driven          8128 non-null   int64  \n",
      " 4   fuel               8128 non-null   object \n",
      " 5   seller_type        8128 non-null   object \n",
      " 6   transmission       8128 non-null   object \n",
      " 7   owner              8128 non-null   object \n",
      " 8   seats              7907 non-null   float64\n",
      " 9   engine_cc          7907 non-null   float64\n",
      " 10  max_power_bhp      7912 non-null   float64\n",
      " 11  torque_nm          7906 non-null   float64\n",
      " 12  torque_eng_sp_rpm  7872 non-null   float64\n",
      "dtypes: float64(5), int64(3), object(5)\n",
      "memory usage: 825.6+ KB\n"
     ]
    }
   ],
   "source": [
    "# dummy column for function\n",
    "raw_data_1['torque_eng_sp'] = np.nan\n",
    "raw_data_1 = clear_val_unit_cols(raw_data_1, torque_cols)\n",
    "\n",
    "raw_data_1.info()"
   ]
  },
  {
   "cell_type": "markdown",
   "id": "3848813d",
   "metadata": {},
   "source": [
    "Now all columns have right data type and we are ready to explore significance of *torque_nm* and *torque_eng_sp_rpm* columns.\n",
    "\n",
    "### Exploring significance of *torque_nm* and *torque_eng_sp_rpm* columns for future model\n",
    "\n",
    "As was mentioned at the start of Data Cleaing section, we will decide if to clean or drop *torque_nm* and *torque_eng_sp_rpm* columns by analising:\n",
    "1. how hard it is to fill null values in both datasets for this column;\n",
    "2. how significant this column is for future model.\n",
    "\n",
    "There are ways to fill null values for these columns:\n",
    "* in the first dataset there are only 256 null values (~3% of data) in *torque_nm* and *torque_eng_sp_rpm*, so we are able to easiely impute them;\n",
    "* second dataset don't have such columns. We can collect *torque* values by webscraping with the help of *web-scraper-start-url* column, however it is a time-consuming process. That's the reason why we will first check on existing data if these columns are significant for future model before taking such approach.\n",
    "\n",
    "To test significance of *torque_nm* and *torque_eng_sp_rpm* columns, we will plot their non-null values with target column 'selling_price' values and calculate Pearson’s and Spearman’s rank correlation coefficients."
   ]
  },
  {
   "cell_type": "code",
   "execution_count": 24,
   "id": "028ebbc0",
   "metadata": {},
   "outputs": [],
   "source": [
    "def plot_col_signif(df, feat_cols, targ_col, n_rows=1, n_cols=1):\n",
    "    fig, axes = plt.subplots(nrows = n_rows, ncols = n_cols, figsize=(6*n_cols,4*n_rows), squeeze=False, constrained_layout = True)\n",
    "\n",
    "    for i in range(n_rows):\n",
    "        for j in range(n_cols):\n",
    "            try:\n",
    "                feat_col = feat_cols[i*n_cols+j]\n",
    "            except:\n",
    "                plt.show()\n",
    "                return\n",
    "            \n",
    "            pears_corr = df.corr()[feat_col][targ_col]\n",
    "            spear_corr = df.corr(method='spearman')[feat_col][targ_col]\n",
    "\n",
    "            axes[i,j].scatter(df[feat_col], df[targ_col])\n",
    "            axes[i,j].set_xlabel('feature')\n",
    "            axes[i,j].set_ylabel('target')\n",
    "            axes[i,j].set_title(f'Feature: {feat_col}\\nPearson\\'s r = {pears_corr:.2f}\\n Spearman\\'s ρ = {spear_corr:.2f}')\n",
    "            \n",
    "    plt.show()"
   ]
  },
  {
   "cell_type": "code",
   "execution_count": 25,
   "id": "f5b43618",
   "metadata": {},
   "outputs": [
    {
     "data": {
      "image/png": "[encoded data removed]",
      "text/plain": [
       "<Figure size 864x288 with 2 Axes>"
      ]
     },
     "metadata": {
      "needs_background": "light"
     },
     "output_type": "display_data"
    }
   ],
   "source": [
    "plot_col_signif(raw_data_1, ['torque_nm', 'torque_eng_sp_rpm', 'cost_of_km'], 'selling_price', 1, 2)"
   ]
  },
  {
   "cell_type": "markdown",
   "id": "ee6aea1c",
   "metadata": {},
   "source": [
    "*torque_...* columns seem to have outliers, for now we will ignore them."
   ]
  },
  {
   "cell_type": "code",
   "execution_count": 26,
   "id": "a93674e8",
   "metadata": {
    "scrolled": false
   },
   "outputs": [
    {
     "data": {
      "image/png": "[encoded data removed]",
      "text/plain": [
       "<Figure size 864x288 with 2 Axes>"
      ]
     },
     "metadata": {
      "needs_background": "light"
     },
     "output_type": "display_data"
    }
   ],
   "source": [
    "plot_col_signif(raw_data_1[raw_data_1['torque_nm'] < 750], ['torque_nm', 'torque_eng_sp_rpm'], 'selling_price', 1, 2)"
   ]
  },
  {
   "cell_type": "markdown",
   "id": "40d3160d",
   "metadata": {},
   "source": [
    "*torque_eng_sp_rpm* column has low correlation coefficients, so we can confidently drop it. However *torque_nm* moderately correlated with target column, so let's explore correlation coefficients of *selling_price* and *torque_nm* with other columns."
   ]
  },
  {
   "cell_type": "code",
   "execution_count": 27,
   "id": "513d8160",
   "metadata": {},
   "outputs": [
    {
     "data": {
      "image/png": "[encoded data removed]",
      "text/plain": [
       "<Figure size 432x288 with 2 Axes>"
      ]
     },
     "metadata": {
      "needs_background": "light"
     },
     "output_type": "display_data"
    }
   ],
   "source": [
    "raw_data_1.drop(columns='torque_eng_sp_rpm', inplace=True)\n",
    "\n",
    "ax = sns.heatmap(\n",
    "    raw_data_1[raw_data_1['torque_nm'] < 750].corr()[['selling_price', 'torque_nm']].abs().sort_values('selling_price',ascending=False),\n",
    "    annot=True\n",
    ")\n",
    "ax.set_title('Pearson\\'s r')\n",
    "plt.show()"
   ]
  },
  {
   "cell_type": "code",
   "execution_count": 28,
   "id": "79ceca30",
   "metadata": {},
   "outputs": [
    {
     "data": {
      "image/png": "[encoded data removed]",
      "text/plain": [
       "<Figure size 432x288 with 2 Axes>"
      ]
     },
     "metadata": {
      "needs_background": "light"
     },
     "output_type": "display_data"
    }
   ],
   "source": [
    "ax = sns.heatmap(\n",
    "    raw_data_1[raw_data_1['torque_nm'] < 750].corr(method='spearman')[['selling_price', 'torque_nm']].abs().sort_values('selling_price',ascending=False),\n",
    "    annot=True\n",
    ")\n",
    "ax.set_title('Spearman\\'s ρ')\n",
    "plt.show()"
   ]
  },
  {
   "cell_type": "markdown",
   "id": "e42cc341",
   "metadata": {},
   "source": [
    "Correlation matrixes show that *torque_nm* has one of the highest correlation coefficients with target column in comparison with other features. At the same time it is highly correlated with *max_power_bhp*, which has even higher correlation coefficients with target column. \n",
    "\n",
    "Since filling value for *torque_nm* column in second dataset is a time-consuming process and there is a field in the dataset which highly correlates with it, we will drop this column from the first dataset."
   ]
  },
  {
   "cell_type": "code",
   "execution_count": 29,
   "id": "ea8cfb94",
   "metadata": {},
   "outputs": [],
   "source": [
    "raw_data_1.drop(columns='torque_nm', inplace=True)"
   ]
  },
  {
   "cell_type": "markdown",
   "id": "3fcb640f",
   "metadata": {},
   "source": [
    "## Data cleaning of Used Car Prices in India dataset\n",
    "First of all, we will delete *mileage* coumn, since we did so in the 1st dataset."
   ]
  },
  {
   "cell_type": "code",
   "execution_count": 30,
   "id": "00e745e8",
   "metadata": {},
   "outputs": [],
   "source": [
    "raw_data_2.drop(columns=['mileage'], inplace=True)"
   ]
  },
  {
   "cell_type": "markdown",
   "id": "3c2fa36b",
   "metadata": {},
   "source": [
    "Let's explore data types of fields in 2st dataset."
   ]
  },
  {
   "cell_type": "code",
   "execution_count": 31,
   "id": "5b521cf5",
   "metadata": {
    "scrolled": false
   },
   "outputs": [
    {
     "name": "stdout",
     "output_type": "stream",
     "text": [
      "<class 'pandas.core.frame.DataFrame'>\n",
      "RangeIndex: 20026 entries, 0 to 20025\n",
      "Data columns (total 15 columns):\n",
      " #   Column                 Non-Null Count  Dtype  \n",
      "---  ------                 --------------  -----  \n",
      " 0   Source.Name            20026 non-null  object \n",
      " 1   web-scraper-order      20026 non-null  object \n",
      " 2   web-scraper-start-url  20026 non-null  object \n",
      " 3   name                   19980 non-null  object \n",
      " 4   selling_price          19980 non-null  object \n",
      " 5   new-price              9566 non-null   object \n",
      " 6   year                   19980 non-null  float64\n",
      " 7   seller_type            19980 non-null  object \n",
      " 8   km_driven              19980 non-null  object \n",
      " 9   owner                  19980 non-null  object \n",
      " 10  fuel                   19980 non-null  object \n",
      " 11  transmission           19980 non-null  object \n",
      " 12  engine                 19921 non-null  object \n",
      " 13  max_power              19921 non-null  object \n",
      " 14  seats                  19853 non-null  object \n",
      "dtypes: float64(1), object(14)\n",
      "memory usage: 2.3+ MB\n"
     ]
    }
   ],
   "source": [
    "raw_data_2.info()"
   ]
  },
  {
   "cell_type": "markdown",
   "id": "043d8346",
   "metadata": {},
   "source": [
    "### Dropping *new-price* columns\n",
    "Before moving forward, the output of code cell above shows that *new-price* column contains more than 50% of null values in second dataset. We will print links (*web-scraper-start-url* column) of first five cars where *new-price* column is not null to check if the value of this field is present on webpage."
   ]
  },
  {
   "cell_type": "code",
   "execution_count": 32,
   "id": "2f06551f",
   "metadata": {},
   "outputs": [
    {
     "name": "stdout",
     "output_type": "stream",
     "text": [
      "https://www.cardekho.com/used-car-details/used-Hyundai-Grand-i10-2013-2016-Asta-cars-Bhimavaram_8360E6C15B494B8D81470A46DE7FEC94.htm\n",
      "https://www.cardekho.com/used-car-details/used-Ford-Ecosport-2015-2021-1.5-TDCi-Titanium-BSIV-cars-New-Delhi_70CFDFB8C5EACAC997CFB0DC4CB6CFAC.htm\n",
      "https://www.cardekho.com/used-car-details/used-Maruti-Wagon-R-2010-2012-VXI-BS-IV-cars-North-lakhimpur_37376C38F689E7DCD6EE987EEB2C1EA2.htm\n",
      "https://www.cardekho.com/used-car-details/used-Hyundai-i10-2007-2010-Sportz-1.2-cars-Gurgaon_EC67BD3704964EDFAE06B5DD7BDDEA44.htm\n",
      "https://www.cardekho.com/used-car-details/used-Maruti-Wagon-R-VXI-BS-IV-cars-Ghaziabad_DD1C0A52D7B568846FDBD1CDFCB10A54.htm\n"
     ]
    }
   ],
   "source": [
    "for i in range(5):\n",
    "    print(raw_data_2.loc[~raw_data_2['new-price'].isnull()].reset_index()['web-scraper-start-url'][i])"
   ]
  },
  {
   "cell_type": "markdown",
   "id": "d7933477",
   "metadata": {},
   "source": [
    "At the time of writing, only 2 of 5 webpages still contain information about price of new car (see screenshots below). The reason of disappearance of this information may be that it is based on current offers of new cars on CarDekho website."
   ]
  },
  {
   "attachments": {
    "new_price_0.png": {
     "image/png": "[encoded data removed]"
    }
   },
   "cell_type": "markdown",
   "id": "df3dd9ab",
   "metadata": {},
   "source": [
    "![new_price_0.png](attachment:new_price_0.png)"
   ]
  },
  {
   "attachments": {
    "new_price_1.png": {
     "image/png": "[encoded data removed]"
    }
   },
   "cell_type": "markdown",
   "id": "e4ae0e06",
   "metadata": {},
   "source": [
    "![new_price_1.png](attachment:new_price_1.png)"
   ]
  },
  {
   "attachments": {
    "new_price_2-2.png": {
     "image/png": "[encoded data removed]"
    }
   },
   "cell_type": "markdown",
   "id": "3339768b",
   "metadata": {},
   "source": [
    "![new_price_2-2.png](attachment:new_price_2-2.png)"
   ]
  },
  {
   "attachments": {
    "new_price_3.png": {
     "image/png": "[encoded data removed]"
    }
   },
   "cell_type": "markdown",
   "id": "2b1d0df6",
   "metadata": {},
   "source": [
    "![new_price_3.png](attachment:new_price_3.png)"
   ]
  },
  {
   "attachments": {
    "new_price_4.png": {
     "image/png": "[encoded data removed]"
    }
   },
   "cell_type": "markdown",
   "id": "705984cc",
   "metadata": {},
   "source": [
    "![new_price_4.png](attachment:new_price_4.png)"
   ]
  },
  {
   "cell_type": "markdown",
   "id": "0a181a51",
   "metadata": {},
   "source": [
    "As a result, it will be hard and time-consuming to fill null values for *new-price* column in both datasets, so we will drop this field."
   ]
  },
  {
   "cell_type": "code",
   "execution_count": 33,
   "id": "846f0b1c",
   "metadata": {},
   "outputs": [],
   "source": [
    "raw_data_2.drop(columns='new-price', inplace=True)"
   ]
  },
  {
   "cell_type": "markdown",
   "id": "777869fd",
   "metadata": {},
   "source": [
    "### Convering corresponding columns to right data types\n",
    "\n",
    "Now let's return to exploring data types of fields in 2st dataset."
   ]
  },
  {
   "cell_type": "code",
   "execution_count": 34,
   "id": "c4a6a10c",
   "metadata": {},
   "outputs": [
    {
     "data": {
      "text/html": [
       "<div>\n",
       "<style scoped>\n",
       "    .dataframe tbody tr th:only-of-type {\n",
       "        vertical-align: middle;\n",
       "    }\n",
       "\n",
       "    .dataframe tbody tr th {\n",
       "        vertical-align: top;\n",
       "    }\n",
       "\n",
       "    .dataframe thead th {\n",
       "        text-align: right;\n",
       "    }\n",
       "</style>\n",
       "<table border=\"1\" class=\"dataframe\">\n",
       "  <thead>\n",
       "    <tr style=\"text-align: right;\">\n",
       "      <th></th>\n",
       "      <th>Source.Name</th>\n",
       "      <th>web-scraper-order</th>\n",
       "      <th>web-scraper-start-url</th>\n",
       "      <th>name</th>\n",
       "      <th>selling_price</th>\n",
       "      <th>year</th>\n",
       "      <th>seller_type</th>\n",
       "      <th>km_driven</th>\n",
       "      <th>owner</th>\n",
       "      <th>fuel</th>\n",
       "      <th>transmission</th>\n",
       "      <th>engine</th>\n",
       "      <th>max_power</th>\n",
       "      <th>seats</th>\n",
       "    </tr>\n",
       "  </thead>\n",
       "  <tbody>\n",
       "    <tr>\n",
       "      <th>0</th>\n",
       "      <td>cardekho_extract(0-2000).csv</td>\n",
       "      <td>1611917819-1662</td>\n",
       "      <td>https://www.cardekho.com/used-car-details/used...</td>\n",
       "      <td>Maruti Alto Std</td>\n",
       "      <td>1.2 Lakh*</td>\n",
       "      <td>2012.0</td>\n",
       "      <td>Individual</td>\n",
       "      <td>1,20,000 kms</td>\n",
       "      <td>First Owner</td>\n",
       "      <td>Petrol</td>\n",
       "      <td>Manual</td>\n",
       "      <td>Engine796 CC</td>\n",
       "      <td>Max Power46.3 bhp</td>\n",
       "      <td>Seats5</td>\n",
       "    </tr>\n",
       "    <tr>\n",
       "      <th>1</th>\n",
       "      <td>cardekho_extract(0-2000).csv</td>\n",
       "      <td>1611918361-1902</td>\n",
       "      <td>https://www.cardekho.com/used-car-details/used...</td>\n",
       "      <td>Hyundai Grand i10 Asta</td>\n",
       "      <td>5.5 Lakh*</td>\n",
       "      <td>2016.0</td>\n",
       "      <td>Individual</td>\n",
       "      <td>20,000 kms</td>\n",
       "      <td>First Owner</td>\n",
       "      <td>Petrol</td>\n",
       "      <td>Manual</td>\n",
       "      <td>Engine1197 CC</td>\n",
       "      <td>Max Power82 bhp</td>\n",
       "      <td>Seats5</td>\n",
       "    </tr>\n",
       "    <tr>\n",
       "      <th>2</th>\n",
       "      <td>cardekho_extract(0-2000).csv</td>\n",
       "      <td>1611917012-1306</td>\n",
       "      <td>https://www.cardekho.com/used-car-details/used...</td>\n",
       "      <td>Hyundai i20 Asta</td>\n",
       "      <td>2.15 Lakh*</td>\n",
       "      <td>2010.0</td>\n",
       "      <td>Individual</td>\n",
       "      <td>60,000 kms</td>\n",
       "      <td>First Owner</td>\n",
       "      <td>Petrol</td>\n",
       "      <td>Manual</td>\n",
       "      <td>Engine1197 CC</td>\n",
       "      <td>Max Power80 bhp</td>\n",
       "      <td>Seats5</td>\n",
       "    </tr>\n",
       "    <tr>\n",
       "      <th>3</th>\n",
       "      <td>cardekho_extract(0-2000).csv</td>\n",
       "      <td>1611917695-1607</td>\n",
       "      <td>https://www.cardekho.com/used-car-details/used...</td>\n",
       "      <td>Maruti Alto K10 2010-2014 VXI</td>\n",
       "      <td>2.26 Lakh*</td>\n",
       "      <td>2012.0</td>\n",
       "      <td>Individual</td>\n",
       "      <td>37,000 kms</td>\n",
       "      <td>First Owner</td>\n",
       "      <td>Petrol</td>\n",
       "      <td>Manual</td>\n",
       "      <td>Engine998 CC</td>\n",
       "      <td>Max Power67.1 bhp</td>\n",
       "      <td>Seats5</td>\n",
       "    </tr>\n",
       "    <tr>\n",
       "      <th>4</th>\n",
       "      <td>cardekho_extract(0-2000).csv</td>\n",
       "      <td>1611914861-367</td>\n",
       "      <td>https://www.cardekho.com/used-car-details/used...</td>\n",
       "      <td>Ford Ecosport 2015-2021 1.5 TDCi Titanium BSIV</td>\n",
       "      <td>5.7 Lakh*</td>\n",
       "      <td>2015.0</td>\n",
       "      <td>Dealer</td>\n",
       "      <td>30,000 kms</td>\n",
       "      <td>First Owner</td>\n",
       "      <td>Diesel</td>\n",
       "      <td>Manual</td>\n",
       "      <td>Engine1498 CC</td>\n",
       "      <td>Max Power98.59 bhp</td>\n",
       "      <td>Seats5</td>\n",
       "    </tr>\n",
       "  </tbody>\n",
       "</table>\n",
       "</div>"
      ],
      "text/plain": [
       "                    Source.Name web-scraper-order  \\\n",
       "0  cardekho_extract(0-2000).csv   1611917819-1662   \n",
       "1  cardekho_extract(0-2000).csv   1611918361-1902   \n",
       "2  cardekho_extract(0-2000).csv   1611917012-1306   \n",
       "3  cardekho_extract(0-2000).csv   1611917695-1607   \n",
       "4  cardekho_extract(0-2000).csv    1611914861-367   \n",
       "\n",
       "                               web-scraper-start-url  \\\n",
       "0  https://www.cardekho.com/used-car-details/used...   \n",
       "1  https://www.cardekho.com/used-car-details/used...   \n",
       "2  https://www.cardekho.com/used-car-details/used...   \n",
       "3  https://www.cardekho.com/used-car-details/used...   \n",
       "4  https://www.cardekho.com/used-car-details/used...   \n",
       "\n",
       "                                             name selling_price    year  \\\n",
       "0                                 Maruti Alto Std     1.2 Lakh*  2012.0   \n",
       "1                          Hyundai Grand i10 Asta     5.5 Lakh*  2016.0   \n",
       "2                                Hyundai i20 Asta    2.15 Lakh*  2010.0   \n",
       "3                   Maruti Alto K10 2010-2014 VXI    2.26 Lakh*  2012.0   \n",
       "4  Ford Ecosport 2015-2021 1.5 TDCi Titanium BSIV     5.7 Lakh*  2015.0   \n",
       "\n",
       "  seller_type     km_driven        owner    fuel transmission         engine  \\\n",
       "0  Individual  1,20,000 kms  First Owner  Petrol       Manual   Engine796 CC   \n",
       "1  Individual    20,000 kms  First Owner  Petrol       Manual  Engine1197 CC   \n",
       "2  Individual    60,000 kms  First Owner  Petrol       Manual  Engine1197 CC   \n",
       "3  Individual    37,000 kms  First Owner  Petrol       Manual   Engine998 CC   \n",
       "4      Dealer    30,000 kms  First Owner  Diesel       Manual  Engine1498 CC   \n",
       "\n",
       "            max_power   seats  \n",
       "0   Max Power46.3 bhp  Seats5  \n",
       "1     Max Power82 bhp  Seats5  \n",
       "2     Max Power80 bhp  Seats5  \n",
       "3   Max Power67.1 bhp  Seats5  \n",
       "4  Max Power98.59 bhp  Seats5  "
      ]
     },
     "execution_count": 34,
     "metadata": {},
     "output_type": "execute_result"
    }
   ],
   "source": [
    "raw_data_2.head()"
   ]
  },
  {
   "cell_type": "code",
   "execution_count": 35,
   "id": "c02396c5",
   "metadata": {},
   "outputs": [
    {
     "name": "stdout",
     "output_type": "stream",
     "text": [
      "<class 'pandas.core.frame.DataFrame'>\n",
      "RangeIndex: 20026 entries, 0 to 20025\n",
      "Data columns (total 14 columns):\n",
      " #   Column                 Non-Null Count  Dtype  \n",
      "---  ------                 --------------  -----  \n",
      " 0   Source.Name            20026 non-null  object \n",
      " 1   web-scraper-order      20026 non-null  object \n",
      " 2   web-scraper-start-url  20026 non-null  object \n",
      " 3   name                   19980 non-null  object \n",
      " 4   selling_price          19980 non-null  object \n",
      " 5   year                   19980 non-null  float64\n",
      " 6   seller_type            19980 non-null  object \n",
      " 7   km_driven              19980 non-null  object \n",
      " 8   owner                  19980 non-null  object \n",
      " 9   fuel                   19980 non-null  object \n",
      " 10  transmission           19980 non-null  object \n",
      " 11  engine                 19921 non-null  object \n",
      " 12  max_power              19921 non-null  object \n",
      " 13  seats                  19853 non-null  object \n",
      "dtypes: float64(1), object(13)\n",
      "memory usage: 2.1+ MB\n"
     ]
    }
   ],
   "source": [
    "raw_data_2.info()"
   ]
  },
  {
   "cell_type": "markdown",
   "id": "94dc65a0",
   "metadata": {},
   "source": [
    "Columns *selling_price, new-price, km_driven, engine, max_power* and *seats* have wrong data type (object instead of numeric). In the code cells below, we will convert them to numeric data types by following next steps:\n",
    "1. Remove heading words from * engine, max_power, seats* columns;\n",
    "2. Remove commas from *km_driven* column;\n",
    "3. Split *selling_price, km_driven, engine, max_power* into value (*..._val*) and unit (*..._unit*) columns;\n",
    "4. Convert value columns to numeric data type;\n",
    "5. Transform value and unit columns to unified unit;\n",
    "6. Drop original and *..._unit* columns."
   ]
  },
  {
   "cell_type": "code",
   "execution_count": 36,
   "id": "c12f1372",
   "metadata": {
    "scrolled": false
   },
   "outputs": [
    {
     "name": "stdout",
     "output_type": "stream",
     "text": [
      "Error (engine column):\n",
      "Columns must be same length as key\n"
     ]
    },
    {
     "data": {
      "text/html": [
       "<div>\n",
       "<style scoped>\n",
       "    .dataframe tbody tr th:only-of-type {\n",
       "        vertical-align: middle;\n",
       "    }\n",
       "\n",
       "    .dataframe tbody tr th {\n",
       "        vertical-align: top;\n",
       "    }\n",
       "\n",
       "    .dataframe thead th {\n",
       "        text-align: right;\n",
       "    }\n",
       "</style>\n",
       "<table border=\"1\" class=\"dataframe\">\n",
       "  <thead>\n",
       "    <tr style=\"text-align: right;\">\n",
       "      <th></th>\n",
       "      <th>Source.Name</th>\n",
       "      <th>web-scraper-order</th>\n",
       "      <th>web-scraper-start-url</th>\n",
       "      <th>name</th>\n",
       "      <th>selling_price</th>\n",
       "      <th>year</th>\n",
       "      <th>seller_type</th>\n",
       "      <th>km_driven</th>\n",
       "      <th>owner</th>\n",
       "      <th>fuel</th>\n",
       "      <th>transmission</th>\n",
       "      <th>engine</th>\n",
       "      <th>max_power</th>\n",
       "      <th>seats</th>\n",
       "      <th>selling_price_val</th>\n",
       "      <th>selling_price_unit</th>\n",
       "      <th>km_driven_val</th>\n",
       "      <th>km_driven_unit</th>\n",
       "      <th>max_power_val</th>\n",
       "      <th>max_power_unit</th>\n",
       "    </tr>\n",
       "  </thead>\n",
       "  <tbody>\n",
       "    <tr>\n",
       "      <th>0</th>\n",
       "      <td>cardekho_extract(0-2000).csv</td>\n",
       "      <td>1611917819-1662</td>\n",
       "      <td>https://www.cardekho.com/used-car-details/used...</td>\n",
       "      <td>Maruti Alto Std</td>\n",
       "      <td>1.2 Lakh*</td>\n",
       "      <td>2012.0</td>\n",
       "      <td>Individual</td>\n",
       "      <td>120000 kms</td>\n",
       "      <td>First Owner</td>\n",
       "      <td>Petrol</td>\n",
       "      <td>Manual</td>\n",
       "      <td>796 CC</td>\n",
       "      <td>46.3 bhp</td>\n",
       "      <td>5</td>\n",
       "      <td>1.2</td>\n",
       "      <td>Lakh*</td>\n",
       "      <td>120000</td>\n",
       "      <td>kms</td>\n",
       "      <td>46.3</td>\n",
       "      <td>bhp</td>\n",
       "    </tr>\n",
       "    <tr>\n",
       "      <th>1</th>\n",
       "      <td>cardekho_extract(0-2000).csv</td>\n",
       "      <td>1611918361-1902</td>\n",
       "      <td>https://www.cardekho.com/used-car-details/used...</td>\n",
       "      <td>Hyundai Grand i10 Asta</td>\n",
       "      <td>5.5 Lakh*</td>\n",
       "      <td>2016.0</td>\n",
       "      <td>Individual</td>\n",
       "      <td>20000 kms</td>\n",
       "      <td>First Owner</td>\n",
       "      <td>Petrol</td>\n",
       "      <td>Manual</td>\n",
       "      <td>1197 CC</td>\n",
       "      <td>82 bhp</td>\n",
       "      <td>5</td>\n",
       "      <td>5.5</td>\n",
       "      <td>Lakh*</td>\n",
       "      <td>20000</td>\n",
       "      <td>kms</td>\n",
       "      <td>82</td>\n",
       "      <td>bhp</td>\n",
       "    </tr>\n",
       "    <tr>\n",
       "      <th>2</th>\n",
       "      <td>cardekho_extract(0-2000).csv</td>\n",
       "      <td>1611917012-1306</td>\n",
       "      <td>https://www.cardekho.com/used-car-details/used...</td>\n",
       "      <td>Hyundai i20 Asta</td>\n",
       "      <td>2.15 Lakh*</td>\n",
       "      <td>2010.0</td>\n",
       "      <td>Individual</td>\n",
       "      <td>60000 kms</td>\n",
       "      <td>First Owner</td>\n",
       "      <td>Petrol</td>\n",
       "      <td>Manual</td>\n",
       "      <td>1197 CC</td>\n",
       "      <td>80 bhp</td>\n",
       "      <td>5</td>\n",
       "      <td>2.15</td>\n",
       "      <td>Lakh*</td>\n",
       "      <td>60000</td>\n",
       "      <td>kms</td>\n",
       "      <td>80</td>\n",
       "      <td>bhp</td>\n",
       "    </tr>\n",
       "    <tr>\n",
       "      <th>3</th>\n",
       "      <td>cardekho_extract(0-2000).csv</td>\n",
       "      <td>1611917695-1607</td>\n",
       "      <td>https://www.cardekho.com/used-car-details/used...</td>\n",
       "      <td>Maruti Alto K10 2010-2014 VXI</td>\n",
       "      <td>2.26 Lakh*</td>\n",
       "      <td>2012.0</td>\n",
       "      <td>Individual</td>\n",
       "      <td>37000 kms</td>\n",
       "      <td>First Owner</td>\n",
       "      <td>Petrol</td>\n",
       "      <td>Manual</td>\n",
       "      <td>998 CC</td>\n",
       "      <td>67.1 bhp</td>\n",
       "      <td>5</td>\n",
       "      <td>2.26</td>\n",
       "      <td>Lakh*</td>\n",
       "      <td>37000</td>\n",
       "      <td>kms</td>\n",
       "      <td>67.1</td>\n",
       "      <td>bhp</td>\n",
       "    </tr>\n",
       "    <tr>\n",
       "      <th>4</th>\n",
       "      <td>cardekho_extract(0-2000).csv</td>\n",
       "      <td>1611914861-367</td>\n",
       "      <td>https://www.cardekho.com/used-car-details/used...</td>\n",
       "      <td>Ford Ecosport 2015-2021 1.5 TDCi Titanium BSIV</td>\n",
       "      <td>5.7 Lakh*</td>\n",
       "      <td>2015.0</td>\n",
       "      <td>Dealer</td>\n",
       "      <td>30000 kms</td>\n",
       "      <td>First Owner</td>\n",
       "      <td>Diesel</td>\n",
       "      <td>Manual</td>\n",
       "      <td>1498 CC</td>\n",
       "      <td>98.59 bhp</td>\n",
       "      <td>5</td>\n",
       "      <td>5.7</td>\n",
       "      <td>Lakh*</td>\n",
       "      <td>30000</td>\n",
       "      <td>kms</td>\n",
       "      <td>98.59</td>\n",
       "      <td>bhp</td>\n",
       "    </tr>\n",
       "  </tbody>\n",
       "</table>\n",
       "</div>"
      ],
      "text/plain": [
       "                    Source.Name web-scraper-order  \\\n",
       "0  cardekho_extract(0-2000).csv   1611917819-1662   \n",
       "1  cardekho_extract(0-2000).csv   1611918361-1902   \n",
       "2  cardekho_extract(0-2000).csv   1611917012-1306   \n",
       "3  cardekho_extract(0-2000).csv   1611917695-1607   \n",
       "4  cardekho_extract(0-2000).csv    1611914861-367   \n",
       "\n",
       "                               web-scraper-start-url  \\\n",
       "0  https://www.cardekho.com/used-car-details/used...   \n",
       "1  https://www.cardekho.com/used-car-details/used...   \n",
       "2  https://www.cardekho.com/used-car-details/used...   \n",
       "3  https://www.cardekho.com/used-car-details/used...   \n",
       "4  https://www.cardekho.com/used-car-details/used...   \n",
       "\n",
       "                                             name selling_price    year  \\\n",
       "0                                 Maruti Alto Std     1.2 Lakh*  2012.0   \n",
       "1                          Hyundai Grand i10 Asta     5.5 Lakh*  2016.0   \n",
       "2                                Hyundai i20 Asta    2.15 Lakh*  2010.0   \n",
       "3                   Maruti Alto K10 2010-2014 VXI    2.26 Lakh*  2012.0   \n",
       "4  Ford Ecosport 2015-2021 1.5 TDCi Titanium BSIV     5.7 Lakh*  2015.0   \n",
       "\n",
       "  seller_type   km_driven        owner    fuel transmission   engine  \\\n",
       "0  Individual  120000 kms  First Owner  Petrol       Manual   796 CC   \n",
       "1  Individual   20000 kms  First Owner  Petrol       Manual  1197 CC   \n",
       "2  Individual   60000 kms  First Owner  Petrol       Manual  1197 CC   \n",
       "3  Individual   37000 kms  First Owner  Petrol       Manual   998 CC   \n",
       "4      Dealer   30000 kms  First Owner  Diesel       Manual  1498 CC   \n",
       "\n",
       "   max_power seats selling_price_val selling_price_unit km_driven_val  \\\n",
       "0   46.3 bhp     5               1.2              Lakh*        120000   \n",
       "1     82 bhp     5               5.5              Lakh*         20000   \n",
       "2     80 bhp     5              2.15              Lakh*         60000   \n",
       "3   67.1 bhp     5              2.26              Lakh*         37000   \n",
       "4  98.59 bhp     5               5.7              Lakh*         30000   \n",
       "\n",
       "  km_driven_unit max_power_val max_power_unit  \n",
       "0            kms          46.3            bhp  \n",
       "1            kms            82            bhp  \n",
       "2            kms            80            bhp  \n",
       "3            kms          67.1            bhp  \n",
       "4            kms         98.59            bhp  "
      ]
     },
     "execution_count": 36,
     "metadata": {},
     "output_type": "execute_result"
    }
   ],
   "source": [
    "# step 1\n",
    "for col, word in zip(['engine', 'max_power', 'seats'], ['Engine', 'Max Power', 'Seats']):\n",
    "    raw_data_2[col] = raw_data_2[col].str.replace(word,'').str.strip('\\n')\n",
    "\n",
    "# step 2\n",
    "raw_data_2['km_driven'] = raw_data_2['km_driven'].str.replace(',','')\n",
    "\n",
    "# step 3\n",
    "conv_cols_2 = ['selling_price', 'km_driven', 'engine', 'max_power']\n",
    "raw_data_2 = split_val_unit(raw_data_2, conv_cols_2)\n",
    "\n",
    "raw_data_2.head()"
   ]
  },
  {
   "cell_type": "markdown",
   "id": "0f654885",
   "metadata": {},
   "source": [
    "*split_val_unit()* function returned error for *engine* column. Let's explore why by taking a look at the split of this column."
   ]
  },
  {
   "cell_type": "code",
   "execution_count": 37,
   "id": "8344f4f2",
   "metadata": {
    "scrolled": true
   },
   "outputs": [
    {
     "data": {
      "text/html": [
       "<div>\n",
       "<style scoped>\n",
       "    .dataframe tbody tr th:only-of-type {\n",
       "        vertical-align: middle;\n",
       "    }\n",
       "\n",
       "    .dataframe tbody tr th {\n",
       "        vertical-align: top;\n",
       "    }\n",
       "\n",
       "    .dataframe thead th {\n",
       "        text-align: right;\n",
       "    }\n",
       "</style>\n",
       "<table border=\"1\" class=\"dataframe\">\n",
       "  <thead>\n",
       "    <tr style=\"text-align: right;\">\n",
       "      <th></th>\n",
       "      <th>0</th>\n",
       "      <th>1</th>\n",
       "      <th>2</th>\n",
       "      <th>3</th>\n",
       "    </tr>\n",
       "  </thead>\n",
       "  <tbody>\n",
       "    <tr>\n",
       "      <th>0</th>\n",
       "      <td>796</td>\n",
       "      <td>CC</td>\n",
       "      <td>None</td>\n",
       "      <td>None</td>\n",
       "    </tr>\n",
       "    <tr>\n",
       "      <th>1</th>\n",
       "      <td>1197</td>\n",
       "      <td>CC</td>\n",
       "      <td>None</td>\n",
       "      <td>None</td>\n",
       "    </tr>\n",
       "    <tr>\n",
       "      <th>2</th>\n",
       "      <td>1197</td>\n",
       "      <td>CC</td>\n",
       "      <td>None</td>\n",
       "      <td>None</td>\n",
       "    </tr>\n",
       "    <tr>\n",
       "      <th>3</th>\n",
       "      <td>998</td>\n",
       "      <td>CC</td>\n",
       "      <td>None</td>\n",
       "      <td>None</td>\n",
       "    </tr>\n",
       "    <tr>\n",
       "      <th>4</th>\n",
       "      <td>1498</td>\n",
       "      <td>CC</td>\n",
       "      <td>None</td>\n",
       "      <td>None</td>\n",
       "    </tr>\n",
       "  </tbody>\n",
       "</table>\n",
       "</div>"
      ],
      "text/plain": [
       "      0   1     2     3\n",
       "0   796  CC  None  None\n",
       "1  1197  CC  None  None\n",
       "2  1197  CC  None  None\n",
       "3   998  CC  None  None\n",
       "4  1498  CC  None  None"
      ]
     },
     "execution_count": 37,
     "metadata": {},
     "output_type": "execute_result"
    }
   ],
   "source": [
    "tmp = raw_data_2['engine'].str.split(expand=True)\n",
    "tmp.head()"
   ]
  },
  {
   "cell_type": "markdown",
   "id": "ef547c62",
   "metadata": {},
   "source": [
    "*engine* column contain messy data. We will print unique values of 2nd-4th elements of split, which may help us in finding rows with mistakes later."
   ]
  },
  {
   "cell_type": "code",
   "execution_count": 38,
   "id": "46f8aa43",
   "metadata": {
    "scrolled": true
   },
   "outputs": [
    {
     "name": "stdout",
     "output_type": "stream",
     "text": [
      ">>> Split element №2\n",
      "CC         19875\n",
      "SizeN/A       29\n",
      "Size17        15\n",
      "Name: 1, dtype: int64\n",
      "\n",
      ">>> Split element №3\n",
      "x    15\n",
      "Name: 2, dtype: int64\n",
      "\n",
      ">>> Split element №4\n",
      "7.5J    15\n",
      "Name: 3, dtype: int64\n",
      "\n"
     ]
    }
   ],
   "source": [
    "for i in range(3):\n",
    "    print(f'>>> Split element №{i+2}')\n",
    "    print(raw_data_2['engine'].str.split(expand=True).iloc[:,i+1].value_counts())\n",
    "    print()"
   ]
  },
  {
   "cell_type": "markdown",
   "id": "1ab8c44a",
   "metadata": {},
   "source": [
    "Rows with messy data contain 'SizeN/A' or 'Size17' as 2nd element of *engine* split. Let's take a look at them."
   ]
  },
  {
   "cell_type": "code",
   "execution_count": 39,
   "id": "35d6079b",
   "metadata": {},
   "outputs": [
    {
     "data": {
      "text/html": [
       "<div>\n",
       "<style scoped>\n",
       "    .dataframe tbody tr th:only-of-type {\n",
       "        vertical-align: middle;\n",
       "    }\n",
       "\n",
       "    .dataframe tbody tr th {\n",
       "        vertical-align: top;\n",
       "    }\n",
       "\n",
       "    .dataframe thead th {\n",
       "        text-align: right;\n",
       "    }\n",
       "</style>\n",
       "<table border=\"1\" class=\"dataframe\">\n",
       "  <thead>\n",
       "    <tr style=\"text-align: right;\">\n",
       "      <th></th>\n",
       "      <th>Source.Name</th>\n",
       "      <th>web-scraper-order</th>\n",
       "      <th>web-scraper-start-url</th>\n",
       "      <th>name</th>\n",
       "      <th>selling_price</th>\n",
       "      <th>year</th>\n",
       "      <th>seller_type</th>\n",
       "      <th>km_driven</th>\n",
       "      <th>owner</th>\n",
       "      <th>fuel</th>\n",
       "      <th>transmission</th>\n",
       "      <th>engine</th>\n",
       "      <th>max_power</th>\n",
       "      <th>seats</th>\n",
       "      <th>selling_price_val</th>\n",
       "      <th>selling_price_unit</th>\n",
       "      <th>km_driven_val</th>\n",
       "      <th>km_driven_unit</th>\n",
       "      <th>max_power_val</th>\n",
       "      <th>max_power_unit</th>\n",
       "    </tr>\n",
       "  </thead>\n",
       "  <tbody>\n",
       "    <tr>\n",
       "      <th>718</th>\n",
       "      <td>cardekho_extract(0-2000).csv</td>\n",
       "      <td>1611914302-120</td>\n",
       "      <td>https://www.cardekho.com/used-car-details/used...</td>\n",
       "      <td>BMW 5 Series 520d Sedan</td>\n",
       "      <td>13.5 Lakh*</td>\n",
       "      <td>2010.0</td>\n",
       "      <td>Dealer</td>\n",
       "      <td>65000 kms</td>\n",
       "      <td>First Owner</td>\n",
       "      <td>Diesel</td>\n",
       "      <td>Automatic</td>\n",
       "      <td>Wheel Size17 x 7.5J</td>\n",
       "      <td>Seats5</td>\n",
       "      <td>NaN</td>\n",
       "      <td>13.5</td>\n",
       "      <td>Lakh*</td>\n",
       "      <td>65000</td>\n",
       "      <td>kms</td>\n",
       "      <td>Seats5</td>\n",
       "      <td>None</td>\n",
       "    </tr>\n",
       "    <tr>\n",
       "      <th>1599</th>\n",
       "      <td>cardekho_extract(0-2000).csv</td>\n",
       "      <td>1611915494-639</td>\n",
       "      <td>https://www.cardekho.com/used-car-details/used...</td>\n",
       "      <td>BMW X3 2.0d SAV</td>\n",
       "      <td>10.15 Lakh*</td>\n",
       "      <td>2011.0</td>\n",
       "      <td>Dealer</td>\n",
       "      <td>68000 kms</td>\n",
       "      <td>First Owner</td>\n",
       "      <td>Diesel</td>\n",
       "      <td>Automatic</td>\n",
       "      <td>Wheel SizeN/A</td>\n",
       "      <td>Seats5</td>\n",
       "      <td>NaN</td>\n",
       "      <td>10.15</td>\n",
       "      <td>Lakh*</td>\n",
       "      <td>68000</td>\n",
       "      <td>kms</td>\n",
       "      <td>Seats5</td>\n",
       "      <td>None</td>\n",
       "    </tr>\n",
       "    <tr>\n",
       "      <th>2464</th>\n",
       "      <td>cardekho_extract(10001-13000).csv</td>\n",
       "      <td>1612147603-920</td>\n",
       "      <td>https://www.cardekho.com/used-car-details/used...</td>\n",
       "      <td>BMW 5 Series 520d Sedan</td>\n",
       "      <td>13.65 Lakh*</td>\n",
       "      <td>2012.0</td>\n",
       "      <td>Dealer</td>\n",
       "      <td>68000 kms</td>\n",
       "      <td>First Owner</td>\n",
       "      <td>Diesel</td>\n",
       "      <td>Automatic</td>\n",
       "      <td>Wheel Size17 x 7.5J</td>\n",
       "      <td>Seats5</td>\n",
       "      <td>NaN</td>\n",
       "      <td>13.65</td>\n",
       "      <td>Lakh*</td>\n",
       "      <td>68000</td>\n",
       "      <td>kms</td>\n",
       "      <td>Seats5</td>\n",
       "      <td>None</td>\n",
       "    </tr>\n",
       "    <tr>\n",
       "      <th>2627</th>\n",
       "      <td>cardekho_extract(10001-13000).csv</td>\n",
       "      <td>1612151201-2533</td>\n",
       "      <td>https://www.cardekho.com/used-car-details/used...</td>\n",
       "      <td>Hyundai Santro Xing XG</td>\n",
       "      <td>70,000*</td>\n",
       "      <td>2004.0</td>\n",
       "      <td>Individual</td>\n",
       "      <td>120000 kms</td>\n",
       "      <td>First Owner</td>\n",
       "      <td>Petrol</td>\n",
       "      <td>Manual</td>\n",
       "      <td>Wheel SizeN/A</td>\n",
       "      <td>Seats5</td>\n",
       "      <td>NaN</td>\n",
       "      <td>70,000*</td>\n",
       "      <td>None</td>\n",
       "      <td>120000</td>\n",
       "      <td>kms</td>\n",
       "      <td>Seats5</td>\n",
       "      <td>None</td>\n",
       "    </tr>\n",
       "    <tr>\n",
       "      <th>4237</th>\n",
       "      <td>cardekho_extract(10001-13000).csv</td>\n",
       "      <td>1612149890-1942</td>\n",
       "      <td>https://www.cardekho.com/used-car-details/used...</td>\n",
       "      <td>BMW 5 Series 520d Sedan</td>\n",
       "      <td>12.99 Lakh*</td>\n",
       "      <td>2011.0</td>\n",
       "      <td>Dealer</td>\n",
       "      <td>33233 kms</td>\n",
       "      <td>First Owner</td>\n",
       "      <td>Diesel</td>\n",
       "      <td>Automatic</td>\n",
       "      <td>Wheel Size17 x 7.5J</td>\n",
       "      <td>Seats5</td>\n",
       "      <td>NaN</td>\n",
       "      <td>12.99</td>\n",
       "      <td>Lakh*</td>\n",
       "      <td>33233</td>\n",
       "      <td>kms</td>\n",
       "      <td>Seats5</td>\n",
       "      <td>None</td>\n",
       "    </tr>\n",
       "  </tbody>\n",
       "</table>\n",
       "</div>"
      ],
      "text/plain": [
       "                            Source.Name web-scraper-order  \\\n",
       "718        cardekho_extract(0-2000).csv    1611914302-120   \n",
       "1599       cardekho_extract(0-2000).csv    1611915494-639   \n",
       "2464  cardekho_extract(10001-13000).csv    1612147603-920   \n",
       "2627  cardekho_extract(10001-13000).csv   1612151201-2533   \n",
       "4237  cardekho_extract(10001-13000).csv   1612149890-1942   \n",
       "\n",
       "                                  web-scraper-start-url  \\\n",
       "718   https://www.cardekho.com/used-car-details/used...   \n",
       "1599  https://www.cardekho.com/used-car-details/used...   \n",
       "2464  https://www.cardekho.com/used-car-details/used...   \n",
       "2627  https://www.cardekho.com/used-car-details/used...   \n",
       "4237  https://www.cardekho.com/used-car-details/used...   \n",
       "\n",
       "                         name selling_price    year seller_type   km_driven  \\\n",
       "718   BMW 5 Series 520d Sedan    13.5 Lakh*  2010.0      Dealer   65000 kms   \n",
       "1599          BMW X3 2.0d SAV   10.15 Lakh*  2011.0      Dealer   68000 kms   \n",
       "2464  BMW 5 Series 520d Sedan   13.65 Lakh*  2012.0      Dealer   68000 kms   \n",
       "2627   Hyundai Santro Xing XG       70,000*  2004.0  Individual  120000 kms   \n",
       "4237  BMW 5 Series 520d Sedan   12.99 Lakh*  2011.0      Dealer   33233 kms   \n",
       "\n",
       "            owner    fuel transmission               engine max_power seats  \\\n",
       "718   First Owner  Diesel    Automatic  Wheel Size17 x 7.5J    Seats5   NaN   \n",
       "1599  First Owner  Diesel    Automatic        Wheel SizeN/A    Seats5   NaN   \n",
       "2464  First Owner  Diesel    Automatic  Wheel Size17 x 7.5J    Seats5   NaN   \n",
       "2627  First Owner  Petrol       Manual        Wheel SizeN/A    Seats5   NaN   \n",
       "4237  First Owner  Diesel    Automatic  Wheel Size17 x 7.5J    Seats5   NaN   \n",
       "\n",
       "     selling_price_val selling_price_unit km_driven_val km_driven_unit  \\\n",
       "718               13.5              Lakh*         65000            kms   \n",
       "1599             10.15              Lakh*         68000            kms   \n",
       "2464             13.65              Lakh*         68000            kms   \n",
       "2627           70,000*               None        120000            kms   \n",
       "4237             12.99              Lakh*         33233            kms   \n",
       "\n",
       "     max_power_val max_power_unit  \n",
       "718         Seats5           None  \n",
       "1599        Seats5           None  \n",
       "2464        Seats5           None  \n",
       "2627        Seats5           None  \n",
       "4237        Seats5           None  "
      ]
     },
     "execution_count": 39,
     "metadata": {},
     "output_type": "execute_result"
    }
   ],
   "source": [
    "raw_data_2[tmp.iloc[:,1].isin(['SizeN/A', 'Size17'])].head()"
   ]
  },
  {
   "cell_type": "markdown",
   "id": "36765ec9",
   "metadata": {},
   "source": [
    "Output of code cell above shows that:\n",
    "* *selling_price* also have values with xx,xxx* format, which should be taken into account when we split this column;\n",
    "* in this slice of data:\n",
    "    * *engine* contains wrong data;\n",
    "    * data from *max_power* should be in *seats* column;\n",
    "\n",
    "Let's fix these problems in the code cell below and repeat splitting of values."
   ]
  },
  {
   "cell_type": "code",
   "execution_count": 40,
   "id": "57539f57",
   "metadata": {},
   "outputs": [
    {
     "name": "stdout",
     "output_type": "stream",
     "text": [
      "Fixed: could not convert string to float: 'N/A'\n",
      "Fixed: could not convert string to float: 'null'\n",
      "Fixed: could not convert string to float: 'bhp'\n",
      "Fixed: could not convert string to float: 'CC'\n",
      "\n",
      "<======= selling_price_unit =======>\n",
      "Lakh*    19702\n",
      "*          267\n",
      "Cr*         11\n",
      "Name: selling_price_unit, dtype: int64\n",
      "\n",
      "<======= km_driven_unit =======>\n",
      "kms    19980\n",
      "Name: km_driven_unit, dtype: int64\n",
      "\n",
      "<======= engine_unit =======>\n",
      "CC    19875\n",
      "Name: engine_unit, dtype: int64\n",
      "\n",
      "<======= max_power_unit =======>\n",
      "bhp    19874\n",
      "Name: max_power_unit, dtype: int64\n",
      "\n"
     ]
    }
   ],
   "source": [
    "# fix found issues with data\n",
    "## xx,xxx* format in selling_price\n",
    "with warnings.catch_warnings(): # suppress warning about future updates for regex in pandas\n",
    "    warnings.simplefilter(action='ignore', category=FutureWarning)\n",
    "    raw_data_2['selling_price'] = raw_data_2['selling_price'].str.replace(',','').str.replace('\\d\\*','0 *', regex=True)\n",
    "## data from max_power should be in seats column\n",
    "raw_data_2.loc[tmp.iloc[:,1].isin(['SizeN/A', 'Size17']), 'seats'] = raw_data_2.loc[tmp.iloc[:,1].isin(['SizeN/A', 'Size17']), 'max_power'] \n",
    "## removing incorret data from 'engine' and 'max_power' columns\n",
    "raw_data_2.loc[tmp.iloc[:,1].isin(['SizeN/A', 'Size17']), ['engine', 'max_power']] = np.nan\n",
    "\n",
    "# repeat step 1 and 3 after fix in 'engine', 'max_power', 'seats' columns\n",
    "for col, word in zip(['engine', 'max_power', 'seats'], ['Engine', 'Max Power', 'Seats']):\n",
    "    raw_data_2[col] = raw_data_2[col].str.replace(word,'').str.strip('\\n')\n",
    "\n",
    "raw_data_2 = split_val_unit(raw_data_2, conv_cols_2)\n",
    "\n",
    "# step 4\n",
    "## while/try/except helps find all exceptions and deal with them\n",
    "def df_float(df, cols):\n",
    "    data = df.copy()\n",
    "    flg = True\n",
    "    while flg:\n",
    "        try:\n",
    "            data = data.astype({col:float for col in cols})\n",
    "            flg = False\n",
    "        except Exception as e:\n",
    "            error_val = str(e).replace(\"could not convert string to float: '\", \"\").strip(\"'\")\n",
    "            data[cols] = data[cols].replace({error_val:np.nan})\n",
    "            print('Fixed: '+str(e))\n",
    "            \n",
    "    return data\n",
    "\n",
    "\n",
    "num_cols_2 = [name+'_val' for name in conv_cols_2]+['seats']\n",
    "raw_data_2 = df_float(raw_data_2, num_cols_2)\n",
    "print()\n",
    "\n",
    "# step 5\n",
    "list_value_counts(raw_data_2, [col+'_unit' for col in conv_cols_2])"
   ]
  },
  {
   "cell_type": "markdown",
   "id": "731b4983",
   "metadata": {},
   "source": [
    "*selling_price* column have more than one unit, so we will convert *selling_price* to 'inr' unit (code for Indian Rupee)."
   ]
  },
  {
   "cell_type": "code",
   "execution_count": 41,
   "id": "be7a7842",
   "metadata": {
    "scrolled": true
   },
   "outputs": [
    {
     "name": "stdout",
     "output_type": "stream",
     "text": [
      "<======= selling_price_unit =======>\n",
      "inr    20026\n",
      "Name: selling_price_unit, dtype: int64\n",
      "\n",
      "<======= km_driven_unit =======>\n",
      "kms    19980\n",
      "Name: km_driven_unit, dtype: int64\n",
      "\n",
      "<======= engine_unit =======>\n",
      "CC    19875\n",
      "Name: engine_unit, dtype: int64\n",
      "\n",
      "<======= max_power_unit =======>\n",
      "bhp    19874\n",
      "Name: max_power_unit, dtype: int64\n",
      "\n"
     ]
    }
   ],
   "source": [
    "# continuation of step 5\n",
    "raw_data_2.loc[raw_data_2['selling_price_unit'] == 'Cr*', 'selling_price_val'] = 10**7 * raw_data_2.loc[raw_data_2['selling_price_unit'] == 'Cr*', 'selling_price_val']\n",
    "raw_data_2.loc[raw_data_2['selling_price_unit'] == 'Lakh*', 'selling_price_val'] = 10**5 * raw_data_2.loc[raw_data_2['selling_price_unit'] == 'Lakh*', 'selling_price_val']\n",
    "raw_data_2['selling_price_unit'] = 'inr'\n",
    "\n",
    "list_value_counts(raw_data_2, [col+'_unit' for col in conv_cols_2])"
   ]
  },
  {
   "cell_type": "code",
   "execution_count": 42,
   "id": "bfddd662",
   "metadata": {},
   "outputs": [
    {
     "name": "stdout",
     "output_type": "stream",
     "text": [
      "<class 'pandas.core.frame.DataFrame'>\n",
      "RangeIndex: 20026 entries, 0 to 20025\n",
      "Data columns (total 14 columns):\n",
      " #   Column                 Non-Null Count  Dtype  \n",
      "---  ------                 --------------  -----  \n",
      " 0   Source.Name            20026 non-null  object \n",
      " 1   web-scraper-order      20026 non-null  object \n",
      " 2   web-scraper-start-url  20026 non-null  object \n",
      " 3   name                   19980 non-null  object \n",
      " 4   year                   19980 non-null  float64\n",
      " 5   seller_type            19980 non-null  object \n",
      " 6   owner                  19980 non-null  object \n",
      " 7   fuel                   19980 non-null  object \n",
      " 8   transmission           19980 non-null  object \n",
      " 9   seats                  19893 non-null  float64\n",
      " 10  selling_price_inr      19980 non-null  float64\n",
      " 11  km_driven_kms          19980 non-null  float64\n",
      " 12  max_power_bhp          19643 non-null  float64\n",
      " 13  engine_cc              19875 non-null  float64\n",
      "dtypes: float64(6), object(8)\n",
      "memory usage: 2.1+ MB\n"
     ]
    }
   ],
   "source": [
    "# step 6\n",
    "raw_data_2 = clear_val_unit_cols(raw_data_2, conv_cols_2)\n",
    "\n",
    "raw_data_2.info()"
   ]
  },
  {
   "cell_type": "code",
   "execution_count": 43,
   "id": "d6dff616",
   "metadata": {},
   "outputs": [
    {
     "data": {
      "text/html": [
       "<div>\n",
       "<style scoped>\n",
       "    .dataframe tbody tr th:only-of-type {\n",
       "        vertical-align: middle;\n",
       "    }\n",
       "\n",
       "    .dataframe tbody tr th {\n",
       "        vertical-align: top;\n",
       "    }\n",
       "\n",
       "    .dataframe thead th {\n",
       "        text-align: right;\n",
       "    }\n",
       "</style>\n",
       "<table border=\"1\" class=\"dataframe\">\n",
       "  <thead>\n",
       "    <tr style=\"text-align: right;\">\n",
       "      <th></th>\n",
       "      <th>Source.Name</th>\n",
       "      <th>web-scraper-order</th>\n",
       "      <th>web-scraper-start-url</th>\n",
       "      <th>name</th>\n",
       "      <th>year</th>\n",
       "      <th>seller_type</th>\n",
       "      <th>owner</th>\n",
       "      <th>fuel</th>\n",
       "      <th>transmission</th>\n",
       "      <th>seats</th>\n",
       "      <th>selling_price_inr</th>\n",
       "      <th>km_driven_kms</th>\n",
       "      <th>max_power_bhp</th>\n",
       "      <th>engine_cc</th>\n",
       "    </tr>\n",
       "  </thead>\n",
       "  <tbody>\n",
       "    <tr>\n",
       "      <th>0</th>\n",
       "      <td>cardekho_extract(0-2000).csv</td>\n",
       "      <td>1611917819-1662</td>\n",
       "      <td>https://www.cardekho.com/used-car-details/used...</td>\n",
       "      <td>Maruti Alto Std</td>\n",
       "      <td>2012.0</td>\n",
       "      <td>Individual</td>\n",
       "      <td>First Owner</td>\n",
       "      <td>Petrol</td>\n",
       "      <td>Manual</td>\n",
       "      <td>5.0</td>\n",
       "      <td>120000.0</td>\n",
       "      <td>120000.0</td>\n",
       "      <td>46.30</td>\n",
       "      <td>796.0</td>\n",
       "    </tr>\n",
       "    <tr>\n",
       "      <th>1</th>\n",
       "      <td>cardekho_extract(0-2000).csv</td>\n",
       "      <td>1611918361-1902</td>\n",
       "      <td>https://www.cardekho.com/used-car-details/used...</td>\n",
       "      <td>Hyundai Grand i10 Asta</td>\n",
       "      <td>2016.0</td>\n",
       "      <td>Individual</td>\n",
       "      <td>First Owner</td>\n",
       "      <td>Petrol</td>\n",
       "      <td>Manual</td>\n",
       "      <td>5.0</td>\n",
       "      <td>550000.0</td>\n",
       "      <td>20000.0</td>\n",
       "      <td>82.00</td>\n",
       "      <td>1197.0</td>\n",
       "    </tr>\n",
       "    <tr>\n",
       "      <th>2</th>\n",
       "      <td>cardekho_extract(0-2000).csv</td>\n",
       "      <td>1611917012-1306</td>\n",
       "      <td>https://www.cardekho.com/used-car-details/used...</td>\n",
       "      <td>Hyundai i20 Asta</td>\n",
       "      <td>2010.0</td>\n",
       "      <td>Individual</td>\n",
       "      <td>First Owner</td>\n",
       "      <td>Petrol</td>\n",
       "      <td>Manual</td>\n",
       "      <td>5.0</td>\n",
       "      <td>215000.0</td>\n",
       "      <td>60000.0</td>\n",
       "      <td>80.00</td>\n",
       "      <td>1197.0</td>\n",
       "    </tr>\n",
       "    <tr>\n",
       "      <th>3</th>\n",
       "      <td>cardekho_extract(0-2000).csv</td>\n",
       "      <td>1611917695-1607</td>\n",
       "      <td>https://www.cardekho.com/used-car-details/used...</td>\n",
       "      <td>Maruti Alto K10 2010-2014 VXI</td>\n",
       "      <td>2012.0</td>\n",
       "      <td>Individual</td>\n",
       "      <td>First Owner</td>\n",
       "      <td>Petrol</td>\n",
       "      <td>Manual</td>\n",
       "      <td>5.0</td>\n",
       "      <td>226000.0</td>\n",
       "      <td>37000.0</td>\n",
       "      <td>67.10</td>\n",
       "      <td>998.0</td>\n",
       "    </tr>\n",
       "    <tr>\n",
       "      <th>4</th>\n",
       "      <td>cardekho_extract(0-2000).csv</td>\n",
       "      <td>1611914861-367</td>\n",
       "      <td>https://www.cardekho.com/used-car-details/used...</td>\n",
       "      <td>Ford Ecosport 2015-2021 1.5 TDCi Titanium BSIV</td>\n",
       "      <td>2015.0</td>\n",
       "      <td>Dealer</td>\n",
       "      <td>First Owner</td>\n",
       "      <td>Diesel</td>\n",
       "      <td>Manual</td>\n",
       "      <td>5.0</td>\n",
       "      <td>570000.0</td>\n",
       "      <td>30000.0</td>\n",
       "      <td>98.59</td>\n",
       "      <td>1498.0</td>\n",
       "    </tr>\n",
       "  </tbody>\n",
       "</table>\n",
       "</div>"
      ],
      "text/plain": [
       "                    Source.Name web-scraper-order  \\\n",
       "0  cardekho_extract(0-2000).csv   1611917819-1662   \n",
       "1  cardekho_extract(0-2000).csv   1611918361-1902   \n",
       "2  cardekho_extract(0-2000).csv   1611917012-1306   \n",
       "3  cardekho_extract(0-2000).csv   1611917695-1607   \n",
       "4  cardekho_extract(0-2000).csv    1611914861-367   \n",
       "\n",
       "                               web-scraper-start-url  \\\n",
       "0  https://www.cardekho.com/used-car-details/used...   \n",
       "1  https://www.cardekho.com/used-car-details/used...   \n",
       "2  https://www.cardekho.com/used-car-details/used...   \n",
       "3  https://www.cardekho.com/used-car-details/used...   \n",
       "4  https://www.cardekho.com/used-car-details/used...   \n",
       "\n",
       "                                             name    year seller_type  \\\n",
       "0                                 Maruti Alto Std  2012.0  Individual   \n",
       "1                          Hyundai Grand i10 Asta  2016.0  Individual   \n",
       "2                                Hyundai i20 Asta  2010.0  Individual   \n",
       "3                   Maruti Alto K10 2010-2014 VXI  2012.0  Individual   \n",
       "4  Ford Ecosport 2015-2021 1.5 TDCi Titanium BSIV  2015.0      Dealer   \n",
       "\n",
       "         owner    fuel transmission  seats  selling_price_inr  km_driven_kms  \\\n",
       "0  First Owner  Petrol       Manual    5.0           120000.0       120000.0   \n",
       "1  First Owner  Petrol       Manual    5.0           550000.0        20000.0   \n",
       "2  First Owner  Petrol       Manual    5.0           215000.0        60000.0   \n",
       "3  First Owner  Petrol       Manual    5.0           226000.0        37000.0   \n",
       "4  First Owner  Diesel       Manual    5.0           570000.0        30000.0   \n",
       "\n",
       "   max_power_bhp  engine_cc  \n",
       "0          46.30      796.0  \n",
       "1          82.00     1197.0  \n",
       "2          80.00     1197.0  \n",
       "3          67.10      998.0  \n",
       "4          98.59     1498.0  "
      ]
     },
     "execution_count": 43,
     "metadata": {},
     "output_type": "execute_result"
    }
   ],
   "source": [
    "raw_data_2.head()"
   ]
  },
  {
   "cell_type": "markdown",
   "id": "27f6047d",
   "metadata": {},
   "source": [
    "### Managing non-corresponding columns\n",
    "*Source.Name* and *web-scraper-order* columns will be droped since they carry no information about cars. *web-scraper-start-url* column will be left for now, since it may help us in dealing with outliers and null-values, but we will rename it to 'url' for convenience."
   ]
  },
  {
   "cell_type": "code",
   "execution_count": 44,
   "id": "a62c5a72",
   "metadata": {},
   "outputs": [
    {
     "name": "stdout",
     "output_type": "stream",
     "text": [
      "<class 'pandas.core.frame.DataFrame'>\n",
      "RangeIndex: 20026 entries, 0 to 20025\n",
      "Data columns (total 12 columns):\n",
      " #   Column             Non-Null Count  Dtype  \n",
      "---  ------             --------------  -----  \n",
      " 0   url                20026 non-null  object \n",
      " 1   name               19980 non-null  object \n",
      " 2   year               19980 non-null  float64\n",
      " 3   seller_type        19980 non-null  object \n",
      " 4   owner              19980 non-null  object \n",
      " 5   fuel               19980 non-null  object \n",
      " 6   transmission       19980 non-null  object \n",
      " 7   seats              19893 non-null  float64\n",
      " 8   selling_price_inr  19980 non-null  float64\n",
      " 9   km_driven_kms      19980 non-null  float64\n",
      " 10  max_power_bhp      19643 non-null  float64\n",
      " 11  engine_cc          19875 non-null  float64\n",
      "dtypes: float64(6), object(6)\n",
      "memory usage: 1.8+ MB\n"
     ]
    }
   ],
   "source": [
    "raw_data_2.drop(columns=['Source.Name', 'web-scraper-order'], inplace=True)\n",
    "raw_data_2.rename(columns={'web-scraper-start-url':'url'}, inplace=True)\n",
    "raw_data_2.info()"
   ]
  },
  {
   "cell_type": "markdown",
   "id": "af806a62",
   "metadata": {},
   "source": [
    "## Combining the datasets\n",
    "\n",
    "Let's check if all columns are corresponding in both datasets before combining them."
   ]
  },
  {
   "cell_type": "code",
   "execution_count": 45,
   "id": "b0c27c20",
   "metadata": {},
   "outputs": [
    {
     "name": "stdout",
     "output_type": "stream",
     "text": [
      "Corresponding columns (9):\n",
      "   > engine_cc\n",
      "   > fuel\n",
      "   > max_power_bhp\n",
      "   > name\n",
      "   > owner\n",
      "   > seats\n",
      "   > seller_type\n",
      "   > transmission\n",
      "   > year\n",
      "Columns from 1st dataset, which are not present in 2nd (2):\n",
      "   > km_driven\n",
      "   > selling_price\n",
      "Columns from 2nd dataset, which are not present in 1st (3):\n",
      "   > km_driven_kms\n",
      "   > selling_price_inr\n",
      "   > url\n"
     ]
    }
   ],
   "source": [
    "compare_cols(raw_data_1, raw_data_2)"
   ]
  },
  {
   "cell_type": "markdown",
   "id": "bfffbd84",
   "metadata": {},
   "source": [
    "We will rename *km_driven_kms, selling_price* columns to *km_driven, selling_price_inr* and add *url* column with null values in 1st dataset."
   ]
  },
  {
   "cell_type": "code",
   "execution_count": 46,
   "id": "c1e1a1f4",
   "metadata": {},
   "outputs": [
    {
     "name": "stdout",
     "output_type": "stream",
     "text": [
      "Corresponding columns (12):\n",
      "   > engine_cc\n",
      "   > fuel\n",
      "   > km_driven\n",
      "   > max_power_bhp\n",
      "   > name\n",
      "   > owner\n",
      "   > seats\n",
      "   > seller_type\n",
      "   > selling_price_inr\n",
      "   > transmission\n",
      "   > url\n",
      "   > year\n",
      "Columns from 1st dataset, which are not present in 2nd (0):\n",
      "Columns from 2nd dataset, which are not present in 1st (0):\n",
      "\n",
      "<class 'pandas.core.frame.DataFrame'>\n",
      "RangeIndex: 8128 entries, 0 to 8127\n",
      "Data columns (total 12 columns):\n",
      " #   Column             Non-Null Count  Dtype  \n",
      "---  ------             --------------  -----  \n",
      " 0   name               8128 non-null   object \n",
      " 1   year               8128 non-null   int64  \n",
      " 2   selling_price_inr  8128 non-null   int64  \n",
      " 3   km_driven          8128 non-null   int64  \n",
      " 4   fuel               8128 non-null   object \n",
      " 5   seller_type        8128 non-null   object \n",
      " 6   transmission       8128 non-null   object \n",
      " 7   owner              8128 non-null   object \n",
      " 8   seats              7907 non-null   float64\n",
      " 9   engine_cc          7907 non-null   float64\n",
      " 10  max_power_bhp      7912 non-null   float64\n",
      " 11  url                0 non-null      float64\n",
      "dtypes: float64(4), int64(3), object(5)\n",
      "memory usage: 762.1+ KB\n"
     ]
    }
   ],
   "source": [
    "raw_data_1.rename(columns={'selling_price':'selling_price_inr'}, inplace=True)\n",
    "raw_data_2.rename(columns={'km_driven_kms':'km_driven'}, inplace=True)\n",
    "raw_data_1['url'] = np.nan\n",
    "compare_cols(raw_data_1, raw_data_2)\n",
    "print()\n",
    "raw_data_1.info()"
   ]
  },
  {
   "cell_type": "markdown",
   "id": "53cf021d",
   "metadata": {},
   "source": [
    "Now we are ready to concatanate the datasets."
   ]
  },
  {
   "cell_type": "code",
   "execution_count": 47,
   "id": "ef42a295",
   "metadata": {
    "scrolled": true
   },
   "outputs": [
    {
     "name": "stdout",
     "output_type": "stream",
     "text": [
      "<class 'pandas.core.frame.DataFrame'>\n",
      "RangeIndex: 28154 entries, 0 to 28153\n",
      "Data columns (total 12 columns):\n",
      " #   Column             Non-Null Count  Dtype  \n",
      "---  ------             --------------  -----  \n",
      " 0   name               28108 non-null  object \n",
      " 1   year               28108 non-null  float64\n",
      " 2   selling_price_inr  28108 non-null  float64\n",
      " 3   km_driven          28108 non-null  float64\n",
      " 4   fuel               28108 non-null  object \n",
      " 5   seller_type        28108 non-null  object \n",
      " 6   transmission       28108 non-null  object \n",
      " 7   owner              28108 non-null  object \n",
      " 8   seats              27800 non-null  float64\n",
      " 9   engine_cc          27782 non-null  float64\n",
      " 10  max_power_bhp      27555 non-null  float64\n",
      " 11  url                20026 non-null  object \n",
      "dtypes: float64(6), object(6)\n",
      "memory usage: 2.6+ MB\n"
     ]
    }
   ],
   "source": [
    "raw_data = pd.concat([raw_data_1, raw_data_2], ignore_index = True)\n",
    "raw_data.info()"
   ]
  },
  {
   "cell_type": "markdown",
   "id": "4b9334a4",
   "metadata": {},
   "source": [
    "## Managing duplicate rows\n",
    "Let's check if data contains any duplicate rows and drop them."
   ]
  },
  {
   "cell_type": "code",
   "execution_count": 48,
   "id": "538404db",
   "metadata": {},
   "outputs": [
    {
     "name": "stdout",
     "output_type": "stream",
     "text": [
      "Number of rows before cleaning duplicates: 28154\n",
      "Number of rows after cleaning duplicates: 26719\n"
     ]
    }
   ],
   "source": [
    "print(\"Number of rows before cleaning duplicates:\", raw_data.shape[0])\n",
    "cols_no_url = list(raw_data.columns)\n",
    "cols_no_url.remove('url')\n",
    "raw_data.drop_duplicates(subset=cols_no_url, inplace=True, ignore_index=True)\n",
    "print(\"Number of rows after cleaning duplicates:\", raw_data.shape[0])"
   ]
  },
  {
   "cell_type": "markdown",
   "id": "e3d59b37",
   "metadata": {},
   "source": [
    "## Managing outliers\n",
    "\n",
    "### Numeric fields: Boxplot diagrams\n",
    "Let's take a look at possible numeric outliers by plotting boxplot diagrams for numeric fields."
   ]
  },
  {
   "cell_type": "code",
   "execution_count": 49,
   "id": "e4d8492b",
   "metadata": {},
   "outputs": [],
   "source": [
    "def plot_whiskers(df, numeric_cols = None, n_rows=None, n_cols=None):\n",
    "    if numeric_cols is None:\n",
    "        numeric_cols = list(df.select_dtypes(include='number').columns)\n",
    "        \n",
    "    if n_rows is None or n_cols is None:\n",
    "        n_cols = 2\n",
    "        n_rows = ceil(len(numeric_cols) / 2)\n",
    "    \n",
    "    fig, axes = plt.subplots(nrows = n_rows, ncols = n_cols, figsize=(6*n_cols,4*n_rows), squeeze=False, constrained_layout = True)\n",
    "    \n",
    "    plt.suptitle('Boxplots', fontsize='xx-large', fontweight='bold')\n",
    "    for i in range(n_rows):\n",
    "        for j in range(n_cols):            \n",
    "            try:\n",
    "                col = numeric_cols[i*n_cols+j]\n",
    "            except:\n",
    "                plt.show()\n",
    "                return\n",
    "\n",
    "            sns.boxplot(data=df, x=col, orient='h', ax=axes[i,j])\n",
    "            #clear xlabel\n",
    "            axes[i,j].set_xlabel('')\n",
    "            axes[i,j].set_title(f'{col}', fontsize='xx-large')\n",
    "\n",
    "    plt.show()"
   ]
  },
  {
   "cell_type": "code",
   "execution_count": 50,
   "id": "f88a1a47",
   "metadata": {},
   "outputs": [
    {
     "data": {
      "image/png": "[encoded data removed]",
      "text/plain": [
       "<Figure size 864x864 with 6 Axes>"
      ]
     },
     "metadata": {
      "needs_background": "light"
     },
     "output_type": "display_data"
    }
   ],
   "source": [
    "plot_whiskers(raw_data)"
   ]
  },
  {
   "cell_type": "markdown",
   "id": "2b42888b",
   "metadata": {},
   "source": [
    "The suspicious values which we will explore further are:\n",
    "* *selling_price_inr > 20,000,000*\n",
    "* *km_driven > 1,000,000*\n",
    "* *engine_cc < 400*\n",
    "* *max_power_bhp = 0*\n",
    "\n",
    "#### *selling_price_inr > 20,000,000*"
   ]
  },
  {
   "cell_type": "code",
   "execution_count": 51,
   "id": "c0291695",
   "metadata": {},
   "outputs": [
    {
     "data": {
      "text/html": [
       "<div>\n",
       "<style scoped>\n",
       "    .dataframe tbody tr th:only-of-type {\n",
       "        vertical-align: middle;\n",
       "    }\n",
       "\n",
       "    .dataframe tbody tr th {\n",
       "        vertical-align: top;\n",
       "    }\n",
       "\n",
       "    .dataframe thead th {\n",
       "        text-align: right;\n",
       "    }\n",
       "</style>\n",
       "<table border=\"1\" class=\"dataframe\">\n",
       "  <thead>\n",
       "    <tr style=\"text-align: right;\">\n",
       "      <th></th>\n",
       "      <th>name</th>\n",
       "      <th>year</th>\n",
       "      <th>selling_price_inr</th>\n",
       "      <th>km_driven</th>\n",
       "      <th>fuel</th>\n",
       "      <th>seller_type</th>\n",
       "      <th>transmission</th>\n",
       "      <th>owner</th>\n",
       "      <th>seats</th>\n",
       "      <th>engine_cc</th>\n",
       "      <th>max_power_bhp</th>\n",
       "      <th>url</th>\n",
       "    </tr>\n",
       "  </thead>\n",
       "  <tbody>\n",
       "    <tr>\n",
       "      <th>7399</th>\n",
       "      <td>Bentley Mulsanne 6.8</td>\n",
       "      <td>2012.0</td>\n",
       "      <td>23500000.0</td>\n",
       "      <td>15000.0</td>\n",
       "      <td>Petrol</td>\n",
       "      <td>Dealer</td>\n",
       "      <td>Automatic</td>\n",
       "      <td>First Owner</td>\n",
       "      <td>5.0</td>\n",
       "      <td>6752.0</td>\n",
       "      <td>505.0</td>\n",
       "      <td>https://www.cardekho.com/used-car-details/used...</td>\n",
       "    </tr>\n",
       "    <tr>\n",
       "      <th>11868</th>\n",
       "      <td>Ferrari GTC4Lusso T</td>\n",
       "      <td>2019.0</td>\n",
       "      <td>39500000.0</td>\n",
       "      <td>3800.0</td>\n",
       "      <td>Petrol</td>\n",
       "      <td>Dealer</td>\n",
       "      <td>Automatic</td>\n",
       "      <td>First Owner</td>\n",
       "      <td>4.0</td>\n",
       "      <td>3855.0</td>\n",
       "      <td>601.0</td>\n",
       "      <td>https://www.cardekho.com/used-car-details/used...</td>\n",
       "    </tr>\n",
       "    <tr>\n",
       "      <th>21065</th>\n",
       "      <td>Rolls-Royce Ghost Series II Extended Wheelbase</td>\n",
       "      <td>2017.0</td>\n",
       "      <td>24200000.0</td>\n",
       "      <td>5000.0</td>\n",
       "      <td>Petrol</td>\n",
       "      <td>Individual</td>\n",
       "      <td>Automatic</td>\n",
       "      <td>First Owner</td>\n",
       "      <td>4.0</td>\n",
       "      <td>6592.0</td>\n",
       "      <td>563.0</td>\n",
       "      <td>https://www.cardekho.com/used-car-details/used...</td>\n",
       "    </tr>\n",
       "  </tbody>\n",
       "</table>\n",
       "</div>"
      ],
      "text/plain": [
       "                                                 name    year  \\\n",
       "7399                             Bentley Mulsanne 6.8  2012.0   \n",
       "11868                             Ferrari GTC4Lusso T  2019.0   \n",
       "21065  Rolls-Royce Ghost Series II Extended Wheelbase  2017.0   \n",
       "\n",
       "       selling_price_inr  km_driven    fuel seller_type transmission  \\\n",
       "7399          23500000.0    15000.0  Petrol      Dealer    Automatic   \n",
       "11868         39500000.0     3800.0  Petrol      Dealer    Automatic   \n",
       "21065         24200000.0     5000.0  Petrol  Individual    Automatic   \n",
       "\n",
       "             owner  seats  engine_cc  max_power_bhp  \\\n",
       "7399   First Owner    5.0     6752.0          505.0   \n",
       "11868  First Owner    4.0     3855.0          601.0   \n",
       "21065  First Owner    4.0     6592.0          563.0   \n",
       "\n",
       "                                                     url  \n",
       "7399   https://www.cardekho.com/used-car-details/used...  \n",
       "11868  https://www.cardekho.com/used-car-details/used...  \n",
       "21065  https://www.cardekho.com/used-car-details/used...  "
      ]
     },
     "execution_count": 51,
     "metadata": {},
     "output_type": "execute_result"
    }
   ],
   "source": [
    "raw_data[raw_data['selling_price_inr'] > 2 * 10**7]"
   ]
  },
  {
   "cell_type": "markdown",
   "id": "d2e77173",
   "metadata": {},
   "source": [
    "These cars have such high price because they are from premium class, so these outliers are not caused by error in data. However, leaving them may harm accuracy of our model on more general examples, so we will drop these rows. "
   ]
  },
  {
   "cell_type": "code",
   "execution_count": 52,
   "id": "b844fdf0",
   "metadata": {},
   "outputs": [],
   "source": [
    "raw_data = raw_data[~(raw_data['selling_price_inr'] >= 2 * 10**7)]"
   ]
  },
  {
   "cell_type": "markdown",
   "id": "2c827591",
   "metadata": {},
   "source": [
    "#### *km_driven > 1,000,000*"
   ]
  },
  {
   "cell_type": "code",
   "execution_count": 53,
   "id": "68f7984d",
   "metadata": {},
   "outputs": [
    {
     "data": {
      "text/html": [
       "<div>\n",
       "<style scoped>\n",
       "    .dataframe tbody tr th:only-of-type {\n",
       "        vertical-align: middle;\n",
       "    }\n",
       "\n",
       "    .dataframe tbody tr th {\n",
       "        vertical-align: top;\n",
       "    }\n",
       "\n",
       "    .dataframe thead th {\n",
       "        text-align: right;\n",
       "    }\n",
       "</style>\n",
       "<table border=\"1\" class=\"dataframe\">\n",
       "  <thead>\n",
       "    <tr style=\"text-align: right;\">\n",
       "      <th></th>\n",
       "      <th>name</th>\n",
       "      <th>year</th>\n",
       "      <th>selling_price_inr</th>\n",
       "      <th>km_driven</th>\n",
       "      <th>fuel</th>\n",
       "      <th>seller_type</th>\n",
       "      <th>transmission</th>\n",
       "      <th>owner</th>\n",
       "      <th>seats</th>\n",
       "      <th>engine_cc</th>\n",
       "      <th>max_power_bhp</th>\n",
       "      <th>url</th>\n",
       "    </tr>\n",
       "  </thead>\n",
       "  <tbody>\n",
       "    <tr>\n",
       "      <th>1646</th>\n",
       "      <td>Mahindra XUV500 W6 2WD</td>\n",
       "      <td>2012.0</td>\n",
       "      <td>500000.0</td>\n",
       "      <td>1500000.0</td>\n",
       "      <td>Diesel</td>\n",
       "      <td>Individual</td>\n",
       "      <td>Manual</td>\n",
       "      <td>First Owner</td>\n",
       "      <td>7.0</td>\n",
       "      <td>2179.0</td>\n",
       "      <td>140.00</td>\n",
       "      <td>NaN</td>\n",
       "    </tr>\n",
       "    <tr>\n",
       "      <th>3161</th>\n",
       "      <td>Hyundai i20 Asta 1.2</td>\n",
       "      <td>2007.0</td>\n",
       "      <td>550000.0</td>\n",
       "      <td>2360457.0</td>\n",
       "      <td>Petrol</td>\n",
       "      <td>Individual</td>\n",
       "      <td>Manual</td>\n",
       "      <td>Second Owner</td>\n",
       "      <td>5.0</td>\n",
       "      <td>1197.0</td>\n",
       "      <td>81.83</td>\n",
       "      <td>NaN</td>\n",
       "    </tr>\n",
       "    <tr>\n",
       "      <th>22233</th>\n",
       "      <td>Mercedes-Benz E-Class E350 Diesel</td>\n",
       "      <td>2012.0</td>\n",
       "      <td>1350000.0</td>\n",
       "      <td>1325000.0</td>\n",
       "      <td>Diesel</td>\n",
       "      <td>Dealer</td>\n",
       "      <td>Automatic</td>\n",
       "      <td>First Owner</td>\n",
       "      <td>5.0</td>\n",
       "      <td>2987.0</td>\n",
       "      <td>210.00</td>\n",
       "      <td>https://www.cardekho.com/used-car-details/used...</td>\n",
       "    </tr>\n",
       "    <tr>\n",
       "      <th>24684</th>\n",
       "      <td>Honda CR-V AT With Sun Roof</td>\n",
       "      <td>2015.0</td>\n",
       "      <td>1485000.0</td>\n",
       "      <td>1485000.0</td>\n",
       "      <td>Petrol</td>\n",
       "      <td>Dealer</td>\n",
       "      <td>Automatic</td>\n",
       "      <td>First Owner</td>\n",
       "      <td>5.0</td>\n",
       "      <td>NaN</td>\n",
       "      <td>NaN</td>\n",
       "      <td>https://www.cardekho.com/used-car-details/used...</td>\n",
       "    </tr>\n",
       "    <tr>\n",
       "      <th>26717</th>\n",
       "      <td>Mahindra XUV500 W6 2WD</td>\n",
       "      <td>2016.0</td>\n",
       "      <td>1225000.0</td>\n",
       "      <td>3800000.0</td>\n",
       "      <td>Diesel</td>\n",
       "      <td>Dealer</td>\n",
       "      <td>Manual</td>\n",
       "      <td>First Owner</td>\n",
       "      <td>7.0</td>\n",
       "      <td>2179.0</td>\n",
       "      <td>140.00</td>\n",
       "      <td>https://www.cardekho.com/used-car-details/used...</td>\n",
       "    </tr>\n",
       "  </tbody>\n",
       "</table>\n",
       "</div>"
      ],
      "text/plain": [
       "                                    name    year  selling_price_inr  \\\n",
       "1646              Mahindra XUV500 W6 2WD  2012.0           500000.0   \n",
       "3161                Hyundai i20 Asta 1.2  2007.0           550000.0   \n",
       "22233  Mercedes-Benz E-Class E350 Diesel  2012.0          1350000.0   \n",
       "24684        Honda CR-V AT With Sun Roof  2015.0          1485000.0   \n",
       "26717             Mahindra XUV500 W6 2WD  2016.0          1225000.0   \n",
       "\n",
       "       km_driven    fuel seller_type transmission         owner  seats  \\\n",
       "1646   1500000.0  Diesel  Individual       Manual   First Owner    7.0   \n",
       "3161   2360457.0  Petrol  Individual       Manual  Second Owner    5.0   \n",
       "22233  1325000.0  Diesel      Dealer    Automatic   First Owner    5.0   \n",
       "24684  1485000.0  Petrol      Dealer    Automatic   First Owner    5.0   \n",
       "26717  3800000.0  Diesel      Dealer       Manual   First Owner    7.0   \n",
       "\n",
       "       engine_cc  max_power_bhp  \\\n",
       "1646      2179.0         140.00   \n",
       "3161      1197.0          81.83   \n",
       "22233     2987.0         210.00   \n",
       "24684        NaN            NaN   \n",
       "26717     2179.0         140.00   \n",
       "\n",
       "                                                     url  \n",
       "1646                                                 NaN  \n",
       "3161                                                 NaN  \n",
       "22233  https://www.cardekho.com/used-car-details/used...  \n",
       "24684  https://www.cardekho.com/used-car-details/used...  \n",
       "26717  https://www.cardekho.com/used-car-details/used...  "
      ]
     },
     "execution_count": 53,
     "metadata": {},
     "output_type": "execute_result"
    }
   ],
   "source": [
    "raw_data[raw_data['km_driven'] > 10**6]"
   ]
  },
  {
   "cell_type": "markdown",
   "id": "39bd95d1",
   "metadata": {},
   "source": [
    "These values also seem to be right, but leaving them may harm accuracy of our model on more general examples, so we will drop these rows. "
   ]
  },
  {
   "cell_type": "code",
   "execution_count": 54,
   "id": "1d871969",
   "metadata": {},
   "outputs": [],
   "source": [
    "raw_data = raw_data[~(raw_data['km_driven'] > 10**6)]"
   ]
  },
  {
   "cell_type": "markdown",
   "id": "8851a050",
   "metadata": {},
   "source": [
    "#### *engine_cc < 400*"
   ]
  },
  {
   "cell_type": "code",
   "execution_count": 55,
   "id": "ff5642ab",
   "metadata": {
    "scrolled": true
   },
   "outputs": [
    {
     "data": {
      "text/html": [
       "<div>\n",
       "<style scoped>\n",
       "    .dataframe tbody tr th:only-of-type {\n",
       "        vertical-align: middle;\n",
       "    }\n",
       "\n",
       "    .dataframe tbody tr th {\n",
       "        vertical-align: top;\n",
       "    }\n",
       "\n",
       "    .dataframe thead th {\n",
       "        text-align: right;\n",
       "    }\n",
       "</style>\n",
       "<table border=\"1\" class=\"dataframe\">\n",
       "  <thead>\n",
       "    <tr style=\"text-align: right;\">\n",
       "      <th></th>\n",
       "      <th>name</th>\n",
       "      <th>year</th>\n",
       "      <th>selling_price_inr</th>\n",
       "      <th>km_driven</th>\n",
       "      <th>fuel</th>\n",
       "      <th>seller_type</th>\n",
       "      <th>transmission</th>\n",
       "      <th>owner</th>\n",
       "      <th>seats</th>\n",
       "      <th>engine_cc</th>\n",
       "      <th>max_power_bhp</th>\n",
       "      <th>url</th>\n",
       "    </tr>\n",
       "  </thead>\n",
       "  <tbody>\n",
       "    <tr>\n",
       "      <th>9258</th>\n",
       "      <td>Mahindra E Verito D2</td>\n",
       "      <td>2020.0</td>\n",
       "      <td>945000.0</td>\n",
       "      <td>2746.0</td>\n",
       "      <td>Electric</td>\n",
       "      <td>Dealer</td>\n",
       "      <td>Automatic</td>\n",
       "      <td>First Owner</td>\n",
       "      <td>5.0</td>\n",
       "      <td>72.0</td>\n",
       "      <td>41.57</td>\n",
       "      <td>https://www.cardekho.com/used-car-details/used...</td>\n",
       "    </tr>\n",
       "    <tr>\n",
       "      <th>22474</th>\n",
       "      <td>Mahindra e2o T2</td>\n",
       "      <td>2015.0</td>\n",
       "      <td>360000.0</td>\n",
       "      <td>42862.0</td>\n",
       "      <td>Electric</td>\n",
       "      <td>Dealer</td>\n",
       "      <td>Automatic</td>\n",
       "      <td>First Owner</td>\n",
       "      <td>5.0</td>\n",
       "      <td>0.0</td>\n",
       "      <td>25.50</td>\n",
       "      <td>https://www.cardekho.com/used-car-details/used...</td>\n",
       "    </tr>\n",
       "    <tr>\n",
       "      <th>24162</th>\n",
       "      <td>Mahindra E Verito D2</td>\n",
       "      <td>2019.0</td>\n",
       "      <td>1197000.0</td>\n",
       "      <td>18281.0</td>\n",
       "      <td>Electric</td>\n",
       "      <td>Individual</td>\n",
       "      <td>Automatic</td>\n",
       "      <td>First Owner</td>\n",
       "      <td>5.0</td>\n",
       "      <td>72.0</td>\n",
       "      <td>41.57</td>\n",
       "      <td>https://www.cardekho.com/used-car-details/used...</td>\n",
       "    </tr>\n",
       "    <tr>\n",
       "      <th>24547</th>\n",
       "      <td>Mahindra e2o T2</td>\n",
       "      <td>2015.0</td>\n",
       "      <td>450000.0</td>\n",
       "      <td>40000.0</td>\n",
       "      <td>Electric</td>\n",
       "      <td>Dealer</td>\n",
       "      <td>Automatic</td>\n",
       "      <td>First Owner</td>\n",
       "      <td>5.0</td>\n",
       "      <td>0.0</td>\n",
       "      <td>25.50</td>\n",
       "      <td>https://www.cardekho.com/used-car-details/used...</td>\n",
       "    </tr>\n",
       "    <tr>\n",
       "      <th>25157</th>\n",
       "      <td>Mahindra e2o Premium</td>\n",
       "      <td>2013.0</td>\n",
       "      <td>325000.0</td>\n",
       "      <td>50000.0</td>\n",
       "      <td>Electric</td>\n",
       "      <td>Individual</td>\n",
       "      <td>Automatic</td>\n",
       "      <td>First Owner</td>\n",
       "      <td>5.0</td>\n",
       "      <td>0.0</td>\n",
       "      <td>25.50</td>\n",
       "      <td>https://www.cardekho.com/used-car-details/used...</td>\n",
       "    </tr>\n",
       "    <tr>\n",
       "      <th>25844</th>\n",
       "      <td>Mahindra E Verito D6</td>\n",
       "      <td>2020.0</td>\n",
       "      <td>725000.0</td>\n",
       "      <td>8200.0</td>\n",
       "      <td>Electric</td>\n",
       "      <td>Dealer</td>\n",
       "      <td>Automatic</td>\n",
       "      <td>First Owner</td>\n",
       "      <td>5.0</td>\n",
       "      <td>72.0</td>\n",
       "      <td>41.57</td>\n",
       "      <td>https://www.cardekho.com/used-car-details/used...</td>\n",
       "    </tr>\n",
       "    <tr>\n",
       "      <th>25864</th>\n",
       "      <td>Tata Nexon EV XM</td>\n",
       "      <td>2021.0</td>\n",
       "      <td>1399000.0</td>\n",
       "      <td>5000.0</td>\n",
       "      <td>Electric</td>\n",
       "      <td>Individual</td>\n",
       "      <td>Automatic</td>\n",
       "      <td>First Owner</td>\n",
       "      <td>5.0</td>\n",
       "      <td>0.0</td>\n",
       "      <td>127.00</td>\n",
       "      <td>https://www.cardekho.com/used-car-details/used...</td>\n",
       "    </tr>\n",
       "    <tr>\n",
       "      <th>26514</th>\n",
       "      <td>Hyundai Kona Premium</td>\n",
       "      <td>2019.0</td>\n",
       "      <td>2175000.0</td>\n",
       "      <td>6000.0</td>\n",
       "      <td>Electric</td>\n",
       "      <td>Dealer</td>\n",
       "      <td>Automatic</td>\n",
       "      <td>First Owner</td>\n",
       "      <td>5.0</td>\n",
       "      <td>0.0</td>\n",
       "      <td>134.10</td>\n",
       "      <td>https://www.cardekho.com/used-car-details/used...</td>\n",
       "    </tr>\n",
       "  </tbody>\n",
       "</table>\n",
       "</div>"
      ],
      "text/plain": [
       "                       name    year  selling_price_inr  km_driven      fuel  \\\n",
       "9258   Mahindra E Verito D2  2020.0           945000.0     2746.0  Electric   \n",
       "22474       Mahindra e2o T2  2015.0           360000.0    42862.0  Electric   \n",
       "24162  Mahindra E Verito D2  2019.0          1197000.0    18281.0  Electric   \n",
       "24547       Mahindra e2o T2  2015.0           450000.0    40000.0  Electric   \n",
       "25157  Mahindra e2o Premium  2013.0           325000.0    50000.0  Electric   \n",
       "25844  Mahindra E Verito D6  2020.0           725000.0     8200.0  Electric   \n",
       "25864      Tata Nexon EV XM  2021.0          1399000.0     5000.0  Electric   \n",
       "26514  Hyundai Kona Premium  2019.0          2175000.0     6000.0  Electric   \n",
       "\n",
       "      seller_type transmission        owner  seats  engine_cc  max_power_bhp  \\\n",
       "9258       Dealer    Automatic  First Owner    5.0       72.0          41.57   \n",
       "22474      Dealer    Automatic  First Owner    5.0        0.0          25.50   \n",
       "24162  Individual    Automatic  First Owner    5.0       72.0          41.57   \n",
       "24547      Dealer    Automatic  First Owner    5.0        0.0          25.50   \n",
       "25157  Individual    Automatic  First Owner    5.0        0.0          25.50   \n",
       "25844      Dealer    Automatic  First Owner    5.0       72.0          41.57   \n",
       "25864  Individual    Automatic  First Owner    5.0        0.0         127.00   \n",
       "26514      Dealer    Automatic  First Owner    5.0        0.0         134.10   \n",
       "\n",
       "                                                     url  \n",
       "9258   https://www.cardekho.com/used-car-details/used...  \n",
       "22474  https://www.cardekho.com/used-car-details/used...  \n",
       "24162  https://www.cardekho.com/used-car-details/used...  \n",
       "24547  https://www.cardekho.com/used-car-details/used...  \n",
       "25157  https://www.cardekho.com/used-car-details/used...  \n",
       "25844  https://www.cardekho.com/used-car-details/used...  \n",
       "25864  https://www.cardekho.com/used-car-details/used...  \n",
       "26514  https://www.cardekho.com/used-car-details/used...  "
      ]
     },
     "execution_count": 55,
     "metadata": {},
     "output_type": "execute_result"
    }
   ],
   "source": [
    "raw_data[raw_data['engine_cc'] < 400]"
   ]
  },
  {
   "cell_type": "markdown",
   "id": "c3e958bd",
   "metadata": {},
   "source": [
    "All cars with *engine_cc < 400* are electric. This can be explained by the fact that electric cars have motor instead of engine, so they should contain null values in *engine_cc*. Before moving forward, let's check if all non-null values in *engine_cc* are lower than 400 for electric cars."
   ]
  },
  {
   "cell_type": "code",
   "execution_count": 56,
   "id": "5dd8f83b",
   "metadata": {
    "scrolled": true
   },
   "outputs": [
    {
     "data": {
      "text/html": [
       "<div>\n",
       "<style scoped>\n",
       "    .dataframe tbody tr th:only-of-type {\n",
       "        vertical-align: middle;\n",
       "    }\n",
       "\n",
       "    .dataframe tbody tr th {\n",
       "        vertical-align: top;\n",
       "    }\n",
       "\n",
       "    .dataframe thead th {\n",
       "        text-align: right;\n",
       "    }\n",
       "</style>\n",
       "<table border=\"1\" class=\"dataframe\">\n",
       "  <thead>\n",
       "    <tr style=\"text-align: right;\">\n",
       "      <th></th>\n",
       "      <th>name</th>\n",
       "      <th>year</th>\n",
       "      <th>selling_price_inr</th>\n",
       "      <th>km_driven</th>\n",
       "      <th>fuel</th>\n",
       "      <th>seller_type</th>\n",
       "      <th>transmission</th>\n",
       "      <th>owner</th>\n",
       "      <th>seats</th>\n",
       "      <th>engine_cc</th>\n",
       "      <th>max_power_bhp</th>\n",
       "      <th>url</th>\n",
       "    </tr>\n",
       "  </thead>\n",
       "  <tbody>\n",
       "    <tr>\n",
       "      <th>9533</th>\n",
       "      <td>Toyota Camry Hybrid</td>\n",
       "      <td>2015.0</td>\n",
       "      <td>1850000.0</td>\n",
       "      <td>49500.0</td>\n",
       "      <td>Electric</td>\n",
       "      <td>Dealer</td>\n",
       "      <td>Automatic</td>\n",
       "      <td>First Owner</td>\n",
       "      <td>5.0</td>\n",
       "      <td>2494.0</td>\n",
       "      <td>157.7</td>\n",
       "      <td>https://www.cardekho.com/used-car-details/used...</td>\n",
       "    </tr>\n",
       "    <tr>\n",
       "      <th>21890</th>\n",
       "      <td>Toyota Camry Hybrid</td>\n",
       "      <td>2015.0</td>\n",
       "      <td>2000000.0</td>\n",
       "      <td>60000.0</td>\n",
       "      <td>Electric</td>\n",
       "      <td>Individual</td>\n",
       "      <td>Automatic</td>\n",
       "      <td>First Owner</td>\n",
       "      <td>5.0</td>\n",
       "      <td>2494.0</td>\n",
       "      <td>157.7</td>\n",
       "      <td>https://www.cardekho.com/used-car-details/used...</td>\n",
       "    </tr>\n",
       "    <tr>\n",
       "      <th>25319</th>\n",
       "      <td>Toyota Camry Hybrid</td>\n",
       "      <td>2016.0</td>\n",
       "      <td>1865000.0</td>\n",
       "      <td>85000.0</td>\n",
       "      <td>Electric</td>\n",
       "      <td>Dealer</td>\n",
       "      <td>Automatic</td>\n",
       "      <td>First Owner</td>\n",
       "      <td>5.0</td>\n",
       "      <td>2494.0</td>\n",
       "      <td>157.7</td>\n",
       "      <td>https://www.cardekho.com/used-car-details/used...</td>\n",
       "    </tr>\n",
       "    <tr>\n",
       "      <th>25673</th>\n",
       "      <td>Toyota Camry Hybrid</td>\n",
       "      <td>2015.0</td>\n",
       "      <td>1699000.0</td>\n",
       "      <td>64000.0</td>\n",
       "      <td>Electric</td>\n",
       "      <td>Dealer</td>\n",
       "      <td>Automatic</td>\n",
       "      <td>First Owner</td>\n",
       "      <td>5.0</td>\n",
       "      <td>2494.0</td>\n",
       "      <td>157.7</td>\n",
       "      <td>https://www.cardekho.com/used-car-details/used...</td>\n",
       "    </tr>\n",
       "  </tbody>\n",
       "</table>\n",
       "</div>"
      ],
      "text/plain": [
       "                      name    year  selling_price_inr  km_driven      fuel  \\\n",
       "9533   Toyota Camry Hybrid  2015.0          1850000.0    49500.0  Electric   \n",
       "21890  Toyota Camry Hybrid  2015.0          2000000.0    60000.0  Electric   \n",
       "25319  Toyota Camry Hybrid  2016.0          1865000.0    85000.0  Electric   \n",
       "25673  Toyota Camry Hybrid  2015.0          1699000.0    64000.0  Electric   \n",
       "\n",
       "      seller_type transmission        owner  seats  engine_cc  max_power_bhp  \\\n",
       "9533       Dealer    Automatic  First Owner    5.0     2494.0          157.7   \n",
       "21890  Individual    Automatic  First Owner    5.0     2494.0          157.7   \n",
       "25319      Dealer    Automatic  First Owner    5.0     2494.0          157.7   \n",
       "25673      Dealer    Automatic  First Owner    5.0     2494.0          157.7   \n",
       "\n",
       "                                                     url  \n",
       "9533   https://www.cardekho.com/used-car-details/used...  \n",
       "21890  https://www.cardekho.com/used-car-details/used...  \n",
       "25319  https://www.cardekho.com/used-car-details/used...  \n",
       "25673  https://www.cardekho.com/used-car-details/used...  "
      ]
     },
     "execution_count": 56,
     "metadata": {},
     "output_type": "execute_result"
    }
   ],
   "source": [
    "raw_data[(raw_data['fuel']=='Electric') & (raw_data['engine_cc'] >= 400)]"
   ]
  },
  {
   "cell_type": "markdown",
   "id": "c6ece9a1",
   "metadata": {},
   "source": [
    "Values of *fuel* in above data slice are probably incorrect, since hybrid cars use petrol as main fuel. We will fix it in the next code cell and assign null value to *engine_cc*, where *engine_cc < 400*."
   ]
  },
  {
   "cell_type": "code",
   "execution_count": 57,
   "id": "81ec5978",
   "metadata": {},
   "outputs": [],
   "source": [
    "raw_data.loc[raw_data['name']=='Toyota Camry Hybrid', 'fuel'] = 'Petrol'\n",
    "raw_data.loc[raw_data['engine_cc'] < 400, 'engine_cc'] = np.nan"
   ]
  },
  {
   "cell_type": "markdown",
   "id": "12ad0cc0",
   "metadata": {},
   "source": [
    "#### *max_power_bhp = 0*"
   ]
  },
  {
   "cell_type": "code",
   "execution_count": 58,
   "id": "88779227",
   "metadata": {},
   "outputs": [
    {
     "data": {
      "text/html": [
       "<div>\n",
       "<style scoped>\n",
       "    .dataframe tbody tr th:only-of-type {\n",
       "        vertical-align: middle;\n",
       "    }\n",
       "\n",
       "    .dataframe tbody tr th {\n",
       "        vertical-align: top;\n",
       "    }\n",
       "\n",
       "    .dataframe thead th {\n",
       "        text-align: right;\n",
       "    }\n",
       "</style>\n",
       "<table border=\"1\" class=\"dataframe\">\n",
       "  <thead>\n",
       "    <tr style=\"text-align: right;\">\n",
       "      <th></th>\n",
       "      <th>name</th>\n",
       "      <th>year</th>\n",
       "      <th>selling_price_inr</th>\n",
       "      <th>km_driven</th>\n",
       "      <th>fuel</th>\n",
       "      <th>seller_type</th>\n",
       "      <th>transmission</th>\n",
       "      <th>owner</th>\n",
       "      <th>seats</th>\n",
       "      <th>engine_cc</th>\n",
       "      <th>max_power_bhp</th>\n",
       "      <th>url</th>\n",
       "    </tr>\n",
       "  </thead>\n",
       "  <tbody>\n",
       "    <tr>\n",
       "      <th>547</th>\n",
       "      <td>Maruti Alto K10 LXI</td>\n",
       "      <td>2011.0</td>\n",
       "      <td>204999.0</td>\n",
       "      <td>97500.0</td>\n",
       "      <td>Petrol</td>\n",
       "      <td>Individual</td>\n",
       "      <td>Manual</td>\n",
       "      <td>First Owner</td>\n",
       "      <td>NaN</td>\n",
       "      <td>NaN</td>\n",
       "      <td>0.0</td>\n",
       "      <td>NaN</td>\n",
       "    </tr>\n",
       "    <tr>\n",
       "      <th>1309</th>\n",
       "      <td>Maruti Swift Dzire VDI Optional</td>\n",
       "      <td>2017.0</td>\n",
       "      <td>589000.0</td>\n",
       "      <td>41232.0</td>\n",
       "      <td>Diesel</td>\n",
       "      <td>Dealer</td>\n",
       "      <td>Manual</td>\n",
       "      <td>First Owner</td>\n",
       "      <td>NaN</td>\n",
       "      <td>NaN</td>\n",
       "      <td>0.0</td>\n",
       "      <td>NaN</td>\n",
       "    </tr>\n",
       "    <tr>\n",
       "      <th>2352</th>\n",
       "      <td>Tata Indica Vista Quadrajet LS</td>\n",
       "      <td>2012.0</td>\n",
       "      <td>240000.0</td>\n",
       "      <td>70000.0</td>\n",
       "      <td>Diesel</td>\n",
       "      <td>Individual</td>\n",
       "      <td>Manual</td>\n",
       "      <td>First Owner</td>\n",
       "      <td>NaN</td>\n",
       "      <td>NaN</td>\n",
       "      <td>0.0</td>\n",
       "      <td>NaN</td>\n",
       "    </tr>\n",
       "  </tbody>\n",
       "</table>\n",
       "</div>"
      ],
      "text/plain": [
       "                                 name    year  selling_price_inr  km_driven  \\\n",
       "547               Maruti Alto K10 LXI  2011.0           204999.0    97500.0   \n",
       "1309  Maruti Swift Dzire VDI Optional  2017.0           589000.0    41232.0   \n",
       "2352   Tata Indica Vista Quadrajet LS  2012.0           240000.0    70000.0   \n",
       "\n",
       "        fuel seller_type transmission        owner  seats  engine_cc  \\\n",
       "547   Petrol  Individual       Manual  First Owner    NaN        NaN   \n",
       "1309  Diesel      Dealer       Manual  First Owner    NaN        NaN   \n",
       "2352  Diesel  Individual       Manual  First Owner    NaN        NaN   \n",
       "\n",
       "      max_power_bhp  url  \n",
       "547             0.0  NaN  \n",
       "1309            0.0  NaN  \n",
       "2352            0.0  NaN  "
      ]
     },
     "execution_count": 58,
     "metadata": {},
     "output_type": "execute_result"
    }
   ],
   "source": [
    "raw_data[raw_data['max_power_bhp'] == 0]"
   ]
  },
  {
   "cell_type": "markdown",
   "id": "8ad1019f",
   "metadata": {},
   "source": [
    "Obviously, '0' values in *max_power_bhp* should be replaced with null."
   ]
  },
  {
   "cell_type": "code",
   "execution_count": 59,
   "id": "ca5b9901",
   "metadata": {},
   "outputs": [],
   "source": [
    "raw_data.loc[raw_data['max_power_bhp'] == 0, 'max_power_bhp'] = np.nan"
   ]
  },
  {
   "cell_type": "markdown",
   "id": "83a08af8",
   "metadata": {},
   "source": [
    "We will plot boxplot diagrams again to make sure that we've done everything correct."
   ]
  },
  {
   "cell_type": "code",
   "execution_count": 60,
   "id": "6f09d1ef",
   "metadata": {},
   "outputs": [
    {
     "data": {
      "image/png": "[encoded data removed]",
      "text/plain": [
       "<Figure size 864x864 with 6 Axes>"
      ]
     },
     "metadata": {
      "needs_background": "light"
     },
     "output_type": "display_data"
    }
   ],
   "source": [
    "plot_whiskers(raw_data)"
   ]
  },
  {
   "cell_type": "markdown",
   "id": "78792c72",
   "metadata": {},
   "source": [
    "### Numeric fields: Descriptive statistics\n",
    "As a last check of numeric fields we will take a look at their descriptive statistics."
   ]
  },
  {
   "cell_type": "code",
   "execution_count": 61,
   "id": "ea595fb0",
   "metadata": {},
   "outputs": [
    {
     "data": {
      "text/html": [
       "<div>\n",
       "<style scoped>\n",
       "    .dataframe tbody tr th:only-of-type {\n",
       "        vertical-align: middle;\n",
       "    }\n",
       "\n",
       "    .dataframe tbody tr th {\n",
       "        vertical-align: top;\n",
       "    }\n",
       "\n",
       "    .dataframe thead th {\n",
       "        text-align: right;\n",
       "    }\n",
       "</style>\n",
       "<table border=\"1\" class=\"dataframe\">\n",
       "  <thead>\n",
       "    <tr style=\"text-align: right;\">\n",
       "      <th></th>\n",
       "      <th>year</th>\n",
       "      <th>selling_price_inr</th>\n",
       "      <th>km_driven</th>\n",
       "      <th>seats</th>\n",
       "      <th>engine_cc</th>\n",
       "      <th>max_power_bhp</th>\n",
       "    </tr>\n",
       "  </thead>\n",
       "  <tbody>\n",
       "    <tr>\n",
       "      <th>count</th>\n",
       "      <td>26710.000000</td>\n",
       "      <td>2.671000e+04</td>\n",
       "      <td>26710.000000</td>\n",
       "      <td>26415.000000</td>\n",
       "      <td>26391.000000</td>\n",
       "      <td>26166.000000</td>\n",
       "    </tr>\n",
       "    <tr>\n",
       "      <th>mean</th>\n",
       "      <td>2014.234107</td>\n",
       "      <td>6.779439e+05</td>\n",
       "      <td>61981.228529</td>\n",
       "      <td>5.349347</td>\n",
       "      <td>1465.231291</td>\n",
       "      <td>96.370949</td>\n",
       "    </tr>\n",
       "    <tr>\n",
       "      <th>std</th>\n",
       "      <td>3.518585</td>\n",
       "      <td>7.730217e+05</td>\n",
       "      <td>44583.440222</td>\n",
       "      <td>0.879252</td>\n",
       "      <td>510.763174</td>\n",
       "      <td>40.990499</td>\n",
       "    </tr>\n",
       "    <tr>\n",
       "      <th>min</th>\n",
       "      <td>1983.000000</td>\n",
       "      <td>2.500000e+04</td>\n",
       "      <td>1.000000</td>\n",
       "      <td>2.000000</td>\n",
       "      <td>624.000000</td>\n",
       "      <td>25.400000</td>\n",
       "    </tr>\n",
       "    <tr>\n",
       "      <th>25%</th>\n",
       "      <td>2012.000000</td>\n",
       "      <td>3.100000e+05</td>\n",
       "      <td>33000.000000</td>\n",
       "      <td>5.000000</td>\n",
       "      <td>1197.000000</td>\n",
       "      <td>72.000000</td>\n",
       "    </tr>\n",
       "    <tr>\n",
       "      <th>50%</th>\n",
       "      <td>2015.000000</td>\n",
       "      <td>4.950000e+05</td>\n",
       "      <td>55309.500000</td>\n",
       "      <td>5.000000</td>\n",
       "      <td>1248.000000</td>\n",
       "      <td>85.800000</td>\n",
       "    </tr>\n",
       "    <tr>\n",
       "      <th>75%</th>\n",
       "      <td>2017.000000</td>\n",
       "      <td>7.450000e+05</td>\n",
       "      <td>80000.000000</td>\n",
       "      <td>5.000000</td>\n",
       "      <td>1582.000000</td>\n",
       "      <td>108.490000</td>\n",
       "    </tr>\n",
       "    <tr>\n",
       "      <th>max</th>\n",
       "      <td>2021.000000</td>\n",
       "      <td>1.500000e+07</td>\n",
       "      <td>950000.000000</td>\n",
       "      <td>14.000000</td>\n",
       "      <td>5998.000000</td>\n",
       "      <td>626.000000</td>\n",
       "    </tr>\n",
       "  </tbody>\n",
       "</table>\n",
       "</div>"
      ],
      "text/plain": [
       "               year  selling_price_inr      km_driven         seats  \\\n",
       "count  26710.000000       2.671000e+04   26710.000000  26415.000000   \n",
       "mean    2014.234107       6.779439e+05   61981.228529      5.349347   \n",
       "std        3.518585       7.730217e+05   44583.440222      0.879252   \n",
       "min     1983.000000       2.500000e+04       1.000000      2.000000   \n",
       "25%     2012.000000       3.100000e+05   33000.000000      5.000000   \n",
       "50%     2015.000000       4.950000e+05   55309.500000      5.000000   \n",
       "75%     2017.000000       7.450000e+05   80000.000000      5.000000   \n",
       "max     2021.000000       1.500000e+07  950000.000000     14.000000   \n",
       "\n",
       "          engine_cc  max_power_bhp  \n",
       "count  26391.000000   26166.000000  \n",
       "mean    1465.231291      96.370949  \n",
       "std      510.763174      40.990499  \n",
       "min      624.000000      25.400000  \n",
       "25%     1197.000000      72.000000  \n",
       "50%     1248.000000      85.800000  \n",
       "75%     1582.000000     108.490000  \n",
       "max     5998.000000     626.000000  "
      ]
     },
     "execution_count": 61,
     "metadata": {},
     "output_type": "execute_result"
    }
   ],
   "source": [
    "raw_data.describe()"
   ]
  },
  {
   "cell_type": "markdown",
   "id": "b53a2b82",
   "metadata": {},
   "source": [
    "### Categorical fields\n",
    "Let's take a look at unique values of categorical fields to see if there are any errors."
   ]
  },
  {
   "cell_type": "code",
   "execution_count": 62,
   "id": "c5345c2a",
   "metadata": {},
   "outputs": [
    {
     "name": "stdout",
     "output_type": "stream",
     "text": [
      "<======= fuel =======>\n",
      "Diesel      13475\n",
      "Petrol      12751\n",
      "CNG           370\n",
      "LPG           104\n",
      "Electric       10\n",
      "Name: fuel, dtype: int64\n",
      "\n",
      "<======= seller_type =======>\n",
      "Individual          13936\n",
      "Dealer              12557\n",
      "Trustmark Dealer      217\n",
      "Name: seller_type, dtype: int64\n",
      "\n",
      "<======= transmission =======>\n",
      "Manual       22223\n",
      "Automatic     4487\n",
      "Name: transmission, dtype: int64\n",
      "\n",
      "<======= owner =======>\n",
      "First Owner             24021\n",
      "Second Owner             1977\n",
      "Third Owner               538\n",
      "Fourth & Above Owner      169\n",
      "Test Drive Car              5\n",
      "Name: owner, dtype: int64\n",
      "\n"
     ]
    }
   ],
   "source": [
    "categ_cols = ['fuel', 'seller_type', 'transmission', 'owner']\n",
    "list_value_counts(raw_data, categ_cols)"
   ]
  },
  {
   "cell_type": "markdown",
   "id": "c8a20c75",
   "metadata": {},
   "source": [
    "It is not clear what *owner* = 'Test Drive Car' means, so we will take a look at rows with such value."
   ]
  },
  {
   "cell_type": "code",
   "execution_count": 63,
   "id": "0daa3007",
   "metadata": {},
   "outputs": [
    {
     "data": {
      "text/html": [
       "<div>\n",
       "<style scoped>\n",
       "    .dataframe tbody tr th:only-of-type {\n",
       "        vertical-align: middle;\n",
       "    }\n",
       "\n",
       "    .dataframe tbody tr th {\n",
       "        vertical-align: top;\n",
       "    }\n",
       "\n",
       "    .dataframe thead th {\n",
       "        text-align: right;\n",
       "    }\n",
       "</style>\n",
       "<table border=\"1\" class=\"dataframe\">\n",
       "  <thead>\n",
       "    <tr style=\"text-align: right;\">\n",
       "      <th></th>\n",
       "      <th>name</th>\n",
       "      <th>year</th>\n",
       "      <th>selling_price_inr</th>\n",
       "      <th>km_driven</th>\n",
       "      <th>fuel</th>\n",
       "      <th>seller_type</th>\n",
       "      <th>transmission</th>\n",
       "      <th>owner</th>\n",
       "      <th>seats</th>\n",
       "      <th>engine_cc</th>\n",
       "      <th>max_power_bhp</th>\n",
       "      <th>url</th>\n",
       "    </tr>\n",
       "  </thead>\n",
       "  <tbody>\n",
       "    <tr>\n",
       "      <th>3830</th>\n",
       "      <td>Volkswagen Vento 1.5 TDI Highline BSIV</td>\n",
       "      <td>2019.0</td>\n",
       "      <td>1350000.0</td>\n",
       "      <td>5400.0</td>\n",
       "      <td>Diesel</td>\n",
       "      <td>Dealer</td>\n",
       "      <td>Manual</td>\n",
       "      <td>Test Drive Car</td>\n",
       "      <td>5.0</td>\n",
       "      <td>1498.0</td>\n",
       "      <td>108.60</td>\n",
       "      <td>NaN</td>\n",
       "    </tr>\n",
       "    <tr>\n",
       "      <th>4286</th>\n",
       "      <td>Audi A6 35 TFSI Matrix</td>\n",
       "      <td>2019.0</td>\n",
       "      <td>6223000.0</td>\n",
       "      <td>7800.0</td>\n",
       "      <td>Petrol</td>\n",
       "      <td>Dealer</td>\n",
       "      <td>Automatic</td>\n",
       "      <td>Test Drive Car</td>\n",
       "      <td>5.0</td>\n",
       "      <td>1798.0</td>\n",
       "      <td>187.74</td>\n",
       "      <td>NaN</td>\n",
       "    </tr>\n",
       "    <tr>\n",
       "      <th>4287</th>\n",
       "      <td>Audi A6 35 TFSI Matrix</td>\n",
       "      <td>2019.0</td>\n",
       "      <td>5923000.0</td>\n",
       "      <td>11500.0</td>\n",
       "      <td>Petrol</td>\n",
       "      <td>Dealer</td>\n",
       "      <td>Automatic</td>\n",
       "      <td>Test Drive Car</td>\n",
       "      <td>5.0</td>\n",
       "      <td>1798.0</td>\n",
       "      <td>187.74</td>\n",
       "      <td>NaN</td>\n",
       "    </tr>\n",
       "    <tr>\n",
       "      <th>4288</th>\n",
       "      <td>Audi A6 35 TFSI Matrix</td>\n",
       "      <td>2019.0</td>\n",
       "      <td>6523000.0</td>\n",
       "      <td>23600.0</td>\n",
       "      <td>Petrol</td>\n",
       "      <td>Dealer</td>\n",
       "      <td>Automatic</td>\n",
       "      <td>Test Drive Car</td>\n",
       "      <td>5.0</td>\n",
       "      <td>1798.0</td>\n",
       "      <td>187.74</td>\n",
       "      <td>NaN</td>\n",
       "    </tr>\n",
       "    <tr>\n",
       "      <th>5351</th>\n",
       "      <td>Honda Civic ZX</td>\n",
       "      <td>2019.0</td>\n",
       "      <td>2000000.0</td>\n",
       "      <td>24857.0</td>\n",
       "      <td>Petrol</td>\n",
       "      <td>Dealer</td>\n",
       "      <td>Automatic</td>\n",
       "      <td>Test Drive Car</td>\n",
       "      <td>5.0</td>\n",
       "      <td>1799.0</td>\n",
       "      <td>139.46</td>\n",
       "      <td>NaN</td>\n",
       "    </tr>\n",
       "  </tbody>\n",
       "</table>\n",
       "</div>"
      ],
      "text/plain": [
       "                                        name    year  selling_price_inr  \\\n",
       "3830  Volkswagen Vento 1.5 TDI Highline BSIV  2019.0          1350000.0   \n",
       "4286                  Audi A6 35 TFSI Matrix  2019.0          6223000.0   \n",
       "4287                  Audi A6 35 TFSI Matrix  2019.0          5923000.0   \n",
       "4288                  Audi A6 35 TFSI Matrix  2019.0          6523000.0   \n",
       "5351                          Honda Civic ZX  2019.0          2000000.0   \n",
       "\n",
       "      km_driven    fuel seller_type transmission           owner  seats  \\\n",
       "3830     5400.0  Diesel      Dealer       Manual  Test Drive Car    5.0   \n",
       "4286     7800.0  Petrol      Dealer    Automatic  Test Drive Car    5.0   \n",
       "4287    11500.0  Petrol      Dealer    Automatic  Test Drive Car    5.0   \n",
       "4288    23600.0  Petrol      Dealer    Automatic  Test Drive Car    5.0   \n",
       "5351    24857.0  Petrol      Dealer    Automatic  Test Drive Car    5.0   \n",
       "\n",
       "      engine_cc  max_power_bhp  url  \n",
       "3830     1498.0         108.60  NaN  \n",
       "4286     1798.0         187.74  NaN  \n",
       "4287     1798.0         187.74  NaN  \n",
       "4288     1798.0         187.74  NaN  \n",
       "5351     1799.0         139.46  NaN  "
      ]
     },
     "execution_count": 63,
     "metadata": {},
     "output_type": "execute_result"
    }
   ],
   "source": [
    "raw_data[raw_data['owner'] == 'Test Drive Car']"
   ]
  },
  {
   "cell_type": "markdown",
   "id": "3b59b7fb",
   "metadata": {},
   "source": [
    "Since they have low values in *km_driven*, they may be cars used for test driving in car dealership and we will assign them to 'First Owner' group."
   ]
  },
  {
   "cell_type": "code",
   "execution_count": 64,
   "id": "c9b1dd61",
   "metadata": {},
   "outputs": [
    {
     "name": "stdout",
     "output_type": "stream",
     "text": [
      "<======= owner =======>\n",
      "First Owner             24026\n",
      "Second Owner             1977\n",
      "Third Owner               538\n",
      "Fourth & Above Owner      169\n",
      "Name: owner, dtype: int64\n",
      "\n"
     ]
    }
   ],
   "source": [
    "raw_data.loc[raw_data['owner'] == 'Test Drive Car', 'owner'] = 'First Owner'\n",
    "list_value_counts(raw_data, ['owner'])"
   ]
  },
  {
   "cell_type": "markdown",
   "id": "9cefee4f",
   "metadata": {},
   "source": [
    "Other categorical columns have understandable and right values.\n",
    "## Managing null values\n",
    "Let's take a look at amount of null values in data (without *url* column, since we left only to help us find missing values)."
   ]
  },
  {
   "cell_type": "code",
   "execution_count": 65,
   "id": "e837b667",
   "metadata": {
    "scrolled": true
   },
   "outputs": [],
   "source": [
    "def null_counter(df):\n",
    "    display(\n",
    "        pd.DataFrame(\n",
    "            df.isnull().sum(axis=1).value_counts().sort_index(ascending=False)\n",
    "        ).reset_index().rename(columns={'index':'n_nulls', 0:'n_rows'})\n",
    "    )"
   ]
  },
  {
   "cell_type": "code",
   "execution_count": 66,
   "id": "cbf5cf96",
   "metadata": {},
   "outputs": [
    {
     "data": {
      "text/html": [
       "<div>\n",
       "<style scoped>\n",
       "    .dataframe tbody tr th:only-of-type {\n",
       "        vertical-align: middle;\n",
       "    }\n",
       "\n",
       "    .dataframe tbody tr th {\n",
       "        vertical-align: top;\n",
       "    }\n",
       "\n",
       "    .dataframe thead th {\n",
       "        text-align: right;\n",
       "    }\n",
       "</style>\n",
       "<table border=\"1\" class=\"dataframe\">\n",
       "  <thead>\n",
       "    <tr style=\"text-align: right;\">\n",
       "      <th></th>\n",
       "      <th>n_nulls</th>\n",
       "      <th>n_rows</th>\n",
       "    </tr>\n",
       "  </thead>\n",
       "  <tbody>\n",
       "    <tr>\n",
       "      <th>0</th>\n",
       "      <td>11</td>\n",
       "      <td>1</td>\n",
       "    </tr>\n",
       "    <tr>\n",
       "      <th>1</th>\n",
       "      <td>3</td>\n",
       "      <td>270</td>\n",
       "    </tr>\n",
       "    <tr>\n",
       "      <th>2</th>\n",
       "      <td>2</td>\n",
       "      <td>54</td>\n",
       "    </tr>\n",
       "    <tr>\n",
       "      <th>3</th>\n",
       "      <td>1</td>\n",
       "      <td>240</td>\n",
       "    </tr>\n",
       "    <tr>\n",
       "      <th>4</th>\n",
       "      <td>0</td>\n",
       "      <td>26146</td>\n",
       "    </tr>\n",
       "  </tbody>\n",
       "</table>\n",
       "</div>"
      ],
      "text/plain": [
       "   n_nulls  n_rows\n",
       "0       11       1\n",
       "1        3     270\n",
       "2        2      54\n",
       "3        1     240\n",
       "4        0   26146"
      ]
     },
     "metadata": {},
     "output_type": "display_data"
    }
   ],
   "source": [
    "null_counter(raw_data.loc[:, raw_data.columns != 'url'])"
   ]
  },
  {
   "cell_type": "markdown",
   "id": "908e9211",
   "metadata": {},
   "source": [
    "We'll drop empty row and explore in greater detail other rows with null values."
   ]
  },
  {
   "cell_type": "code",
   "execution_count": 67,
   "id": "11983bb7",
   "metadata": {},
   "outputs": [],
   "source": [
    "raw_data = raw_data[raw_data.isnull().sum(axis=1)!=11].reset_index(drop=True)"
   ]
  },
  {
   "cell_type": "code",
   "execution_count": 68,
   "id": "dd10ac3b",
   "metadata": {},
   "outputs": [],
   "source": [
    "def n_nulls_cols_counter(df, n_nulls):\n",
    "    print(\n",
    "        df[df.isnull().sum(axis=1)==n_nulls].apply(lambda row: frozenset(df.columns[row.isnull()]), axis=1).value_counts()\n",
    "    )\n",
    "\n",
    "def all_null_cols_counter(df):\n",
    "    uniq_n_nulls = sorted(df.isnull().sum(axis=1).unique(), reverse = True)[:-1]\n",
    "    for n in uniq_n_nulls:\n",
    "        print('>>> List of columns with null values, where amount of nulls =', n,'<<<')\n",
    "        n_nulls_cols_counter(df, n)\n",
    "        print()"
   ]
  },
  {
   "cell_type": "code",
   "execution_count": 69,
   "id": "a6cfb536",
   "metadata": {},
   "outputs": [
    {
     "name": "stdout",
     "output_type": "stream",
     "text": [
      ">>> List of columns with null values, where amount of nulls = 3 <<<\n",
      "(seats, max_power_bhp, engine_cc)    270\n",
      "dtype: int64\n",
      "\n",
      ">>> List of columns with null values, where amount of nulls = 2 <<<\n",
      "(max_power_bhp, engine_cc)    39\n",
      "(seats, max_power_bhp)        15\n",
      "dtype: int64\n",
      "\n",
      ">>> List of columns with null values, where amount of nulls = 1 <<<\n",
      "(max_power_bhp)    220\n",
      "(seats)             10\n",
      "(engine_cc)         10\n",
      "dtype: int64\n",
      "\n"
     ]
    }
   ],
   "source": [
    "all_null_cols_counter(raw_data.loc[:, raw_data.columns != 'url'])"
   ]
  },
  {
   "cell_type": "markdown",
   "id": "04bafda1",
   "metadata": {},
   "source": [
    "All columns with null values are features of car which are not influenced by age. That's why we will try to find values for this fields in other rows by searching the name of the car. "
   ]
  },
  {
   "cell_type": "code",
   "execution_count": 70,
   "id": "b567d392",
   "metadata": {},
   "outputs": [],
   "source": [
    "def fillna_by_col(data, col):\n",
    "    df = data.copy()\n",
    "    unique_vals = df.loc[df.isnull().any(axis=1), col].unique()\n",
    "    for val in unique_vals:\n",
    "        df[df[col]==val] = df[df[col]==val].ffill().bfill()\n",
    "    \n",
    "    return df"
   ]
  },
  {
   "cell_type": "code",
   "execution_count": 71,
   "id": "d94c66c2",
   "metadata": {},
   "outputs": [
    {
     "data": {
      "text/html": [
       "<div>\n",
       "<style scoped>\n",
       "    .dataframe tbody tr th:only-of-type {\n",
       "        vertical-align: middle;\n",
       "    }\n",
       "\n",
       "    .dataframe tbody tr th {\n",
       "        vertical-align: top;\n",
       "    }\n",
       "\n",
       "    .dataframe thead th {\n",
       "        text-align: right;\n",
       "    }\n",
       "</style>\n",
       "<table border=\"1\" class=\"dataframe\">\n",
       "  <thead>\n",
       "    <tr style=\"text-align: right;\">\n",
       "      <th></th>\n",
       "      <th>n_nulls</th>\n",
       "      <th>n_rows</th>\n",
       "    </tr>\n",
       "  </thead>\n",
       "  <tbody>\n",
       "    <tr>\n",
       "      <th>0</th>\n",
       "      <td>3</td>\n",
       "      <td>121</td>\n",
       "    </tr>\n",
       "    <tr>\n",
       "      <th>1</th>\n",
       "      <td>2</td>\n",
       "      <td>63</td>\n",
       "    </tr>\n",
       "    <tr>\n",
       "      <th>2</th>\n",
       "      <td>1</td>\n",
       "      <td>208</td>\n",
       "    </tr>\n",
       "    <tr>\n",
       "      <th>3</th>\n",
       "      <td>0</td>\n",
       "      <td>26318</td>\n",
       "    </tr>\n",
       "  </tbody>\n",
       "</table>\n",
       "</div>"
      ],
      "text/plain": [
       "   n_nulls  n_rows\n",
       "0        3     121\n",
       "1        2      63\n",
       "2        1     208\n",
       "3        0   26318"
      ]
     },
     "metadata": {},
     "output_type": "display_data"
    }
   ],
   "source": [
    "raw_data.loc[:, raw_data.columns != 'url'] = fillna_by_col(raw_data.loc[:, raw_data.columns != 'url'], 'name')\n",
    "null_counter(raw_data.loc[:, raw_data.columns != 'url'])"
   ]
  },
  {
   "cell_type": "markdown",
   "id": "04b04abb",
   "metadata": {},
   "source": [
    "Now let's get brand of car from *name* column and fill the remaining null values with mean (*max_power_bhp, engine_cc*) and mode (*seats*) of the corresponding brand cars in the code cells below."
   ]
  },
  {
   "cell_type": "code",
   "execution_count": 72,
   "id": "b269268c",
   "metadata": {},
   "outputs": [
    {
     "data": {
      "text/plain": [
       "array(['Maruti', 'Skoda', 'Honda', 'Hyundai', 'Toyota', 'Ford', 'Renault',\n",
       "       'Mahindra', 'Tata', 'Chevrolet', 'Fiat', 'Datsun', 'Jeep',\n",
       "       'Mercedes-Benz', 'Mitsubishi', 'Audi', 'Volkswagen', 'BMW',\n",
       "       'Nissan', 'Lexus', 'Jaguar', 'Land', 'MG', 'Volvo', 'Daewoo',\n",
       "       'Kia', 'Force', 'Ambassador', 'Ashok', 'Isuzu', 'Opel', 'Peugeot',\n",
       "       'Mini', 'Porsche', 'Premier', 'Maserati', 'Bentley', 'Lamborghini',\n",
       "       'ISUZU', 'OpelCorsa', 'Mercedes-AMG', 'DC'], dtype=object)"
      ]
     },
     "execution_count": 72,
     "metadata": {},
     "output_type": "execute_result"
    }
   ],
   "source": [
    "raw_data['brand'] = raw_data['name'].str.split().str[0]\n",
    "raw_data['brand'].unique()"
   ]
  },
  {
   "cell_type": "markdown",
   "id": "aef752b4",
   "metadata": {},
   "source": [
    "Next values in new column *brand* should be changed:\n",
    "* Land -> Land Rover\n",
    "* Mini -> Mini Cooper\n",
    "* OpelCorsa -> Opel\n",
    "* Isuzu -> ISUZU\n",
    "* Ashok -> Ashok Leyland\n",
    "* Mercedes-AMG -> Mercedes-Benz"
   ]
  },
  {
   "cell_type": "code",
   "execution_count": 73,
   "id": "359c32f8",
   "metadata": {},
   "outputs": [
    {
     "data": {
      "text/plain": [
       "array(['Maruti', 'Skoda', 'Honda', 'Hyundai', 'Toyota', 'Ford', 'Renault',\n",
       "       'Mahindra', 'Tata', 'Chevrolet', 'Fiat', 'Datsun', 'Jeep',\n",
       "       'Mercedes-Benz', 'Mitsubishi', 'Audi', 'Volkswagen', 'BMW',\n",
       "       'Nissan', 'Lexus', 'Jaguar', 'Land Rover', 'MG', 'Volvo', 'Daewoo',\n",
       "       'Kia', 'Force', 'Ambassador', 'Ashok Leyland', 'ISUZU', 'Opel',\n",
       "       'Peugeot', 'Mini Cooper', 'Porsche', 'Premier', 'Maserati',\n",
       "       'Bentley', 'Lamborghini', 'DC'], dtype=object)"
      ]
     },
     "execution_count": 73,
     "metadata": {},
     "output_type": "execute_result"
    }
   ],
   "source": [
    "replace_dict = {\n",
    "    'Land' : 'Land Rover', \n",
    "    'Mini' : 'Mini Cooper',\n",
    "    'OpelCorsa' : 'Opel',\n",
    "    'Isuzu' : 'ISUZU',\n",
    "    'Ashok' : 'Ashok Leyland',\n",
    "    'Mercedes-AMG' : 'Mercedes-Benz'\n",
    "}\n",
    "raw_data['brand'] = raw_data['brand'].replace(replace_dict)\n",
    "raw_data['brand'].unique()"
   ]
  },
  {
   "cell_type": "code",
   "execution_count": 74,
   "id": "d4e9687b",
   "metadata": {},
   "outputs": [],
   "source": [
    "def fillna_stat_by_col(data, col, fill_method):\n",
    "    df = data.copy()\n",
    "    unique_vals = df.loc[df.isnull().any(axis=1), col].unique()\n",
    "    for val in unique_vals:\n",
    "        if fill_method=='mean':\n",
    "            df[df[col]==val] = df[df[col]==val].fillna(df[df[col]==val].mean(numeric_only=True))\n",
    "        elif fill_method=='mode':\n",
    "            df[df[col]==val] = df[df[col]==val].fillna(df[df[col]==val].mode().iloc[0,:])\n",
    "        else:\n",
    "            print(f\"Error: method '{fill_method}' is incorrect\")\n",
    "            return\n",
    "    \n",
    "    return df"
   ]
  },
  {
   "cell_type": "code",
   "execution_count": 75,
   "id": "c0a523c3",
   "metadata": {},
   "outputs": [
    {
     "name": "stdout",
     "output_type": "stream",
     "text": [
      ">>> Before filling null values\n"
     ]
    },
    {
     "data": {
      "text/html": [
       "<div>\n",
       "<style scoped>\n",
       "    .dataframe tbody tr th:only-of-type {\n",
       "        vertical-align: middle;\n",
       "    }\n",
       "\n",
       "    .dataframe tbody tr th {\n",
       "        vertical-align: top;\n",
       "    }\n",
       "\n",
       "    .dataframe thead th {\n",
       "        text-align: right;\n",
       "    }\n",
       "</style>\n",
       "<table border=\"1\" class=\"dataframe\">\n",
       "  <thead>\n",
       "    <tr style=\"text-align: right;\">\n",
       "      <th></th>\n",
       "      <th>n_nulls</th>\n",
       "      <th>n_rows</th>\n",
       "    </tr>\n",
       "  </thead>\n",
       "  <tbody>\n",
       "    <tr>\n",
       "      <th>0</th>\n",
       "      <td>3</td>\n",
       "      <td>121</td>\n",
       "    </tr>\n",
       "    <tr>\n",
       "      <th>1</th>\n",
       "      <td>2</td>\n",
       "      <td>63</td>\n",
       "    </tr>\n",
       "    <tr>\n",
       "      <th>2</th>\n",
       "      <td>1</td>\n",
       "      <td>208</td>\n",
       "    </tr>\n",
       "    <tr>\n",
       "      <th>3</th>\n",
       "      <td>0</td>\n",
       "      <td>26318</td>\n",
       "    </tr>\n",
       "  </tbody>\n",
       "</table>\n",
       "</div>"
      ],
      "text/plain": [
       "   n_nulls  n_rows\n",
       "0        3     121\n",
       "1        2      63\n",
       "2        1     208\n",
       "3        0   26318"
      ]
     },
     "metadata": {},
     "output_type": "display_data"
    },
    {
     "name": "stdout",
     "output_type": "stream",
     "text": [
      "\n",
      ">>> After filling null values in engine_cc and max_power_bhp\n"
     ]
    },
    {
     "data": {
      "text/html": [
       "<div>\n",
       "<style scoped>\n",
       "    .dataframe tbody tr th:only-of-type {\n",
       "        vertical-align: middle;\n",
       "    }\n",
       "\n",
       "    .dataframe tbody tr th {\n",
       "        vertical-align: top;\n",
       "    }\n",
       "\n",
       "    .dataframe thead th {\n",
       "        text-align: right;\n",
       "    }\n",
       "</style>\n",
       "<table border=\"1\" class=\"dataframe\">\n",
       "  <thead>\n",
       "    <tr style=\"text-align: right;\">\n",
       "      <th></th>\n",
       "      <th>n_nulls</th>\n",
       "      <th>n_rows</th>\n",
       "    </tr>\n",
       "  </thead>\n",
       "  <tbody>\n",
       "    <tr>\n",
       "      <th>0</th>\n",
       "      <td>3</td>\n",
       "      <td>1</td>\n",
       "    </tr>\n",
       "    <tr>\n",
       "      <th>1</th>\n",
       "      <td>1</td>\n",
       "      <td>151</td>\n",
       "    </tr>\n",
       "    <tr>\n",
       "      <th>2</th>\n",
       "      <td>0</td>\n",
       "      <td>26558</td>\n",
       "    </tr>\n",
       "  </tbody>\n",
       "</table>\n",
       "</div>"
      ],
      "text/plain": [
       "   n_nulls  n_rows\n",
       "0        3       1\n",
       "1        1     151\n",
       "2        0   26558"
      ]
     },
     "metadata": {},
     "output_type": "display_data"
    },
    {
     "name": "stdout",
     "output_type": "stream",
     "text": [
      "\n",
      ">>> After filling null values in seats\n"
     ]
    },
    {
     "data": {
      "text/html": [
       "<div>\n",
       "<style scoped>\n",
       "    .dataframe tbody tr th:only-of-type {\n",
       "        vertical-align: middle;\n",
       "    }\n",
       "\n",
       "    .dataframe tbody tr th {\n",
       "        vertical-align: top;\n",
       "    }\n",
       "\n",
       "    .dataframe thead th {\n",
       "        text-align: right;\n",
       "    }\n",
       "</style>\n",
       "<table border=\"1\" class=\"dataframe\">\n",
       "  <thead>\n",
       "    <tr style=\"text-align: right;\">\n",
       "      <th></th>\n",
       "      <th>n_nulls</th>\n",
       "      <th>n_rows</th>\n",
       "    </tr>\n",
       "  </thead>\n",
       "  <tbody>\n",
       "    <tr>\n",
       "      <th>0</th>\n",
       "      <td>3</td>\n",
       "      <td>1</td>\n",
       "    </tr>\n",
       "    <tr>\n",
       "      <th>1</th>\n",
       "      <td>0</td>\n",
       "      <td>26709</td>\n",
       "    </tr>\n",
       "  </tbody>\n",
       "</table>\n",
       "</div>"
      ],
      "text/plain": [
       "   n_nulls  n_rows\n",
       "0        3       1\n",
       "1        0   26709"
      ]
     },
     "metadata": {},
     "output_type": "display_data"
    }
   ],
   "source": [
    "print('>>> Before filling null values')\n",
    "null_counter(raw_data.loc[:, raw_data.columns != 'url'])\n",
    "raw_data.loc[:, ~raw_data.columns.isin(['url', 'seats'])] = fillna_stat_by_col(\n",
    "    raw_data.loc[:, ~raw_data.columns.isin(['url', 'seats'])],\n",
    "    'brand',\n",
    "    'mean'\n",
    ")\n",
    "print('\\n>>> After filling null values in engine_cc and max_power_bhp')\n",
    "null_counter(raw_data.loc[:, raw_data.columns != 'url'])\n",
    "raw_data.loc[:, raw_data.columns != 'url'] = fillna_stat_by_col(\n",
    "    raw_data.loc[:, raw_data.columns != 'url'],\n",
    "    'brand',\n",
    "    'mode'\n",
    ")\n",
    "print('\\n>>> After filling null values in seats')\n",
    "null_counter(raw_data.loc[:, raw_data.columns != 'url'])"
   ]
  },
  {
   "cell_type": "markdown",
   "id": "f67f52fb",
   "metadata": {},
   "source": [
    "We will take a look at last row with null values."
   ]
  },
  {
   "cell_type": "code",
   "execution_count": 76,
   "id": "988cceeb",
   "metadata": {},
   "outputs": [
    {
     "data": {
      "text/html": [
       "<div>\n",
       "<style scoped>\n",
       "    .dataframe tbody tr th:only-of-type {\n",
       "        vertical-align: middle;\n",
       "    }\n",
       "\n",
       "    .dataframe tbody tr th {\n",
       "        vertical-align: top;\n",
       "    }\n",
       "\n",
       "    .dataframe thead th {\n",
       "        text-align: right;\n",
       "    }\n",
       "</style>\n",
       "<table border=\"1\" class=\"dataframe\">\n",
       "  <thead>\n",
       "    <tr style=\"text-align: right;\">\n",
       "      <th></th>\n",
       "      <th>name</th>\n",
       "      <th>year</th>\n",
       "      <th>selling_price_inr</th>\n",
       "      <th>km_driven</th>\n",
       "      <th>fuel</th>\n",
       "      <th>seller_type</th>\n",
       "      <th>transmission</th>\n",
       "      <th>owner</th>\n",
       "      <th>seats</th>\n",
       "      <th>engine_cc</th>\n",
       "      <th>max_power_bhp</th>\n",
       "      <th>url</th>\n",
       "      <th>brand</th>\n",
       "    </tr>\n",
       "  </thead>\n",
       "  <tbody>\n",
       "    <tr>\n",
       "      <th>5780</th>\n",
       "      <td>Peugeot 309 GLD</td>\n",
       "      <td>1997.0</td>\n",
       "      <td>57000.0</td>\n",
       "      <td>110000.0</td>\n",
       "      <td>Diesel</td>\n",
       "      <td>Individual</td>\n",
       "      <td>Manual</td>\n",
       "      <td>Third Owner</td>\n",
       "      <td>NaN</td>\n",
       "      <td>NaN</td>\n",
       "      <td>NaN</td>\n",
       "      <td>NaN</td>\n",
       "      <td>Peugeot</td>\n",
       "    </tr>\n",
       "  </tbody>\n",
       "</table>\n",
       "</div>"
      ],
      "text/plain": [
       "                 name    year  selling_price_inr  km_driven    fuel  \\\n",
       "5780  Peugeot 309 GLD  1997.0            57000.0   110000.0  Diesel   \n",
       "\n",
       "     seller_type transmission        owner  seats  engine_cc  max_power_bhp  \\\n",
       "5780  Individual       Manual  Third Owner    NaN        NaN            NaN   \n",
       "\n",
       "      url    brand  \n",
       "5780  NaN  Peugeot  "
      ]
     },
     "execution_count": 76,
     "metadata": {},
     "output_type": "execute_result"
    }
   ],
   "source": [
    "raw_data.loc[raw_data.drop(columns='url').isnull().any(axis=1), :]"
   ]
  },
  {
   "cell_type": "markdown",
   "id": "52807c41",
   "metadata": {},
   "source": [
    "We will fill these null values with information from [ultimatespecs.com](https://www.ultimatespecs.com/car-specs/Peugeot/1974/Peugeot-309-GLD---GRD.html)."
   ]
  },
  {
   "cell_type": "code",
   "execution_count": 77,
   "id": "8d41c894",
   "metadata": {},
   "outputs": [
    {
     "data": {
      "text/html": [
       "<div>\n",
       "<style scoped>\n",
       "    .dataframe tbody tr th:only-of-type {\n",
       "        vertical-align: middle;\n",
       "    }\n",
       "\n",
       "    .dataframe tbody tr th {\n",
       "        vertical-align: top;\n",
       "    }\n",
       "\n",
       "    .dataframe thead th {\n",
       "        text-align: right;\n",
       "    }\n",
       "</style>\n",
       "<table border=\"1\" class=\"dataframe\">\n",
       "  <thead>\n",
       "    <tr style=\"text-align: right;\">\n",
       "      <th></th>\n",
       "      <th>n_nulls</th>\n",
       "      <th>n_rows</th>\n",
       "    </tr>\n",
       "  </thead>\n",
       "  <tbody>\n",
       "    <tr>\n",
       "      <th>0</th>\n",
       "      <td>0</td>\n",
       "      <td>26710</td>\n",
       "    </tr>\n",
       "  </tbody>\n",
       "</table>\n",
       "</div>"
      ],
      "text/plain": [
       "   n_nulls  n_rows\n",
       "0        0   26710"
      ]
     },
     "metadata": {},
     "output_type": "display_data"
    }
   ],
   "source": [
    "raw_data.loc[raw_data.drop(columns='url').isnull().any(axis=1), ['seats', 'engine_cc', 'max_power_bhp']] = [5, 1905, 64]\n",
    "null_counter(raw_data.loc[:, raw_data.columns != 'url'])"
   ]
  },
  {
   "cell_type": "markdown",
   "id": "eb8cca72",
   "metadata": {},
   "source": [
    "Let's drop *url* column, since we won't need it anymore, and move to explanatory data analysis."
   ]
  },
  {
   "cell_type": "code",
   "execution_count": 78,
   "id": "68e2cedd",
   "metadata": {},
   "outputs": [
    {
     "name": "stdout",
     "output_type": "stream",
     "text": [
      "<class 'pandas.core.frame.DataFrame'>\n",
      "RangeIndex: 26710 entries, 0 to 26709\n",
      "Data columns (total 12 columns):\n",
      " #   Column             Non-Null Count  Dtype  \n",
      "---  ------             --------------  -----  \n",
      " 0   name               26710 non-null  object \n",
      " 1   year               26710 non-null  float64\n",
      " 2   selling_price_inr  26710 non-null  float64\n",
      " 3   km_driven          26710 non-null  float64\n",
      " 4   fuel               26710 non-null  object \n",
      " 5   seller_type        26710 non-null  object \n",
      " 6   transmission       26710 non-null  object \n",
      " 7   owner              26710 non-null  object \n",
      " 8   seats              26710 non-null  float64\n",
      " 9   engine_cc          26710 non-null  float64\n",
      " 10  max_power_bhp      26710 non-null  float64\n",
      " 11  brand              26710 non-null  object \n",
      "dtypes: float64(6), object(6)\n",
      "memory usage: 2.4+ MB\n"
     ]
    }
   ],
   "source": [
    "raw_data.drop(columns='url', inplace=True)\n",
    "raw_data.info()"
   ]
  },
  {
   "cell_type": "code",
   "execution_count": null,
   "id": "0acbc103",
   "metadata": {},
   "outputs": [],
   "source": []
  }
 ],
 "metadata": {
  "kernelspec": {
   "display_name": "Python 3 (ipykernel)",
   "language": "python",
   "name": "python3"
  },
  "language_info": {
   "codemirror_mode": {
    "name": "ipython",
    "version": 3
   },
   "file_extension": ".py",
   "mimetype": "text/x-python",
   "name": "python",
   "nbconvert_exporter": "python",
   "pygments_lexer": "ipython3",
   "version": "3.9.7"
  },
  "papermill": {
   "default_parameters": {},
   "duration": 48.908203,
   "end_time": "2022-03-07T07:53:38.931069",
   "environment_variables": {},
   "exception": null,
   "input_path": "__notebook__.ipynb",
   "output_path": "__notebook__.ipynb",
   "parameters": {},
   "start_time": "2022-03-07T07:52:50.022866",
   "version": "2.3.3"
  }
 },
 "nbformat": 4,
 "nbformat_minor": 5
}
