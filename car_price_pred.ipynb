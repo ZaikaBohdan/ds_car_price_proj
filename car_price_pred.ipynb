{
 "cells": [
  {
   "cell_type": "markdown",
   "id": "994d509e",
   "metadata": {
    "papermill": {
     "duration": 0.077109,
     "end_time": "2022-03-07T07:52:57.090052",
     "exception": false,
     "start_time": "2022-03-07T07:52:57.012943",
     "status": "completed"
    },
    "tags": []
   },
   "source": [
    "# Building car price prediction model for CarDekho website\n",
    "\n",
    "## About project\n",
    "[CarDekho](https://www.cardekho.com/) is India's leading car search venture that helps users buy cars. Its website and app carry rich automotive content such as expert reviews, detailed specs and prices, comparisons as well as videos and pictures of all car brands and models available in India. The company has tie-ups with many auto manufacturers, more than 4000 car dealers and numerous financial institutions to facilitate the purchase of vehicles.\n",
    "\n",
    "In this project, we'll collect data about used cars from CarDekho website and use it to build car price prediction model. This model may later be used by CarDekho for suggesting the price of posted by user used car."
   ]
  },
  {
   "cell_type": "code",
   "execution_count": 37,
   "id": "8d3094e8",
   "metadata": {},
   "outputs": [],
   "source": [
    "# import necessary libraries\n",
    "import numpy as np\n",
    "import pandas as pd\n",
    "import matplotlib.pyplot as plt\n",
    "import seaborn as sns\n",
    "\n",
    "import re\n",
    "from math import ceil"
   ]
  },
  {
   "cell_type": "markdown",
   "id": "e1f2b1a5",
   "metadata": {},
   "source": [
    "# Data Collection\n",
    "\n",
    "Since we don't have access to the database of CarDekho website, there are two main ways to collect data: find existing datasets or scrape data from CarDekho website. Kaggle contains two useful for our case datasets: [Vehicle dataset](https://www.kaggle.com/nehalbirla/vehicle-dataset-from-cardekho?select=Car+details+v3.csv) (\\~8000 rows) and [Used Car Prices in India](https://www.kaggle.com/saisaathvik/used-cars-dataset-from-cardekhocom?select=Cardekho_Extract.csv) (\\~20000 rows). We will use this data for model building, because:\n",
    "* both datasets contain similar columns which will make it easy to union them;\n",
    "* in sum it is about 28000 rows, which is enough for model building;\n",
    "* using existing datasets takes less time than scraping new from website;\n",
    "* according to Kaggle, ~30% of used cars from [Vehicle dataset](https://www.kaggle.com/nehalbirla/vehicle-dataset-from-cardekho?select=Car+details+v3.csv) was bought in 2016-2020 and ~16% of used cars from [Used Car Prices in India](https://www.kaggle.com/saisaathvik/used-cars-dataset-from-cardekhocom?select=Cardekho_Extract.csv) was bought in 2018-2021. Therefore the data is fresh enough."
   ]
  },
  {
   "cell_type": "markdown",
   "id": "9ef8d590",
   "metadata": {
    "papermill": {
     "duration": 0.076101,
     "end_time": "2022-03-07T07:52:57.699550",
     "exception": false,
     "start_time": "2022-03-07T07:52:57.623449",
     "status": "completed"
    },
    "tags": []
   },
   "source": [
    "# Importing the datasets"
   ]
  },
  {
   "cell_type": "markdown",
   "id": "6dfde34b",
   "metadata": {
    "execution": {
     "iopub.execute_input": "2022-03-07T07:52:57.843980Z",
     "iopub.status.busy": "2022-03-07T07:52:57.843275Z",
     "iopub.status.idle": "2022-03-07T07:52:58.733294Z",
     "shell.execute_reply": "2022-03-07T07:52:58.733861Z",
     "shell.execute_reply.started": "2021-07-25T16:48:55.808578Z"
    },
    "papermill": {
     "duration": 0.968213,
     "end_time": "2022-03-07T07:52:58.734170",
     "exception": false,
     "start_time": "2022-03-07T07:52:57.765957",
     "status": "completed"
    },
    "tags": []
   },
   "source": [
    "We'll start by taking a look at first rows and shapes of datasets.\n",
    "\n",
    "## Vehicle dataset"
   ]
  },
  {
   "cell_type": "code",
   "execution_count": 2,
   "id": "61fad768",
   "metadata": {
    "execution": {
     "iopub.execute_input": "2022-03-07T07:52:59.073196Z",
     "iopub.status.busy": "2022-03-07T07:52:59.072528Z",
     "iopub.status.idle": "2022-03-07T07:52:59.126838Z",
     "shell.execute_reply": "2022-03-07T07:52:59.126107Z",
     "shell.execute_reply.started": "2021-07-25T16:48:56.100425Z"
    },
    "papermill": {
     "duration": 0.122464,
     "end_time": "2022-03-07T07:52:59.127012",
     "exception": false,
     "start_time": "2022-03-07T07:52:59.004548",
     "status": "completed"
    },
    "scrolled": true,
    "tags": []
   },
   "outputs": [
    {
     "data": {
      "text/html": [
       "<div>\n",
       "<style scoped>\n",
       "    .dataframe tbody tr th:only-of-type {\n",
       "        vertical-align: middle;\n",
       "    }\n",
       "\n",
       "    .dataframe tbody tr th {\n",
       "        vertical-align: top;\n",
       "    }\n",
       "\n",
       "    .dataframe thead th {\n",
       "        text-align: right;\n",
       "    }\n",
       "</style>\n",
       "<table border=\"1\" class=\"dataframe\">\n",
       "  <thead>\n",
       "    <tr style=\"text-align: right;\">\n",
       "      <th></th>\n",
       "      <th>name</th>\n",
       "      <th>year</th>\n",
       "      <th>selling_price</th>\n",
       "      <th>km_driven</th>\n",
       "      <th>fuel</th>\n",
       "      <th>seller_type</th>\n",
       "      <th>transmission</th>\n",
       "      <th>owner</th>\n",
       "      <th>mileage</th>\n",
       "      <th>engine</th>\n",
       "      <th>max_power</th>\n",
       "      <th>torque</th>\n",
       "      <th>seats</th>\n",
       "    </tr>\n",
       "  </thead>\n",
       "  <tbody>\n",
       "    <tr>\n",
       "      <th>0</th>\n",
       "      <td>Maruti Swift Dzire VDI</td>\n",
       "      <td>2014</td>\n",
       "      <td>450000</td>\n",
       "      <td>145500</td>\n",
       "      <td>Diesel</td>\n",
       "      <td>Individual</td>\n",
       "      <td>Manual</td>\n",
       "      <td>First Owner</td>\n",
       "      <td>23.4 kmpl</td>\n",
       "      <td>1248 CC</td>\n",
       "      <td>74 bhp</td>\n",
       "      <td>190Nm@ 2000rpm</td>\n",
       "      <td>5.0</td>\n",
       "    </tr>\n",
       "    <tr>\n",
       "      <th>1</th>\n",
       "      <td>Skoda Rapid 1.5 TDI Ambition</td>\n",
       "      <td>2014</td>\n",
       "      <td>370000</td>\n",
       "      <td>120000</td>\n",
       "      <td>Diesel</td>\n",
       "      <td>Individual</td>\n",
       "      <td>Manual</td>\n",
       "      <td>Second Owner</td>\n",
       "      <td>21.14 kmpl</td>\n",
       "      <td>1498 CC</td>\n",
       "      <td>103.52 bhp</td>\n",
       "      <td>250Nm@ 1500-2500rpm</td>\n",
       "      <td>5.0</td>\n",
       "    </tr>\n",
       "    <tr>\n",
       "      <th>2</th>\n",
       "      <td>Honda City 2017-2020 EXi</td>\n",
       "      <td>2006</td>\n",
       "      <td>158000</td>\n",
       "      <td>140000</td>\n",
       "      <td>Petrol</td>\n",
       "      <td>Individual</td>\n",
       "      <td>Manual</td>\n",
       "      <td>Third Owner</td>\n",
       "      <td>17.7 kmpl</td>\n",
       "      <td>1497 CC</td>\n",
       "      <td>78 bhp</td>\n",
       "      <td>12.7@ 2,700(kgm@ rpm)</td>\n",
       "      <td>5.0</td>\n",
       "    </tr>\n",
       "    <tr>\n",
       "      <th>3</th>\n",
       "      <td>Hyundai i20 Sportz Diesel</td>\n",
       "      <td>2010</td>\n",
       "      <td>225000</td>\n",
       "      <td>127000</td>\n",
       "      <td>Diesel</td>\n",
       "      <td>Individual</td>\n",
       "      <td>Manual</td>\n",
       "      <td>First Owner</td>\n",
       "      <td>23.0 kmpl</td>\n",
       "      <td>1396 CC</td>\n",
       "      <td>90 bhp</td>\n",
       "      <td>22.4 kgm at 1750-2750rpm</td>\n",
       "      <td>5.0</td>\n",
       "    </tr>\n",
       "    <tr>\n",
       "      <th>4</th>\n",
       "      <td>Maruti Swift VXI BSIII</td>\n",
       "      <td>2007</td>\n",
       "      <td>130000</td>\n",
       "      <td>120000</td>\n",
       "      <td>Petrol</td>\n",
       "      <td>Individual</td>\n",
       "      <td>Manual</td>\n",
       "      <td>First Owner</td>\n",
       "      <td>16.1 kmpl</td>\n",
       "      <td>1298 CC</td>\n",
       "      <td>88.2 bhp</td>\n",
       "      <td>11.5@ 4,500(kgm@ rpm)</td>\n",
       "      <td>5.0</td>\n",
       "    </tr>\n",
       "  </tbody>\n",
       "</table>\n",
       "</div>"
      ],
      "text/plain": [
       "                           name  year  selling_price  km_driven    fuel  \\\n",
       "0        Maruti Swift Dzire VDI  2014         450000     145500  Diesel   \n",
       "1  Skoda Rapid 1.5 TDI Ambition  2014         370000     120000  Diesel   \n",
       "2      Honda City 2017-2020 EXi  2006         158000     140000  Petrol   \n",
       "3     Hyundai i20 Sportz Diesel  2010         225000     127000  Diesel   \n",
       "4        Maruti Swift VXI BSIII  2007         130000     120000  Petrol   \n",
       "\n",
       "  seller_type transmission         owner     mileage   engine   max_power  \\\n",
       "0  Individual       Manual   First Owner   23.4 kmpl  1248 CC      74 bhp   \n",
       "1  Individual       Manual  Second Owner  21.14 kmpl  1498 CC  103.52 bhp   \n",
       "2  Individual       Manual   Third Owner   17.7 kmpl  1497 CC      78 bhp   \n",
       "3  Individual       Manual   First Owner   23.0 kmpl  1396 CC      90 bhp   \n",
       "4  Individual       Manual   First Owner   16.1 kmpl  1298 CC    88.2 bhp   \n",
       "\n",
       "                     torque  seats  \n",
       "0            190Nm@ 2000rpm    5.0  \n",
       "1       250Nm@ 1500-2500rpm    5.0  \n",
       "2     12.7@ 2,700(kgm@ rpm)    5.0  \n",
       "3  22.4 kgm at 1750-2750rpm    5.0  \n",
       "4     11.5@ 4,500(kgm@ rpm)    5.0  "
      ]
     },
     "execution_count": 2,
     "metadata": {},
     "output_type": "execute_result"
    }
   ],
   "source": [
    "# read in the data\n",
    "raw_data_1 = pd.read_csv('Car details v3.csv')\n",
    "\n",
    "raw_data_1.head()"
   ]
  },
  {
   "cell_type": "code",
   "execution_count": 3,
   "id": "290d5a0b",
   "metadata": {
    "execution": {
     "iopub.execute_input": "2022-03-07T07:52:59.263086Z",
     "iopub.status.busy": "2022-03-07T07:52:59.262428Z",
     "iopub.status.idle": "2022-03-07T07:52:59.265487Z",
     "shell.execute_reply": "2022-03-07T07:52:59.266033Z",
     "shell.execute_reply.started": "2021-07-25T16:48:56.257839Z"
    },
    "papermill": {
     "duration": 0.071439,
     "end_time": "2022-03-07T07:52:59.266202",
     "exception": false,
     "start_time": "2022-03-07T07:52:59.194763",
     "status": "completed"
    },
    "tags": []
   },
   "outputs": [
    {
     "data": {
      "text/plain": [
       "(8128, 13)"
      ]
     },
     "execution_count": 3,
     "metadata": {},
     "output_type": "execute_result"
    }
   ],
   "source": [
    "# check the shape of dataset\n",
    "raw_data_1.shape"
   ]
  },
  {
   "cell_type": "markdown",
   "id": "3c0081af",
   "metadata": {},
   "source": [
    "Description of fields in Vehicle dataset:\n",
    "* *name* - name of the car\n",
    "* *year* - year in which car was first bought\n",
    "* *selling_price* - selling price of the car\n",
    "* *km_driven* - number of kilometers the car is driven\n",
    "* *fuel* - fuel type of the car\n",
    "* *seller_type* - tells if car is sold by individual or dealer\n",
    "* *transmission* - gear transmission of the car (Automatic/Manual)\n",
    "* *owner* - number of previous owners\n",
    "* *mileage* - mileage of the car\n",
    "* *engine* - engine capacity of the car\n",
    "* *max_power* - max power of engine\n",
    "* *torque* - torque of the car\n",
    "* *seats* - number of seats in the car\n",
    "\n",
    "## Used Car Prices in India dataset"
   ]
  },
  {
   "cell_type": "code",
   "execution_count": 4,
   "id": "4dbba2ba",
   "metadata": {
    "scrolled": true
   },
   "outputs": [
    {
     "data": {
      "text/html": [
       "<div>\n",
       "<style scoped>\n",
       "    .dataframe tbody tr th:only-of-type {\n",
       "        vertical-align: middle;\n",
       "    }\n",
       "\n",
       "    .dataframe tbody tr th {\n",
       "        vertical-align: top;\n",
       "    }\n",
       "\n",
       "    .dataframe thead th {\n",
       "        text-align: right;\n",
       "    }\n",
       "</style>\n",
       "<table border=\"1\" class=\"dataframe\">\n",
       "  <thead>\n",
       "    <tr style=\"text-align: right;\">\n",
       "      <th></th>\n",
       "      <th>Source.Name</th>\n",
       "      <th>web-scraper-order</th>\n",
       "      <th>web-scraper-start-url</th>\n",
       "      <th>full_name</th>\n",
       "      <th>selling_price</th>\n",
       "      <th>new-price</th>\n",
       "      <th>year</th>\n",
       "      <th>seller_type</th>\n",
       "      <th>km_driven</th>\n",
       "      <th>owner_type</th>\n",
       "      <th>fuel_type</th>\n",
       "      <th>transmission_type</th>\n",
       "      <th>mileage</th>\n",
       "      <th>engine</th>\n",
       "      <th>max_power</th>\n",
       "      <th>seats</th>\n",
       "    </tr>\n",
       "  </thead>\n",
       "  <tbody>\n",
       "    <tr>\n",
       "      <th>0</th>\n",
       "      <td>cardekho_extract(0-2000).csv</td>\n",
       "      <td>1611917819-1662</td>\n",
       "      <td>https://www.cardekho.com/used-car-details/used...</td>\n",
       "      <td>Maruti Alto Std</td>\n",
       "      <td>1.2 Lakh*</td>\n",
       "      <td>NaN</td>\n",
       "      <td>2012.0</td>\n",
       "      <td>Individual</td>\n",
       "      <td>1,20,000 kms</td>\n",
       "      <td>First Owner</td>\n",
       "      <td>Petrol</td>\n",
       "      <td>Manual</td>\n",
       "      <td>Mileage19.7 kmpl</td>\n",
       "      <td>Engine796 CC</td>\n",
       "      <td>Max Power46.3 bhp</td>\n",
       "      <td>Seats5</td>\n",
       "    </tr>\n",
       "    <tr>\n",
       "      <th>1</th>\n",
       "      <td>cardekho_extract(0-2000).csv</td>\n",
       "      <td>1611918361-1902</td>\n",
       "      <td>https://www.cardekho.com/used-car-details/used...</td>\n",
       "      <td>Hyundai Grand i10 Asta</td>\n",
       "      <td>5.5 Lakh*</td>\n",
       "      <td>New Car (On-Road Price) : Rs.7.11-7.48 Lakh*</td>\n",
       "      <td>2016.0</td>\n",
       "      <td>Individual</td>\n",
       "      <td>20,000 kms</td>\n",
       "      <td>First Owner</td>\n",
       "      <td>Petrol</td>\n",
       "      <td>Manual</td>\n",
       "      <td>Mileage18.9 kmpl</td>\n",
       "      <td>Engine1197 CC</td>\n",
       "      <td>Max Power82 bhp</td>\n",
       "      <td>Seats5</td>\n",
       "    </tr>\n",
       "    <tr>\n",
       "      <th>2</th>\n",
       "      <td>cardekho_extract(0-2000).csv</td>\n",
       "      <td>1611917012-1306</td>\n",
       "      <td>https://www.cardekho.com/used-car-details/used...</td>\n",
       "      <td>Hyundai i20 Asta</td>\n",
       "      <td>2.15 Lakh*</td>\n",
       "      <td>NaN</td>\n",
       "      <td>2010.0</td>\n",
       "      <td>Individual</td>\n",
       "      <td>60,000 kms</td>\n",
       "      <td>First Owner</td>\n",
       "      <td>Petrol</td>\n",
       "      <td>Manual</td>\n",
       "      <td>Mileage17.0 kmpl</td>\n",
       "      <td>Engine1197 CC</td>\n",
       "      <td>Max Power80 bhp</td>\n",
       "      <td>Seats5</td>\n",
       "    </tr>\n",
       "    <tr>\n",
       "      <th>3</th>\n",
       "      <td>cardekho_extract(0-2000).csv</td>\n",
       "      <td>1611917695-1607</td>\n",
       "      <td>https://www.cardekho.com/used-car-details/used...</td>\n",
       "      <td>Maruti Alto K10 2010-2014 VXI</td>\n",
       "      <td>2.26 Lakh*</td>\n",
       "      <td>NaN</td>\n",
       "      <td>2012.0</td>\n",
       "      <td>Individual</td>\n",
       "      <td>37,000 kms</td>\n",
       "      <td>First Owner</td>\n",
       "      <td>Petrol</td>\n",
       "      <td>Manual</td>\n",
       "      <td>Mileage20.92 kmpl</td>\n",
       "      <td>Engine998 CC</td>\n",
       "      <td>Max Power67.1 bhp</td>\n",
       "      <td>Seats5</td>\n",
       "    </tr>\n",
       "    <tr>\n",
       "      <th>4</th>\n",
       "      <td>cardekho_extract(0-2000).csv</td>\n",
       "      <td>1611914861-367</td>\n",
       "      <td>https://www.cardekho.com/used-car-details/used...</td>\n",
       "      <td>Ford Ecosport 2015-2021 1.5 TDCi Titanium BSIV</td>\n",
       "      <td>5.7 Lakh*</td>\n",
       "      <td>New Car (On-Road Price) : Rs.10.14-13.79 Lakh*</td>\n",
       "      <td>2015.0</td>\n",
       "      <td>Dealer</td>\n",
       "      <td>30,000 kms</td>\n",
       "      <td>First Owner</td>\n",
       "      <td>Diesel</td>\n",
       "      <td>Manual</td>\n",
       "      <td>Mileage22.77 kmpl</td>\n",
       "      <td>Engine1498 CC</td>\n",
       "      <td>Max Power98.59 bhp</td>\n",
       "      <td>Seats5</td>\n",
       "    </tr>\n",
       "  </tbody>\n",
       "</table>\n",
       "</div>"
      ],
      "text/plain": [
       "                    Source.Name web-scraper-order  \\\n",
       "0  cardekho_extract(0-2000).csv   1611917819-1662   \n",
       "1  cardekho_extract(0-2000).csv   1611918361-1902   \n",
       "2  cardekho_extract(0-2000).csv   1611917012-1306   \n",
       "3  cardekho_extract(0-2000).csv   1611917695-1607   \n",
       "4  cardekho_extract(0-2000).csv    1611914861-367   \n",
       "\n",
       "                               web-scraper-start-url  \\\n",
       "0  https://www.cardekho.com/used-car-details/used...   \n",
       "1  https://www.cardekho.com/used-car-details/used...   \n",
       "2  https://www.cardekho.com/used-car-details/used...   \n",
       "3  https://www.cardekho.com/used-car-details/used...   \n",
       "4  https://www.cardekho.com/used-car-details/used...   \n",
       "\n",
       "                                        full_name selling_price  \\\n",
       "0                                 Maruti Alto Std     1.2 Lakh*   \n",
       "1                          Hyundai Grand i10 Asta     5.5 Lakh*   \n",
       "2                                Hyundai i20 Asta    2.15 Lakh*   \n",
       "3                   Maruti Alto K10 2010-2014 VXI    2.26 Lakh*   \n",
       "4  Ford Ecosport 2015-2021 1.5 TDCi Titanium BSIV     5.7 Lakh*   \n",
       "\n",
       "                                        new-price    year seller_type  \\\n",
       "0                                             NaN  2012.0  Individual   \n",
       "1    New Car (On-Road Price) : Rs.7.11-7.48 Lakh*  2016.0  Individual   \n",
       "2                                             NaN  2010.0  Individual   \n",
       "3                                             NaN  2012.0  Individual   \n",
       "4  New Car (On-Road Price) : Rs.10.14-13.79 Lakh*  2015.0      Dealer   \n",
       "\n",
       "      km_driven   owner_type fuel_type transmission_type            mileage  \\\n",
       "0  1,20,000 kms  First Owner    Petrol            Manual   Mileage19.7 kmpl   \n",
       "1    20,000 kms  First Owner    Petrol            Manual   Mileage18.9 kmpl   \n",
       "2    60,000 kms  First Owner    Petrol            Manual   Mileage17.0 kmpl   \n",
       "3    37,000 kms  First Owner    Petrol            Manual  Mileage20.92 kmpl   \n",
       "4    30,000 kms  First Owner    Diesel            Manual  Mileage22.77 kmpl   \n",
       "\n",
       "          engine           max_power   seats  \n",
       "0   Engine796 CC   Max Power46.3 bhp  Seats5  \n",
       "1  Engine1197 CC     Max Power82 bhp  Seats5  \n",
       "2  Engine1197 CC     Max Power80 bhp  Seats5  \n",
       "3   Engine998 CC   Max Power67.1 bhp  Seats5  \n",
       "4  Engine1498 CC  Max Power98.59 bhp  Seats5  "
      ]
     },
     "execution_count": 4,
     "metadata": {},
     "output_type": "execute_result"
    }
   ],
   "source": [
    "# read in the data\n",
    "raw_data_2 = pd.read_csv('Cardekho_Extract.csv')\n",
    "\n",
    "raw_data_2.head()"
   ]
  },
  {
   "cell_type": "code",
   "execution_count": 5,
   "id": "cf927ebd",
   "metadata": {},
   "outputs": [
    {
     "data": {
      "text/plain": [
       "(20026, 16)"
      ]
     },
     "execution_count": 5,
     "metadata": {},
     "output_type": "execute_result"
    }
   ],
   "source": [
    "# check the shape of dataset\n",
    "raw_data_2.shape"
   ]
  },
  {
   "cell_type": "markdown",
   "id": "bb1b910c",
   "metadata": {},
   "source": [
    "Description of fields in Vehicle dataset:\n",
    "* *Source.Name* - invalid field\n",
    "* *web-scraper-order* - row id\n",
    "* *web-scraper-start-url* - url of data source for current row\n",
    "* *full_name* - name of the car\n",
    "* *selling_price* - current selling price of used car\n",
    "* *new-price* - current cost price of brand new car\n",
    "* *year* - year in which car was first bought\n",
    "* *seller_type* - type of seller\n",
    "* *km_driven* - kilometers driven by the car\n",
    "* *owner_type* - number of previous owners\n",
    "* *fuel_type* - fuel type of the car\n",
    "* *transmission_type* - gear transmission of the car (Automatic/Manual)\n",
    "* *mileage* - mileage of the car\n",
    "* *engine* - engine capacity of the car\n",
    "* *max_power* - max horsepower of engine\n",
    "* *seats* - number of seats in the car\n",
    "\n",
    "## Dictionary of units in data\n",
    "* Lakh - a unit in the Indian numbering system equal to one hundred thousand (100,000). In the Indian 2,2,3 convention of digit grouping, it is written as 1,00,000. For example, in India 150,000 rupees becomes 1.5 lakh rupees, written as ₹1,50,000 or INR 1,50,000.\n",
    "* kmpl - Kilometers Per Litre is a term use to express the fuel efficiency of a vehicle. Fuel efficiency is defined as the ratio of distance travelled per unit of fuel consumed.\n",
    "* СС - The term “cc” stands for Cubic Centimeters or simply cm³ which is a metric unit to measure the Engine's Capacity or its volume. Usually increase power of car.\n",
    "* bhp - Traditionally ‘brake horsepower’ (bhp) has been used as the definitive measurement of engine power. It’s distinct from horsepower because it takes into account power loss due to friction – it’s measured by running an engine up to full revs, then letting it naturally slow down to a dead stop.\n",
    "* nm at rpm - Torque is rotational force, and since an engine relies on a rotating crank to do its work, torque is the force the engine is able to generate. Modern engines generate different levels of torque at different engine speeds (RPMs, or revolutions per minute that the engine is turning through). It’s expressed in Newton-Metres (Nm), and this is what you actually feel when you’re pushed back into your seat on acceleration. A car brochure will indicate the maximum torque the engine is able to generate, and the specific RPM at which it is generated. For instance, the Maruti Dzire generates 113Nm at 4200RPM (petrol) and 190Nm at 2000RPM (diesel). This means the petrol engine produces less torque at a much higher engine speed than the diesel motor, which produces more at a quite low engine speed. The bottom line: Look for a good torque (over 110Nm) with a low RPM (4,000 or so). 1 kgm = 9.80665 Nm"
   ]
  },
  {
   "cell_type": "markdown",
   "id": "6b8052c8",
   "metadata": {},
   "source": [
    "# Data Cleaning\n",
    "\n",
    "## Plan\n",
    "\n",
    "We will do data cleaning of both datasets by following next steps:\n",
    "1. Find corresponding and non-corresponding columns of both datasets.\n",
    "2. For both datasets separetly:\n",
    "    * Transform  non-null values of corresponding columns to unified format;\n",
    "    * Decide if to leave or drop non-corresponding columns.\n",
    "3. Combine datasets.\n",
    "4. Manage outliers and null values.\n",
    "\n",
    "## Find corresponding and non-corresponding columns of both datasets\n",
    "First of all, let's compare lists of datasets columns."
   ]
  },
  {
   "cell_type": "code",
   "execution_count": 6,
   "id": "db090ffa",
   "metadata": {},
   "outputs": [],
   "source": [
    "# for printing list in bullet list style\n",
    "def bullet_list(lst, header='', sort=True, counter=True):\n",
    "    if header!='' or counter:\n",
    "        print(f'{header} ({len(lst)}):')\n",
    "    if sort:\n",
    "        lst = sorted(lst)\n",
    "    for el in lst:\n",
    "        print('   >', el)\n",
    "\n",
    "# for finding intercetions and differences between lists of columns\n",
    "def compare_cols(data_1, data_2, return_flg=False):\n",
    "    set_1, set_2 = set(data_1.columns), set(data_2.columns)\n",
    "    inter, diff1, diff2 = set_1.intersection(set_2), set_1.difference(set_2), set_2.difference(set_1)\n",
    "    bullet_list(inter, 'Corresponding columns')\n",
    "    bullet_list(diff1, 'Columns from 1st dataset, which are not present in 2nd')\n",
    "    bullet_list(diff2, 'Columns from 2nd dataset, which are not present in 1st')\n",
    "    if return_flg:\n",
    "        return inter, diff1, diff2"
   ]
  },
  {
   "cell_type": "code",
   "execution_count": 7,
   "id": "b7fed8ca",
   "metadata": {},
   "outputs": [
    {
     "name": "stdout",
     "output_type": "stream",
     "text": [
      "Corresponding columns (8):\n",
      "   > engine\n",
      "   > km_driven\n",
      "   > max_power\n",
      "   > mileage\n",
      "   > seats\n",
      "   > seller_type\n",
      "   > selling_price\n",
      "   > year\n",
      "Columns from 1st dataset, which are not present in 2nd (5):\n",
      "   > fuel\n",
      "   > name\n",
      "   > owner\n",
      "   > torque\n",
      "   > transmission\n",
      "Columns from 2nd dataset, which are not present in 1st (8):\n",
      "   > Source.Name\n",
      "   > fuel_type\n",
      "   > full_name\n",
      "   > new-price\n",
      "   > owner_type\n",
      "   > transmission_type\n",
      "   > web-scraper-order\n",
      "   > web-scraper-start-url\n"
     ]
    }
   ],
   "source": [
    "compare_cols(raw_data_1, raw_data_2)"
   ]
  },
  {
   "cell_type": "markdown",
   "id": "1f68eccc",
   "metadata": {},
   "source": [
    "Fields *fuel, owner, name, transmission* from the 1st dataset actually have corresponding columns with different names in the 2nd dataset (*transmission_type, fuel_type, full_name, owner_type*). We'll change the names of theses fields in the 2nd dataset, so they match with 1st one, and compare again lists of columns."
   ]
  },
  {
   "cell_type": "code",
   "execution_count": 8,
   "id": "18ef5b39",
   "metadata": {},
   "outputs": [
    {
     "name": "stdout",
     "output_type": "stream",
     "text": [
      "Corresponding columns (12):\n",
      "   > engine\n",
      "   > fuel\n",
      "   > km_driven\n",
      "   > max_power\n",
      "   > mileage\n",
      "   > name\n",
      "   > owner\n",
      "   > seats\n",
      "   > seller_type\n",
      "   > selling_price\n",
      "   > transmission\n",
      "   > year\n",
      "Columns from 1st dataset, which are not present in 2nd (1):\n",
      "   > torque\n",
      "Columns from 2nd dataset, which are not present in 1st (4):\n",
      "   > Source.Name\n",
      "   > new-price\n",
      "   > web-scraper-order\n",
      "   > web-scraper-start-url\n"
     ]
    }
   ],
   "source": [
    "cols_dict = {\n",
    "    'fuel_type' : 'fuel',\n",
    "    'full_name' : 'name',\n",
    "    'owner_type' : 'owner',\n",
    "    'transmission_type' : 'transmission'\n",
    "}\n",
    "raw_data_2.rename(columns=cols_dict, inplace=True)\n",
    "inter_cols, diff1_cols, diff2_cols = compare_cols(raw_data_1, raw_data_2, return_flg=True)"
   ]
  },
  {
   "cell_type": "markdown",
   "id": "c395cf50",
   "metadata": {},
   "source": [
    "This comparison will help us prioritize columns in data cleaning process. Values of corresponding columns will be cleaned and transformed to unified format, since they are present in both datasets. Decision if to clean or drop non-corresponding columns will depend on:\n",
    "* how hard it is to fill null values in both datasets for this column;\n",
    "* how significant this column is for future model.\n",
    "\n",
    "## Data cleaning in the Vehicle dataset\n",
    "\n",
    "Let's explore data types of fields in 1st dataset."
   ]
  },
  {
   "cell_type": "code",
   "execution_count": 9,
   "id": "bc7284ab",
   "metadata": {},
   "outputs": [
    {
     "name": "stdout",
     "output_type": "stream",
     "text": [
      "<class 'pandas.core.frame.DataFrame'>\n",
      "RangeIndex: 8128 entries, 0 to 8127\n",
      "Data columns (total 13 columns):\n",
      " #   Column         Non-Null Count  Dtype  \n",
      "---  ------         --------------  -----  \n",
      " 0   name           8128 non-null   object \n",
      " 1   year           8128 non-null   int64  \n",
      " 2   selling_price  8128 non-null   int64  \n",
      " 3   km_driven      8128 non-null   int64  \n",
      " 4   fuel           8128 non-null   object \n",
      " 5   seller_type    8128 non-null   object \n",
      " 6   transmission   8128 non-null   object \n",
      " 7   owner          8128 non-null   object \n",
      " 8   mileage        7907 non-null   object \n",
      " 9   engine         7907 non-null   object \n",
      " 10  max_power      7913 non-null   object \n",
      " 11  torque         7906 non-null   object \n",
      " 12  seats          7907 non-null   float64\n",
      "dtypes: float64(1), int64(3), object(9)\n",
      "memory usage: 825.6+ KB\n"
     ]
    }
   ],
   "source": [
    "raw_data_1.info()"
   ]
  },
  {
   "cell_type": "markdown",
   "id": "a8418d75",
   "metadata": {},
   "source": [
    "Columns *mileage, engine, max_power* and *torque* have wrong data type (object instead of numeric). In the code cells below, we will convert *mileage, engine, max_power* and *torque* columns to numeric data types. "
   ]
  },
  {
   "cell_type": "code",
   "execution_count": 10,
   "id": "4b0854df",
   "metadata": {
    "scrolled": true
   },
   "outputs": [
    {
     "data": {
      "text/html": [
       "<div>\n",
       "<style scoped>\n",
       "    .dataframe tbody tr th:only-of-type {\n",
       "        vertical-align: middle;\n",
       "    }\n",
       "\n",
       "    .dataframe tbody tr th {\n",
       "        vertical-align: top;\n",
       "    }\n",
       "\n",
       "    .dataframe thead th {\n",
       "        text-align: right;\n",
       "    }\n",
       "</style>\n",
       "<table border=\"1\" class=\"dataframe\">\n",
       "  <thead>\n",
       "    <tr style=\"text-align: right;\">\n",
       "      <th></th>\n",
       "      <th>name</th>\n",
       "      <th>year</th>\n",
       "      <th>selling_price</th>\n",
       "      <th>km_driven</th>\n",
       "      <th>fuel</th>\n",
       "      <th>seller_type</th>\n",
       "      <th>transmission</th>\n",
       "      <th>owner</th>\n",
       "      <th>mileage</th>\n",
       "      <th>engine</th>\n",
       "      <th>max_power</th>\n",
       "      <th>torque</th>\n",
       "      <th>seats</th>\n",
       "    </tr>\n",
       "  </thead>\n",
       "  <tbody>\n",
       "    <tr>\n",
       "      <th>0</th>\n",
       "      <td>Maruti Swift Dzire VDI</td>\n",
       "      <td>2014</td>\n",
       "      <td>450000</td>\n",
       "      <td>145500</td>\n",
       "      <td>Diesel</td>\n",
       "      <td>Individual</td>\n",
       "      <td>Manual</td>\n",
       "      <td>First Owner</td>\n",
       "      <td>23.4 kmpl</td>\n",
       "      <td>1248 CC</td>\n",
       "      <td>74 bhp</td>\n",
       "      <td>190Nm@ 2000rpm</td>\n",
       "      <td>5.0</td>\n",
       "    </tr>\n",
       "    <tr>\n",
       "      <th>1</th>\n",
       "      <td>Skoda Rapid 1.5 TDI Ambition</td>\n",
       "      <td>2014</td>\n",
       "      <td>370000</td>\n",
       "      <td>120000</td>\n",
       "      <td>Diesel</td>\n",
       "      <td>Individual</td>\n",
       "      <td>Manual</td>\n",
       "      <td>Second Owner</td>\n",
       "      <td>21.14 kmpl</td>\n",
       "      <td>1498 CC</td>\n",
       "      <td>103.52 bhp</td>\n",
       "      <td>250Nm@ 1500-2500rpm</td>\n",
       "      <td>5.0</td>\n",
       "    </tr>\n",
       "    <tr>\n",
       "      <th>2</th>\n",
       "      <td>Honda City 2017-2020 EXi</td>\n",
       "      <td>2006</td>\n",
       "      <td>158000</td>\n",
       "      <td>140000</td>\n",
       "      <td>Petrol</td>\n",
       "      <td>Individual</td>\n",
       "      <td>Manual</td>\n",
       "      <td>Third Owner</td>\n",
       "      <td>17.7 kmpl</td>\n",
       "      <td>1497 CC</td>\n",
       "      <td>78 bhp</td>\n",
       "      <td>12.7@ 2,700(kgm@ rpm)</td>\n",
       "      <td>5.0</td>\n",
       "    </tr>\n",
       "    <tr>\n",
       "      <th>3</th>\n",
       "      <td>Hyundai i20 Sportz Diesel</td>\n",
       "      <td>2010</td>\n",
       "      <td>225000</td>\n",
       "      <td>127000</td>\n",
       "      <td>Diesel</td>\n",
       "      <td>Individual</td>\n",
       "      <td>Manual</td>\n",
       "      <td>First Owner</td>\n",
       "      <td>23.0 kmpl</td>\n",
       "      <td>1396 CC</td>\n",
       "      <td>90 bhp</td>\n",
       "      <td>22.4 kgm at 1750-2750rpm</td>\n",
       "      <td>5.0</td>\n",
       "    </tr>\n",
       "    <tr>\n",
       "      <th>4</th>\n",
       "      <td>Maruti Swift VXI BSIII</td>\n",
       "      <td>2007</td>\n",
       "      <td>130000</td>\n",
       "      <td>120000</td>\n",
       "      <td>Petrol</td>\n",
       "      <td>Individual</td>\n",
       "      <td>Manual</td>\n",
       "      <td>First Owner</td>\n",
       "      <td>16.1 kmpl</td>\n",
       "      <td>1298 CC</td>\n",
       "      <td>88.2 bhp</td>\n",
       "      <td>11.5@ 4,500(kgm@ rpm)</td>\n",
       "      <td>5.0</td>\n",
       "    </tr>\n",
       "  </tbody>\n",
       "</table>\n",
       "</div>"
      ],
      "text/plain": [
       "                           name  year  selling_price  km_driven    fuel  \\\n",
       "0        Maruti Swift Dzire VDI  2014         450000     145500  Diesel   \n",
       "1  Skoda Rapid 1.5 TDI Ambition  2014         370000     120000  Diesel   \n",
       "2      Honda City 2017-2020 EXi  2006         158000     140000  Petrol   \n",
       "3     Hyundai i20 Sportz Diesel  2010         225000     127000  Diesel   \n",
       "4        Maruti Swift VXI BSIII  2007         130000     120000  Petrol   \n",
       "\n",
       "  seller_type transmission         owner     mileage   engine   max_power  \\\n",
       "0  Individual       Manual   First Owner   23.4 kmpl  1248 CC      74 bhp   \n",
       "1  Individual       Manual  Second Owner  21.14 kmpl  1498 CC  103.52 bhp   \n",
       "2  Individual       Manual   Third Owner   17.7 kmpl  1497 CC      78 bhp   \n",
       "3  Individual       Manual   First Owner   23.0 kmpl  1396 CC      90 bhp   \n",
       "4  Individual       Manual   First Owner   16.1 kmpl  1298 CC    88.2 bhp   \n",
       "\n",
       "                     torque  seats  \n",
       "0            190Nm@ 2000rpm    5.0  \n",
       "1       250Nm@ 1500-2500rpm    5.0  \n",
       "2     12.7@ 2,700(kgm@ rpm)    5.0  \n",
       "3  22.4 kgm at 1750-2750rpm    5.0  \n",
       "4     11.5@ 4,500(kgm@ rpm)    5.0  "
      ]
     },
     "execution_count": 10,
     "metadata": {},
     "output_type": "execute_result"
    }
   ],
   "source": [
    "raw_data_1.head()"
   ]
  },
  {
   "cell_type": "markdown",
   "id": "34866f13",
   "metadata": {},
   "source": [
    "### Converting *mileage, engine* and *max_power* to numeric data type\n",
    "\n",
    "Columns *mileage, engine* and *max_power* have a simpler and identical formats of values (*{value of the field} {unit of the field}*), so we will convert them first."
   ]
  },
  {
   "cell_type": "code",
   "execution_count": 11,
   "id": "a3b3a159",
   "metadata": {
    "scrolled": true
   },
   "outputs": [
    {
     "data": {
      "text/html": [
       "<div>\n",
       "<style scoped>\n",
       "    .dataframe tbody tr th:only-of-type {\n",
       "        vertical-align: middle;\n",
       "    }\n",
       "\n",
       "    .dataframe tbody tr th {\n",
       "        vertical-align: top;\n",
       "    }\n",
       "\n",
       "    .dataframe thead th {\n",
       "        text-align: right;\n",
       "    }\n",
       "</style>\n",
       "<table border=\"1\" class=\"dataframe\">\n",
       "  <thead>\n",
       "    <tr style=\"text-align: right;\">\n",
       "      <th></th>\n",
       "      <th>mileage</th>\n",
       "      <th>mileage_val</th>\n",
       "      <th>mileage_unit</th>\n",
       "      <th>engine</th>\n",
       "      <th>engine_val</th>\n",
       "      <th>engine_unit</th>\n",
       "      <th>max_power</th>\n",
       "      <th>max_power_val</th>\n",
       "      <th>max_power_unit</th>\n",
       "    </tr>\n",
       "  </thead>\n",
       "  <tbody>\n",
       "    <tr>\n",
       "      <th>0</th>\n",
       "      <td>23.4 kmpl</td>\n",
       "      <td>23.40</td>\n",
       "      <td>kmpl</td>\n",
       "      <td>1248 CC</td>\n",
       "      <td>1248.0</td>\n",
       "      <td>CC</td>\n",
       "      <td>74 bhp</td>\n",
       "      <td>74.00</td>\n",
       "      <td>bhp</td>\n",
       "    </tr>\n",
       "    <tr>\n",
       "      <th>1</th>\n",
       "      <td>21.14 kmpl</td>\n",
       "      <td>21.14</td>\n",
       "      <td>kmpl</td>\n",
       "      <td>1498 CC</td>\n",
       "      <td>1498.0</td>\n",
       "      <td>CC</td>\n",
       "      <td>103.52 bhp</td>\n",
       "      <td>103.52</td>\n",
       "      <td>bhp</td>\n",
       "    </tr>\n",
       "    <tr>\n",
       "      <th>2</th>\n",
       "      <td>17.7 kmpl</td>\n",
       "      <td>17.70</td>\n",
       "      <td>kmpl</td>\n",
       "      <td>1497 CC</td>\n",
       "      <td>1497.0</td>\n",
       "      <td>CC</td>\n",
       "      <td>78 bhp</td>\n",
       "      <td>78.00</td>\n",
       "      <td>bhp</td>\n",
       "    </tr>\n",
       "    <tr>\n",
       "      <th>3</th>\n",
       "      <td>23.0 kmpl</td>\n",
       "      <td>23.00</td>\n",
       "      <td>kmpl</td>\n",
       "      <td>1396 CC</td>\n",
       "      <td>1396.0</td>\n",
       "      <td>CC</td>\n",
       "      <td>90 bhp</td>\n",
       "      <td>90.00</td>\n",
       "      <td>bhp</td>\n",
       "    </tr>\n",
       "    <tr>\n",
       "      <th>4</th>\n",
       "      <td>16.1 kmpl</td>\n",
       "      <td>16.10</td>\n",
       "      <td>kmpl</td>\n",
       "      <td>1298 CC</td>\n",
       "      <td>1298.0</td>\n",
       "      <td>CC</td>\n",
       "      <td>88.2 bhp</td>\n",
       "      <td>88.20</td>\n",
       "      <td>bhp</td>\n",
       "    </tr>\n",
       "  </tbody>\n",
       "</table>\n",
       "</div>"
      ],
      "text/plain": [
       "      mileage  mileage_val mileage_unit   engine  engine_val engine_unit  \\\n",
       "0   23.4 kmpl        23.40         kmpl  1248 CC      1248.0          CC   \n",
       "1  21.14 kmpl        21.14         kmpl  1498 CC      1498.0          CC   \n",
       "2   17.7 kmpl        17.70         kmpl  1497 CC      1497.0          CC   \n",
       "3   23.0 kmpl        23.00         kmpl  1396 CC      1396.0          CC   \n",
       "4   16.1 kmpl        16.10         kmpl  1298 CC      1298.0          CC   \n",
       "\n",
       "    max_power  max_power_val max_power_unit  \n",
       "0      74 bhp          74.00            bhp  \n",
       "1  103.52 bhp         103.52            bhp  \n",
       "2      78 bhp          78.00            bhp  \n",
       "3      90 bhp          90.00            bhp  \n",
       "4    88.2 bhp          88.20            bhp  "
      ]
     },
     "execution_count": 11,
     "metadata": {},
     "output_type": "execute_result"
    }
   ],
   "source": [
    "# first run of code raised error during attemt to convert values to numeric because of one incorrect value in a row\n",
    "# line of code below added for fixing this value\n",
    "raw_data_1.loc[raw_data_1['max_power'] == ' bhp', 'max_power'] = np.nan\n",
    "\n",
    "conv_cols = ['mileage', 'engine', 'max_power']\n",
    "for name in conv_cols:\n",
    "    raw_data_1[[name+'_val', name+'_unit']] = raw_data_1[name].str.split(expand=True)\n",
    "    raw_data_1 = raw_data_1.astype({name+'_val':float})\n",
    "\n",
    "all_conv_cols = np.array([[name, name+'_val', name+'_unit'] for name in conv_cols]).flatten()\n",
    "raw_data_1[all_conv_cols].head()"
   ]
  },
  {
   "cell_type": "markdown",
   "id": "7b5c5e65",
   "metadata": {},
   "source": [
    "Let's check if all values in *mileage, engine, max_power* have same unit and convert them to single unit, if there are more than one."
   ]
  },
  {
   "cell_type": "code",
   "execution_count": 12,
   "id": "948b6bc6",
   "metadata": {},
   "outputs": [],
   "source": [
    "def check_units(df, origin_cols):\n",
    "    for name in origin_cols:\n",
    "        print(f\"<======= {name}_unit =======>\")\n",
    "        print(df[name+'_unit'].value_counts())\n",
    "        print()"
   ]
  },
  {
   "cell_type": "code",
   "execution_count": 13,
   "id": "d922ffd0",
   "metadata": {
    "scrolled": true
   },
   "outputs": [
    {
     "name": "stdout",
     "output_type": "stream",
     "text": [
      "<======= mileage_unit =======>\n",
      "kmpl     7819\n",
      "km/kg      88\n",
      "Name: mileage_unit, dtype: int64\n",
      "\n",
      "<======= engine_unit =======>\n",
      "CC    7907\n",
      "Name: engine_unit, dtype: int64\n",
      "\n",
      "<======= max_power_unit =======>\n",
      "bhp    7906\n",
      "Name: max_power_unit, dtype: int64\n",
      "\n"
     ]
    }
   ],
   "source": [
    "check_units(raw_data_1, conv_cols)"
   ]
  },
  {
   "cell_type": "markdown",
   "id": "2e796b72",
   "metadata": {},
   "source": [
    "*mileage* has values with two different units: 'kmpl' and 'km/kg'. Usually, 'kmpl' used for describing cars with petrol or diesel fuel and 'km/kg' - gas fuel. Basically both of them mean *km/unit in which fuel is messured*, so we will replace values in *mileage_unit* with 'kmpu' value (stands for 'km/unit')."
   ]
  },
  {
   "cell_type": "code",
   "execution_count": 14,
   "id": "2ecf3b11",
   "metadata": {
    "scrolled": true
   },
   "outputs": [],
   "source": [
    "raw_data_1['mileage_unit'] = 'kmpu'"
   ]
  },
  {
   "cell_type": "markdown",
   "id": "27532540",
   "metadata": {},
   "source": [
    "Now we are ready to:\n",
    "* delete *mileage, engine, max_power* and *...\\_unit* columns, because we won't need them anymore;\n",
    "* rename *..._val* columns to *mileage_kmpu, engine_cc, max_power_bhp* and convert them to numeric type of value."
   ]
  },
  {
   "cell_type": "code",
   "execution_count": 15,
   "id": "afd2c736",
   "metadata": {},
   "outputs": [],
   "source": [
    "def clear_val_unit_cols(df, cols):\n",
    "    data = df.copy()\n",
    "    for name in cols:\n",
    "        data = data.astype({name+'_val':float})\n",
    "        # take first value from ..._unit column to add unit as postfix for names of ..._val columns\n",
    "        data = data.rename(columns={name+'_val' : name+'_'+str.lower(data[name+'_unit'][0])})\n",
    "        data = data.drop(columns = [name, name+'_unit'])\n",
    "    \n",
    "    return data"
   ]
  },
  {
   "cell_type": "code",
   "execution_count": 16,
   "id": "f9411a5d",
   "metadata": {},
   "outputs": [
    {
     "name": "stdout",
     "output_type": "stream",
     "text": [
      "<class 'pandas.core.frame.DataFrame'>\n",
      "RangeIndex: 8128 entries, 0 to 8127\n",
      "Data columns (total 13 columns):\n",
      " #   Column         Non-Null Count  Dtype  \n",
      "---  ------         --------------  -----  \n",
      " 0   name           8128 non-null   object \n",
      " 1   year           8128 non-null   int64  \n",
      " 2   selling_price  8128 non-null   int64  \n",
      " 3   km_driven      8128 non-null   int64  \n",
      " 4   fuel           8128 non-null   object \n",
      " 5   seller_type    8128 non-null   object \n",
      " 6   transmission   8128 non-null   object \n",
      " 7   owner          8128 non-null   object \n",
      " 8   torque         7906 non-null   object \n",
      " 9   seats          7907 non-null   float64\n",
      " 10  mileage_kmpu   7907 non-null   float64\n",
      " 11  engine_cc      7907 non-null   float64\n",
      " 12  max_power_bhp  7912 non-null   float64\n",
      "dtypes: float64(4), int64(3), object(6)\n",
      "memory usage: 825.6+ KB\n"
     ]
    }
   ],
   "source": [
    "raw_data_1 = clear_val_unit_cols(raw_data_1, conv_cols)\n",
    "\n",
    "raw_data_1.info()"
   ]
  },
  {
   "cell_type": "markdown",
   "id": "2377a7fb",
   "metadata": {},
   "source": [
    "As the next step, we'll convert *torque* column to numeric type, so we can analyse its significance for our model later.\n",
    "\n",
    "### Converting *torque* to numeric data type\n",
    "\n",
    "Let's start by taking a look at *torque* values again."
   ]
  },
  {
   "cell_type": "code",
   "execution_count": 17,
   "id": "3e595483",
   "metadata": {},
   "outputs": [
    {
     "data": {
      "text/plain": [
       "0               190Nm@ 2000rpm\n",
       "1          250Nm@ 1500-2500rpm\n",
       "2        12.7@ 2,700(kgm@ rpm)\n",
       "3     22.4 kgm at 1750-2750rpm\n",
       "4        11.5@ 4,500(kgm@ rpm)\n",
       "5            113.75nm@ 4000rpm\n",
       "6         7.8@ 4,500(kgm@ rpm)\n",
       "7                59Nm@ 2500rpm\n",
       "8          170Nm@ 1800-2400rpm\n",
       "9               160Nm@ 2000rpm\n",
       "10              248Nm@ 2250rpm\n",
       "11               78Nm@ 4500rpm\n",
       "12              190Nm@ 2000rpm\n",
       "14               84Nm@ 3500rpm\n",
       "15         115Nm@ 3500-3600rpm\n",
       "16              200Nm@ 1750rpm\n",
       "17    22.4 kgm at 1750-2750rpm\n",
       "18               62Nm@ 3000rpm\n",
       "19       219.7Nm@ 1500-2750rpm\n",
       "20              160Nm@ 2000rpm\n",
       "Name: torque, dtype: object"
      ]
     },
     "execution_count": 17,
     "metadata": {},
     "output_type": "execute_result"
    }
   ],
   "source": [
    "raw_data_1['torque'].dropna().head(20)"
   ]
  },
  {
   "cell_type": "markdown",
   "id": "95fcf6af",
   "metadata": {},
   "source": [
    "*torque* values haven't uniform format and usually containt two values:\n",
    "* first one is max torque, which car can generate;\n",
    "* second value is engine speeds, at which car generate specified max torque in first value.\n",
    "\n",
    "First we will write code for next formats which have been noticed in first 20 values:\n",
    "* 190Nm@ 2000rpm\n",
    "* 250Nm@ 1500-2500rpm\n",
    "* 12.7@ 2,700(kgm@ rpm)\n",
    "* 22.4 kgm at 1750-2750rpm\n",
    "* 113.75nm@ 4000rpm\n",
    "\n",
    "With the help of *try* and *except* blocks we'll find new formats by trial and error method and include them in logic of our parsing code until all values in *torque* will be succesfully parsed.\n",
    "\n",
    "**Note:**\n",
    "Full list of different formats in *torque* after trial and error process:\n",
    "* 190Nm@ 2000rpm\n",
    "* 250Nm@ 1500-2500rpm\n",
    "* 12.7@ 2,700(kgm@ rpm)\n",
    "* 22.4 kgm at 1750-2750rpm\n",
    "* 113.75nm@ 4000rpm\n",
    "* 6.1kgm@ 3000rpm\n",
    "* 250Nm@ 1500~4500rpm\n",
    "* 96 Nm at 3000 rpm\n",
    "* 400Nm\n",
    "* 135 Nm at 2500  rpm (double space between '2500' and 'rpm' + space in the end)\n",
    "* 96  Nm at 3000  rpm (same as previous + doublespace between '96' and 'Nm')\n",
    "* 51Nm@ 4000+/-500rpm\n",
    "* 48@ 3,000+/-500(NM@ rpm)\n",
    "* 510@ 1600-2400\n",
    "* 135.4Nm@ 2500\n",
    "* 210 / 1900\n",
    "* 400 Nm /2000 rpm\n",
    "* 380Nm(38.7kgm)@ 2500rpm (occured only in one row, so just added '(38.7kgm)@ ' to delimeters as exception)\n",
    "* 110(11.2)@ 4800 (occured only in one row, so just added '(11.2)@ ' to delimeters as exception)\n",
    "* 215Nm@ 1750-3000"
   ]
  },
  {
   "cell_type": "code",
   "execution_count": 18,
   "id": "fbe98656",
   "metadata": {},
   "outputs": [],
   "source": [
    "def is_number(s):\n",
    "    try:\n",
    "        float(s)\n",
    "        return True\n",
    "    except ValueError:\n",
    "        return False\n",
    "\n",
    "def split_torque(row):\n",
    "    \"\"\"\n",
    "    Splits 'torque' value in a row and creates 4 new fields: \n",
    "    > 'torque_val' - value of car max torque;\n",
    "    > 'torque_unit' - unit of value in 'torque_val';\n",
    "    > 'torque_eng_sp_val' - value of engine speed at which car max torque is reached;\n",
    "    > 'torque_eng_sp_unit' - unit of value in 'torque_eng_sp_val';\n",
    "    \"\"\"\n",
    "    torque_val, torque_unit, torque_eng_sp_val, torque_eng_sp_unit = np.nan, np.nan, np.nan, np.nan\n",
    "    \n",
    "    # skip null values\n",
    "    if row['torque'] is np.nan:\n",
    "        return torque_val, torque_unit, torque_eng_sp_val, torque_eng_sp_unit\n",
    "        \n",
    "    # clear torque value from ',' and tailing ')', split and save in temporary list\n",
    "    temp = re.split(\n",
    "        '\\(11.2\\)@ |\\(38.7kgm\\)@ |\\+\\/-500r|\\+\\/-500\\(N|  N| N| r|N|@ r|@ |  r|r|\\(k|\\(| at |n|-|~| k|k| \\/ | \\/|\\s',\n",
    "        str(row['torque']).replace(',','').strip(' \\)')\n",
    "    )\n",
    "    \n",
    "    # first element of split should be number, helps find cases that should be added in the logic of code\n",
    "    if is_number(temp[0]):\n",
    "        torque_val = float(temp[0])\n",
    "    else:\n",
    "        print('>>> Error_1:', temp, '\\n\\n', row, '\\n\\n\\n')\n",
    "     \n",
    "    try:\n",
    "        if is_number(temp[1]):\n",
    "            torque_eng_sp_val = float(temp[1])\n",
    "            if len(temp) == 2:\n",
    "                torque_unit = 'Nm'\n",
    "                torque_eng_sp_unit = 'rpm'\n",
    "            elif len(temp) > 2:\n",
    "                if is_number(temp[2]):\n",
    "                    torque_eng_sp_val = (float(temp[1])+float(temp[2]))/2\n",
    "                    torque_unit = 'Nm'\n",
    "                    torque_eng_sp_unit = 'rpm'\n",
    "                else:\n",
    "                    torque_unit = temp[2]\n",
    "                    torque_eng_sp_unit = temp[3]\n",
    "        elif len(temp) == 2:\n",
    "            torque_unit = temp[1]\n",
    "        elif len(temp) == 3:\n",
    "            torque_unit = temp[1]\n",
    "            torque_eng_sp_val = float(temp[2])\n",
    "            torque_eng_sp_unit = 'rpm'\n",
    "        elif len(temp) == 4:\n",
    "            if is_number(temp[3]):\n",
    "                torque_eng_sp_val = (float(temp[2])+float(temp[3]))/2\n",
    "                torque_eng_sp_unit = 'rpm'\n",
    "                torque_unit = temp[1]\n",
    "            else:\n",
    "                torque_unit = temp[1]\n",
    "                torque_eng_sp_val = float(temp[2])\n",
    "                torque_eng_sp_unit = temp[3]\n",
    "        elif len(temp) == 5:\n",
    "            torque_unit = temp[1]\n",
    "            torque_eng_sp_val = (float(temp[2])+float(temp[3]))/2\n",
    "            torque_eng_sp_unit = temp[4]\n",
    "        # else statement helps find cases that should be added in the logic of code\n",
    "        else:\n",
    "            print('>>> Error_2:', temp, '\\n\\n', row, '\\n\\n\\n')\n",
    "        \n",
    "        return torque_val, torque_unit, torque_eng_sp_val, torque_eng_sp_unit\n",
    "    # in case some error is raised during assigning new values, helps find cases that should be added in the logic of code\n",
    "    except:\n",
    "        print('>>> Error_3:', temp, '\\n\\n', row, '\\n\\n\\n')\n",
    "        \n",
    "def parse_torque(df):\n",
    "    data = df.copy()\n",
    "    \n",
    "    # split torque\n",
    "    torque_new_cols = ['torque_val', 'torque_unit', 'torque_eng_sp_val', 'torque_eng_sp_unit']\n",
    "    data[torque_new_cols] = data.apply(split_torque, axis=1, result_type=\"expand\")\n",
    "    \n",
    "    # fix units after spliting\n",
    "    data['torque_unit'] = data['torque_unit'].replace({\n",
    "        'm': 'nm',\n",
    "        'gm': 'kgm',\n",
    "        'Nm': 'nm',\n",
    "        'KGM': 'kgm',\n",
    "        'M': 'nm'\n",
    "    })\n",
    "    data['torque_eng_sp_unit'] = data['torque_eng_sp_unit'].replace({\n",
    "        'pm': 'rpm',\n",
    "        'RPM': 'rpm'\n",
    "    })\n",
    "    \n",
    "    return data"
   ]
  },
  {
   "cell_type": "code",
   "execution_count": 19,
   "id": "49b5f98a",
   "metadata": {
    "scrolled": true
   },
   "outputs": [
    {
     "data": {
      "text/html": [
       "<div>\n",
       "<style scoped>\n",
       "    .dataframe tbody tr th:only-of-type {\n",
       "        vertical-align: middle;\n",
       "    }\n",
       "\n",
       "    .dataframe tbody tr th {\n",
       "        vertical-align: top;\n",
       "    }\n",
       "\n",
       "    .dataframe thead th {\n",
       "        text-align: right;\n",
       "    }\n",
       "</style>\n",
       "<table border=\"1\" class=\"dataframe\">\n",
       "  <thead>\n",
       "    <tr style=\"text-align: right;\">\n",
       "      <th></th>\n",
       "      <th>torque</th>\n",
       "      <th>torque_val</th>\n",
       "      <th>torque_unit</th>\n",
       "      <th>torque_eng_sp_val</th>\n",
       "      <th>torque_eng_sp_unit</th>\n",
       "    </tr>\n",
       "  </thead>\n",
       "  <tbody>\n",
       "    <tr>\n",
       "      <th>0</th>\n",
       "      <td>190Nm@ 2000rpm</td>\n",
       "      <td>190.0</td>\n",
       "      <td>nm</td>\n",
       "      <td>2000.0</td>\n",
       "      <td>rpm</td>\n",
       "    </tr>\n",
       "    <tr>\n",
       "      <th>1</th>\n",
       "      <td>250Nm@ 1500-2500rpm</td>\n",
       "      <td>250.0</td>\n",
       "      <td>nm</td>\n",
       "      <td>2000.0</td>\n",
       "      <td>rpm</td>\n",
       "    </tr>\n",
       "    <tr>\n",
       "      <th>2</th>\n",
       "      <td>12.7@ 2,700(kgm@ rpm)</td>\n",
       "      <td>12.7</td>\n",
       "      <td>kgm</td>\n",
       "      <td>2700.0</td>\n",
       "      <td>rpm</td>\n",
       "    </tr>\n",
       "    <tr>\n",
       "      <th>3</th>\n",
       "      <td>22.4 kgm at 1750-2750rpm</td>\n",
       "      <td>22.4</td>\n",
       "      <td>kgm</td>\n",
       "      <td>2250.0</td>\n",
       "      <td>rpm</td>\n",
       "    </tr>\n",
       "    <tr>\n",
       "      <th>4</th>\n",
       "      <td>11.5@ 4,500(kgm@ rpm)</td>\n",
       "      <td>11.5</td>\n",
       "      <td>kgm</td>\n",
       "      <td>4500.0</td>\n",
       "      <td>rpm</td>\n",
       "    </tr>\n",
       "  </tbody>\n",
       "</table>\n",
       "</div>"
      ],
      "text/plain": [
       "                     torque  torque_val torque_unit  torque_eng_sp_val  \\\n",
       "0            190Nm@ 2000rpm       190.0          nm             2000.0   \n",
       "1       250Nm@ 1500-2500rpm       250.0          nm             2000.0   \n",
       "2     12.7@ 2,700(kgm@ rpm)        12.7         kgm             2700.0   \n",
       "3  22.4 kgm at 1750-2750rpm        22.4         kgm             2250.0   \n",
       "4     11.5@ 4,500(kgm@ rpm)        11.5         kgm             4500.0   \n",
       "\n",
       "  torque_eng_sp_unit  \n",
       "0                rpm  \n",
       "1                rpm  \n",
       "2                rpm  \n",
       "3                rpm  \n",
       "4                rpm  "
      ]
     },
     "execution_count": 19,
     "metadata": {},
     "output_type": "execute_result"
    }
   ],
   "source": [
    "raw_data_1 = parse_torque(raw_data_1)\n",
    "raw_data_1[['torque', 'torque_val', 'torque_unit', 'torque_eng_sp_val', 'torque_eng_sp_unit']].head()"
   ]
  },
  {
   "cell_type": "markdown",
   "id": "6110d002",
   "metadata": {},
   "source": [
    "Let's check if all values in *torque_unit, torque_eng_sp_unit* have same unit and convert them to single unit, if there are more than one."
   ]
  },
  {
   "cell_type": "code",
   "execution_count": 20,
   "id": "e5a0f560",
   "metadata": {
    "scrolled": false
   },
   "outputs": [
    {
     "name": "stdout",
     "output_type": "stream",
     "text": [
      "<======= torque_unit =======>\n",
      "nm     7533\n",
      "kgm     373\n",
      "Name: torque_unit, dtype: int64\n",
      "\n",
      "<======= torque_eng_sp_unit =======>\n",
      "rpm    7872\n",
      "Name: torque_eng_sp_unit, dtype: int64\n",
      "\n"
     ]
    }
   ],
   "source": [
    "torque_cols = ['torque', 'torque_eng_sp']\n",
    "check_units(raw_data_1, torque_cols)"
   ]
  },
  {
   "cell_type": "markdown",
   "id": "4131637e",
   "metadata": {},
   "source": [
    "We will convert 'kgm' values in *torque_val* to 'nm' (1 kgm = 9.80665 Nm)."
   ]
  },
  {
   "cell_type": "code",
   "execution_count": 21,
   "id": "8cfb6e7f",
   "metadata": {},
   "outputs": [
    {
     "name": "stdout",
     "output_type": "stream",
     "text": [
      "<======= torque_unit =======>\n",
      "nm    7906\n",
      "Name: torque_unit, dtype: int64\n",
      "\n"
     ]
    },
    {
     "data": {
      "text/html": [
       "<div>\n",
       "<style scoped>\n",
       "    .dataframe tbody tr th:only-of-type {\n",
       "        vertical-align: middle;\n",
       "    }\n",
       "\n",
       "    .dataframe tbody tr th {\n",
       "        vertical-align: top;\n",
       "    }\n",
       "\n",
       "    .dataframe thead th {\n",
       "        text-align: right;\n",
       "    }\n",
       "</style>\n",
       "<table border=\"1\" class=\"dataframe\">\n",
       "  <thead>\n",
       "    <tr style=\"text-align: right;\">\n",
       "      <th></th>\n",
       "      <th>torque</th>\n",
       "      <th>torque_val</th>\n",
       "      <th>torque_unit</th>\n",
       "      <th>torque_eng_sp_val</th>\n",
       "      <th>torque_eng_sp_unit</th>\n",
       "    </tr>\n",
       "  </thead>\n",
       "  <tbody>\n",
       "    <tr>\n",
       "      <th>0</th>\n",
       "      <td>190Nm@ 2000rpm</td>\n",
       "      <td>190.000000</td>\n",
       "      <td>nm</td>\n",
       "      <td>2000.0</td>\n",
       "      <td>rpm</td>\n",
       "    </tr>\n",
       "    <tr>\n",
       "      <th>1</th>\n",
       "      <td>250Nm@ 1500-2500rpm</td>\n",
       "      <td>250.000000</td>\n",
       "      <td>nm</td>\n",
       "      <td>2000.0</td>\n",
       "      <td>rpm</td>\n",
       "    </tr>\n",
       "    <tr>\n",
       "      <th>2</th>\n",
       "      <td>12.7@ 2,700(kgm@ rpm)</td>\n",
       "      <td>124.544455</td>\n",
       "      <td>nm</td>\n",
       "      <td>2700.0</td>\n",
       "      <td>rpm</td>\n",
       "    </tr>\n",
       "    <tr>\n",
       "      <th>3</th>\n",
       "      <td>22.4 kgm at 1750-2750rpm</td>\n",
       "      <td>219.668960</td>\n",
       "      <td>nm</td>\n",
       "      <td>2250.0</td>\n",
       "      <td>rpm</td>\n",
       "    </tr>\n",
       "    <tr>\n",
       "      <th>4</th>\n",
       "      <td>11.5@ 4,500(kgm@ rpm)</td>\n",
       "      <td>112.776475</td>\n",
       "      <td>nm</td>\n",
       "      <td>4500.0</td>\n",
       "      <td>rpm</td>\n",
       "    </tr>\n",
       "  </tbody>\n",
       "</table>\n",
       "</div>"
      ],
      "text/plain": [
       "                     torque  torque_val torque_unit  torque_eng_sp_val  \\\n",
       "0            190Nm@ 2000rpm  190.000000          nm             2000.0   \n",
       "1       250Nm@ 1500-2500rpm  250.000000          nm             2000.0   \n",
       "2     12.7@ 2,700(kgm@ rpm)  124.544455          nm             2700.0   \n",
       "3  22.4 kgm at 1750-2750rpm  219.668960          nm             2250.0   \n",
       "4     11.5@ 4,500(kgm@ rpm)  112.776475          nm             4500.0   \n",
       "\n",
       "  torque_eng_sp_unit  \n",
       "0                rpm  \n",
       "1                rpm  \n",
       "2                rpm  \n",
       "3                rpm  \n",
       "4                rpm  "
      ]
     },
     "execution_count": 21,
     "metadata": {},
     "output_type": "execute_result"
    }
   ],
   "source": [
    "raw_data_1.loc[raw_data_1['torque_unit'] == 'kgm', 'torque_val'] = 9.80665 * raw_data_1.loc[raw_data_1['torque_unit'] == 'kgm', 'torque_val']\n",
    "raw_data_1.loc[raw_data_1['torque_unit'] == 'kgm', 'torque_unit'] = 'nm'\n",
    "check_units(raw_data_1, ['torque'])\n",
    "raw_data_1[['torque', 'torque_val', 'torque_unit', 'torque_eng_sp_val', 'torque_eng_sp_unit']].head()"
   ]
  },
  {
   "cell_type": "markdown",
   "id": "a98d59d2",
   "metadata": {},
   "source": [
    "Let's delete *torque_unit, torque_eng_sp_unit* columns and convert *torque_val, torque_eng_sp_val* to numeric data type."
   ]
  },
  {
   "cell_type": "code",
   "execution_count": 22,
   "id": "1cca65d8",
   "metadata": {},
   "outputs": [
    {
     "name": "stdout",
     "output_type": "stream",
     "text": [
      "<class 'pandas.core.frame.DataFrame'>\n",
      "RangeIndex: 8128 entries, 0 to 8127\n",
      "Data columns (total 14 columns):\n",
      " #   Column             Non-Null Count  Dtype  \n",
      "---  ------             --------------  -----  \n",
      " 0   name               8128 non-null   object \n",
      " 1   year               8128 non-null   int64  \n",
      " 2   selling_price      8128 non-null   int64  \n",
      " 3   km_driven          8128 non-null   int64  \n",
      " 4   fuel               8128 non-null   object \n",
      " 5   seller_type        8128 non-null   object \n",
      " 6   transmission       8128 non-null   object \n",
      " 7   owner              8128 non-null   object \n",
      " 8   seats              7907 non-null   float64\n",
      " 9   mileage_kmpu       7907 non-null   float64\n",
      " 10  engine_cc          7907 non-null   float64\n",
      " 11  max_power_bhp      7912 non-null   float64\n",
      " 12  torque_nm          7906 non-null   float64\n",
      " 13  torque_eng_sp_rpm  7872 non-null   float64\n",
      "dtypes: float64(6), int64(3), object(5)\n",
      "memory usage: 889.1+ KB\n"
     ]
    }
   ],
   "source": [
    "# dummy column for function\n",
    "raw_data_1['torque_eng_sp'] = np.nan\n",
    "raw_data_1 = clear_val_unit_cols(raw_data_1, torque_cols)\n",
    "\n",
    "raw_data_1.info()"
   ]
  },
  {
   "cell_type": "markdown",
   "id": "3848813d",
   "metadata": {},
   "source": [
    "Now all columns have right data type and we are ready to explore significance of *torque_nm* and *torque_eng_sp_rpm* columns.\n",
    "\n",
    "### Exploring significance of *torque_nm* and *torque_eng_sp_rpm* columns for future model\n",
    "\n",
    "As was mentioned at the start of Data Cleaing section, we will decide if to clean or drop *torque_nm* and *torque_eng_sp_rpm* columns by analising:\n",
    "1. how hard it is to fill null values in both datasets for this column;\n",
    "2. how significant this column is for future model.\n",
    "\n",
    "There are ways to fill null values for these columns:\n",
    "* in the first dataset there are only 256 null values (~3% of data) in *torque_nm* and *torque_eng_sp_rpm*, so we are able to easiely impute them;\n",
    "* second dataset don't have such columns. We can collect *torque* values by webscraping with the help of *web-scraper-start-url* column, however it is a time-consuming process. That's the reason why we will first check on existing data if these columns are significant for future model before taking such approach.\n",
    "\n",
    "To test significance of *torque_nm* and *torque_eng_sp_rpm* columns, we will plot their non-null values with target column 'selling_price' values and calculate Pearson’s and Spearman’s rank correlation coefficients."
   ]
  },
  {
   "cell_type": "code",
   "execution_count": 23,
   "id": "028ebbc0",
   "metadata": {},
   "outputs": [],
   "source": [
    "def plot_col_signif(df, feat_cols, targ_col, n_rows=1, n_cols=1):\n",
    "    fig, axes = plt.subplots(nrows = n_rows, ncols = n_cols, figsize=(6*n_cols,4*n_rows), squeeze=False, constrained_layout = True)\n",
    "\n",
    "    for i in range(n_rows):\n",
    "        for j in range(n_cols):\n",
    "            try:\n",
    "                feat_col = feat_cols[i*n_cols+j]\n",
    "            except:\n",
    "                plt.show()\n",
    "                return\n",
    "            \n",
    "            pears_corr = df.corr()[feat_col][targ_col]\n",
    "            spear_corr = df.corr(method='spearman')[feat_col][targ_col]\n",
    "\n",
    "            axes[i,j].scatter(df[feat_col], df[targ_col])\n",
    "            axes[i,j].set_xlabel('feature')\n",
    "            axes[i,j].set_ylabel('target')\n",
    "            axes[i,j].set_title(f'Feature: {feat_col}\\nPearson\\'s r = {pears_corr:.2f}\\n Spearman\\'s ρ = {spear_corr:.2f}')\n",
    "            \n",
    "    plt.show()"
   ]
  },
  {
   "cell_type": "code",
   "execution_count": 24,
   "id": "f5b43618",
   "metadata": {},
   "outputs": [
    {
     "data": {
      "image/png": "[encoded data removed]",
      "text/plain": [
       "<Figure size 864x288 with 2 Axes>"
      ]
     },
     "metadata": {
      "needs_background": "light"
     },
     "output_type": "display_data"
    }
   ],
   "source": [
    "plot_col_signif(raw_data_1, ['torque_nm', 'torque_eng_sp_rpm', 'cost_of_km'], 'selling_price', 1, 2)"
   ]
  },
  {
   "cell_type": "markdown",
   "id": "ee6aea1c",
   "metadata": {},
   "source": [
    "*torque_...* columns seem to have outliers, for now we will ignore them."
   ]
  },
  {
   "cell_type": "code",
   "execution_count": 25,
   "id": "a93674e8",
   "metadata": {
    "scrolled": false
   },
   "outputs": [
    {
     "data": {
      "image/png": "[encoded data removed]",
      "text/plain": [
       "<Figure size 864x288 with 2 Axes>"
      ]
     },
     "metadata": {
      "needs_background": "light"
     },
     "output_type": "display_data"
    }
   ],
   "source": [
    "plot_col_signif(raw_data_1[raw_data_1['torque_nm'] < 750], ['torque_nm', 'torque_eng_sp_rpm'], 'selling_price', 1, 2)"
   ]
  },
  {
   "cell_type": "markdown",
   "id": "40d3160d",
   "metadata": {},
   "source": [
    "*torque_eng_sp_rpm* column has low correlation coefficients, so we can confidently drop it. However *torque_nm* moderately correlated with target column, so let's explore correlation coefficients of *selling_price* and *torque_nm* with other columns."
   ]
  },
  {
   "cell_type": "code",
   "execution_count": 26,
   "id": "513d8160",
   "metadata": {},
   "outputs": [
    {
     "data": {
      "image/png": "[encoded data removed]",
      "text/plain": [
       "<Figure size 432x288 with 2 Axes>"
      ]
     },
     "metadata": {
      "needs_background": "light"
     },
     "output_type": "display_data"
    }
   ],
   "source": [
    "raw_data_1.drop(columns='torque_eng_sp_rpm', inplace=True)\n",
    "\n",
    "ax = sns.heatmap(\n",
    "    raw_data_1[raw_data_1['torque_nm'] < 750].corr()[['selling_price', 'torque_nm']].abs().sort_values('selling_price',ascending=False),\n",
    "    annot=True\n",
    ")\n",
    "ax.set_title('Pearson\\'s r')\n",
    "plt.show()"
   ]
  },
  {
   "cell_type": "code",
   "execution_count": 27,
   "id": "79ceca30",
   "metadata": {},
   "outputs": [
    {
     "data": {
      "image/png": "[encoded data removed]",
      "text/plain": [
       "<Figure size 432x288 with 2 Axes>"
      ]
     },
     "metadata": {
      "needs_background": "light"
     },
     "output_type": "display_data"
    }
   ],
   "source": [
    "ax = sns.heatmap(\n",
    "    raw_data_1[raw_data_1['torque_nm'] < 750].corr(method='spearman')[['selling_price', 'torque_nm']].abs().sort_values('selling_price',ascending=False),\n",
    "    annot=True\n",
    ")\n",
    "ax.set_title('Spearman\\'s ρ')\n",
    "plt.show()"
   ]
  },
  {
   "cell_type": "markdown",
   "id": "e42cc341",
   "metadata": {},
   "source": [
    "Correlation matrixes show that *torque_nm* has one of the highest correlation coefficients with target column in comparison with other features. At the same time it is highly correlated with *max_power_bhp*, which has even higher correlation coefficients with target column. \n",
    "\n",
    "Since filling value for *torque_nm* column in second dataset is a time-consuming process and there is a field in the dataset which highly correlates with it, we will drop this column from the first dataset."
   ]
  },
  {
   "cell_type": "code",
   "execution_count": 28,
   "id": "ea8cfb94",
   "metadata": {},
   "outputs": [],
   "source": [
    "raw_data_1.drop(columns='torque_nm', inplace=True)"
   ]
  }
 ],
 "metadata": {
  "kernelspec": {
   "display_name": "Python 3 (ipykernel)",
   "language": "python",
   "name": "python3"
  },
  "language_info": {
   "codemirror_mode": {
    "name": "ipython",
    "version": 3
   },
   "file_extension": ".py",
   "mimetype": "text/x-python",
   "name": "python",
   "nbconvert_exporter": "python",
   "pygments_lexer": "ipython3",
   "version": "3.9.7"
  },
  "papermill": {
   "default_parameters": {},
   "duration": 48.908203,
   "end_time": "2022-03-07T07:53:38.931069",
   "environment_variables": {},
   "exception": null,
   "input_path": "__notebook__.ipynb",
   "output_path": "__notebook__.ipynb",
   "parameters": {},
   "start_time": "2022-03-07T07:52:50.022866",
   "version": "2.3.3"
  }
 },
 "nbformat": 4,
 "nbformat_minor": 5
}
